{
 "cells": [
  {
   "cell_type": "code",
   "execution_count": null,
   "metadata": {
    "collapsed": true
   },
   "outputs": [],
   "source": [
    "import pandas as pd\n",
    "import numpy as np\n",
    "import math\n",
    "import seaborn as sns\n",
    "from datetime import date\n",
    "import datetime\n",
    "from sklearn.linear_model import LinearRegression\n",
    "from sklearn.model_selection import train_test_split\n",
    "from sklearn.model_selection import cross_val_score\n",
    "from sklearn import metrics\n",
    "import six\n",
    "from scipy import stats\n",
    "import matplotlib.pyplot as plt\n",
    "%matplotlib inline\n",
    "from pylab import rcParams\n",
    "rcParams['figure.figsize'] = 16, 9"
   ]
  },
  {
   "cell_type": "code",
   "execution_count": null,
   "metadata": {
    "collapsed": false
   },
   "outputs": [],
   "source": [
    "df= pd.read_csv('C:\\\\Users\\\\hp\\\\Desktop\\\\5th Semester\\\\Computational Social Science\\\\project\\\\HMXPC13_DI_v2_5-14-14.csv')"
   ]
  },
  {
   "cell_type": "code",
   "execution_count": null,
   "metadata": {
    "collapsed": false
   },
   "outputs": [],
   "source": [
    "df.head(5)"
   ]
  },
  {
   "cell_type": "code",
   "execution_count": null,
   "metadata": {
    "collapsed": false
   },
   "outputs": [],
   "source": [
    "# We get a global variable of rowCount \n",
    "rowCount = df.shape[0]\n",
    "print(\"Total Number of Rows:\",rowCount)"
   ]
  },
  {
   "cell_type": "code",
   "execution_count": null,
   "metadata": {
    "collapsed": true
   },
   "outputs": [],
   "source": [
    "def percentage(part, whole):\n",
    "  return 100 * float(part)/float(whole)"
   ]
  },
  {
   "cell_type": "code",
   "execution_count": null,
   "metadata": {
    "collapsed": false
   },
   "outputs": [],
   "source": [
    "# ------------------------------------------------- Course Id -----------------------------------------------------------------# \n",
    "\n",
    "# First we clean the data for column course_id\n",
    "df['course_id']\n",
    "df['course'], df['extra_data'] = df['course_id'].str.split('/', 1).str\n",
    "df['pre_id'], df['year_semester'] = df['extra_data'].str.split('/', 1).str\n",
    "df['year'], df['semester'] = df['year_semester'].str.split('_', 1).str\n",
    "\n",
    "# drop unnecessary data as it was not needed anymore. \n",
    "print(\"dropping column year_semester,extra_data and course_id \")\n",
    "df = df.drop(['year_semester', 'extra_data', 'course_id'], axis=1)"
   ]
  },
  {
   "cell_type": "code",
   "execution_count": null,
   "metadata": {
    "collapsed": false
   },
   "outputs": [],
   "source": [
    "# ------------------------------------------------- Registered --------------------------------------------------------------- # \n",
    "\n",
    "# check all unique values for registered\n",
    "print(\"All unique values for registered are:\",df['registered'].unique())\n",
    "\n",
    "# Since all participants are registered , hence we can drop this column as it wont have an effect on grade. \n",
    "print(\"dropping column registered\")\n",
    "df = df.drop(['registered'], axis=1)"
   ]
  },
  {
   "cell_type": "code",
   "execution_count": null,
   "metadata": {
    "collapsed": false
   },
   "outputs": [],
   "source": [
    "# --------------------------------------------------- Viewed ---------------------------------------------------------------- # \n",
    "print(\"All unique values for viewed are:\",df['viewed'].unique())\n",
    "# [0 1] shows that either the person has viewed a course or not.\n",
    "# No need to clean any data in this column as no NaN values exist.\n",
    "\n",
    "viewed = df.query('viewed == 1')['viewed'].count()\n",
    "print(\"Number of people who viewed the courses are:\",viewed)\n",
    "\n",
    "perViewed = percentage(viewed, rowCount)\n",
    "print(\"Almost\",perViewed,\"% people viewed the courses\")"
   ]
  },
  {
   "cell_type": "code",
   "execution_count": null,
   "metadata": {
    "collapsed": false
   },
   "outputs": [],
   "source": [
    "# --------------------------------------------------- Explored ---------------------------------------------------------------- # \n",
    "print(\"All unique values for explored are:\",df['explored'].unique())\n",
    "# [0 1] shows that either the person has explored a course or not.\n",
    "# No need to clean any data in this column as no NaN values exist.\n",
    "\n",
    "explored = df.query('explored == 1')['explored'].count()\n",
    "print(\"Number of people explored are:\",explored)\n",
    "\n",
    "perExplored = percentage(explored, rowCount)\n",
    "print(\"Only\",perExplored,\"% people explored the courses\")"
   ]
  },
  {
   "cell_type": "code",
   "execution_count": null,
   "metadata": {
    "collapsed": false
   },
   "outputs": [],
   "source": [
    "# --------------------------------------------------- Certified ---------------------------------------------------------------- # \n",
    "print(\"All unique values for certified are:\",df['certified'].unique())\n",
    "# [0 1] shows that either the person has certified a course or not.\n",
    "# No need to clean any data in this column as no NaN values exist.\n",
    "\n",
    "certified = df.query('certified == 1')['certified'].count()\n",
    "print(\"Number of people certified are:\",certified)\n",
    "\n",
    "perCertified = percentage(certified, rowCount)\n",
    "print(\"Only\",perCertified,\"% people certified the courses\")"
   ]
  },
  {
   "cell_type": "code",
   "execution_count": null,
   "metadata": {
    "collapsed": false
   },
   "outputs": [],
   "source": [
    "# -------------------------------------------- Incomplete and Role ----------------------------------------------------------- # \n",
    "\n",
    "# incomplete flag and roles have mostly Null values and are only used for administration, thus we drop them.\n",
    "print(\"dropping columns roles and incomplete_flag\")\n",
    "df = df.drop(['roles', 'incomplete_flag'], axis=1)"
   ]
  },
  {
   "cell_type": "code",
   "execution_count": null,
   "metadata": {
    "collapsed": false
   },
   "outputs": [],
   "source": [
    "# -------------------------------------------- final_cc_cname_DI ------------------------------------------------------------- # \n",
    "\n",
    "# print(df['final_cc_cname_DI'].value_counts(dropna= False))"
   ]
  },
  {
   "cell_type": "code",
   "execution_count": null,
   "metadata": {
    "collapsed": false
   },
   "outputs": [],
   "source": [
    "# ------------------------------------------- Level of Education ------------------------------------------------------------ # \n",
    "\n",
    "dff = df\n",
    "# Creating Dictionary as Key:Value Pair for all level of Education and their counts\n",
    "allLevels = df['LoE_DI'].value_counts().index.tolist()\n",
    "allLevelValues = df['LoE_DI'].value_counts(dropna= True)\n",
    "nullVals = df['LoE_DI'].isnull().sum()\n",
    "# Initiate Dictionary\n",
    "dict = {0: {'level': 'NaN', 'value': nullVals}}\n",
    "i = 1; j = 0\n",
    "for level in allLevels:\n",
    "    dict[i] = {'level': level, 'value': allLevelValues[j] }\n",
    "    i = i + 1\n",
    "    j = j + 1\n",
    "    \n",
    "remainingValues = rowCount - dict[0]['value']\n",
    "\n",
    "# print(dict)    \n",
    "for k,v in dict.items():\n",
    "    dict[k]['percentage'] = percentage(dict[k]['value'], rowCount)\n",
    "    dict[k]['percentageWithoutNaN'] = percentage(dict[k]['value'], remainingValues)\n",
    "    dict[k]['rowsToAdd'] = int(round(dict[k]['percentageWithoutNaN'] / 100 * dict[0]['value']))\n",
    "\n",
    "dict[0]['percentageWithoutNaN'] = None\n",
    "dict[0]['rowsToAdd'] = None\n",
    "\n",
    "# TODO :  Fill top rowsToAdd values with respective level\n",
    "\n",
    "\n",
    "print(dict)"
   ]
  },
  {
   "cell_type": "code",
   "execution_count": null,
   "metadata": {
    "collapsed": true
   },
   "outputs": [],
   "source": [
    "# Rough Work and Important functions : \n",
    "# nunique()\n",
    "# unique()\n",
    "# df.drop\n",
    "# print(df['certified'].value_counts(dropna= False))\n",
    "# \n",
    "# \n",
    "# \n",
    "# \n",
    "# \n",
    "# \n",
    "# \n",
    "# \n",
    "# \n",
    "# \n",
    "# \n",
    "# \n"
   ]
  }
 ],
 "metadata": {
  "anaconda-cloud": {},
  "kernelspec": {
   "display_name": "Python [conda root]",
   "language": "python",
   "name": "conda-root-py"
  },
  "language_info": {
   "codemirror_mode": {
    "name": "ipython",
    "version": 3
   },
   "file_extension": ".py",
   "mimetype": "text/x-python",
   "name": "python",
   "nbconvert_exporter": "python",
   "pygments_lexer": "ipython3",
   "version": "3.5.2"
  }
 },
 "nbformat": 4,
 "nbformat_minor": 1
}
