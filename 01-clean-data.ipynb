{
 "cells": [
  {
   "cell_type": "code",
   "execution_count": 161,
   "metadata": {
    "collapsed": true
   },
   "outputs": [],
   "source": [
    "import pandas as pd\n",
    "import numpy as np\n",
    "import math\n",
    "import seaborn as sns\n",
    "from datetime import date\n",
    "import datetime\n",
    "from sklearn.linear_model import LinearRegression\n",
    "from sklearn.model_selection import train_test_split\n",
    "from sklearn.model_selection import cross_val_score\n",
    "from sklearn import metrics\n",
    "import six\n",
    "from scipy import stats\n",
    "import matplotlib.pyplot as plt\n",
    "%matplotlib inline\n",
    "from pylab import rcParams\n",
    "rcParams['figure.figsize'] = 16, 9"
   ]
  },
  {
   "cell_type": "code",
   "execution_count": 162,
   "metadata": {
    "collapsed": false
   },
   "outputs": [],
   "source": [
    "df= pd.read_csv('C:\\\\Users\\\\hp\\\\Desktop\\\\5th Semester\\\\Computational Social Science\\\\project\\\\HMXPC13_DI_v2_5-14-14.csv')"
   ]
  },
  {
   "cell_type": "code",
   "execution_count": 163,
   "metadata": {
    "collapsed": false
   },
   "outputs": [
    {
     "data": {
      "text/html": [
       "<div>\n",
       "<style>\n",
       "    .dataframe thead tr:only-child th {\n",
       "        text-align: right;\n",
       "    }\n",
       "\n",
       "    .dataframe thead th {\n",
       "        text-align: left;\n",
       "    }\n",
       "\n",
       "    .dataframe tbody tr th {\n",
       "        vertical-align: top;\n",
       "    }\n",
       "</style>\n",
       "<table border=\"1\" class=\"dataframe\">\n",
       "  <thead>\n",
       "    <tr style=\"text-align: right;\">\n",
       "      <th></th>\n",
       "      <th>course_id</th>\n",
       "      <th>userid_DI</th>\n",
       "      <th>registered</th>\n",
       "      <th>viewed</th>\n",
       "      <th>explored</th>\n",
       "      <th>certified</th>\n",
       "      <th>final_cc_cname_DI</th>\n",
       "      <th>LoE_DI</th>\n",
       "      <th>YoB</th>\n",
       "      <th>gender</th>\n",
       "      <th>grade</th>\n",
       "      <th>start_time_DI</th>\n",
       "      <th>last_event_DI</th>\n",
       "      <th>nevents</th>\n",
       "      <th>ndays_act</th>\n",
       "      <th>nplay_video</th>\n",
       "      <th>nchapters</th>\n",
       "      <th>nforum_posts</th>\n",
       "      <th>roles</th>\n",
       "      <th>incomplete_flag</th>\n",
       "    </tr>\n",
       "  </thead>\n",
       "  <tbody>\n",
       "    <tr>\n",
       "      <th>0</th>\n",
       "      <td>HarvardX/CB22x/2013_Spring</td>\n",
       "      <td>MHxPC130442623</td>\n",
       "      <td>1</td>\n",
       "      <td>0</td>\n",
       "      <td>0</td>\n",
       "      <td>0</td>\n",
       "      <td>United States</td>\n",
       "      <td>NaN</td>\n",
       "      <td>NaN</td>\n",
       "      <td>NaN</td>\n",
       "      <td>0</td>\n",
       "      <td>2012-12-19</td>\n",
       "      <td>2013-11-17</td>\n",
       "      <td>NaN</td>\n",
       "      <td>9.0</td>\n",
       "      <td>NaN</td>\n",
       "      <td>NaN</td>\n",
       "      <td>0</td>\n",
       "      <td>NaN</td>\n",
       "      <td>1.0</td>\n",
       "    </tr>\n",
       "    <tr>\n",
       "      <th>1</th>\n",
       "      <td>HarvardX/CS50x/2012</td>\n",
       "      <td>MHxPC130442623</td>\n",
       "      <td>1</td>\n",
       "      <td>1</td>\n",
       "      <td>0</td>\n",
       "      <td>0</td>\n",
       "      <td>United States</td>\n",
       "      <td>NaN</td>\n",
       "      <td>NaN</td>\n",
       "      <td>NaN</td>\n",
       "      <td>0</td>\n",
       "      <td>2012-10-15</td>\n",
       "      <td>NaN</td>\n",
       "      <td>NaN</td>\n",
       "      <td>9.0</td>\n",
       "      <td>NaN</td>\n",
       "      <td>1.0</td>\n",
       "      <td>0</td>\n",
       "      <td>NaN</td>\n",
       "      <td>1.0</td>\n",
       "    </tr>\n",
       "    <tr>\n",
       "      <th>2</th>\n",
       "      <td>HarvardX/CB22x/2013_Spring</td>\n",
       "      <td>MHxPC130275857</td>\n",
       "      <td>1</td>\n",
       "      <td>0</td>\n",
       "      <td>0</td>\n",
       "      <td>0</td>\n",
       "      <td>United States</td>\n",
       "      <td>NaN</td>\n",
       "      <td>NaN</td>\n",
       "      <td>NaN</td>\n",
       "      <td>0</td>\n",
       "      <td>2013-02-08</td>\n",
       "      <td>2013-11-17</td>\n",
       "      <td>NaN</td>\n",
       "      <td>16.0</td>\n",
       "      <td>NaN</td>\n",
       "      <td>NaN</td>\n",
       "      <td>0</td>\n",
       "      <td>NaN</td>\n",
       "      <td>1.0</td>\n",
       "    </tr>\n",
       "    <tr>\n",
       "      <th>3</th>\n",
       "      <td>HarvardX/CS50x/2012</td>\n",
       "      <td>MHxPC130275857</td>\n",
       "      <td>1</td>\n",
       "      <td>0</td>\n",
       "      <td>0</td>\n",
       "      <td>0</td>\n",
       "      <td>United States</td>\n",
       "      <td>NaN</td>\n",
       "      <td>NaN</td>\n",
       "      <td>NaN</td>\n",
       "      <td>0</td>\n",
       "      <td>2012-09-17</td>\n",
       "      <td>NaN</td>\n",
       "      <td>NaN</td>\n",
       "      <td>16.0</td>\n",
       "      <td>NaN</td>\n",
       "      <td>NaN</td>\n",
       "      <td>0</td>\n",
       "      <td>NaN</td>\n",
       "      <td>1.0</td>\n",
       "    </tr>\n",
       "    <tr>\n",
       "      <th>4</th>\n",
       "      <td>HarvardX/ER22x/2013_Spring</td>\n",
       "      <td>MHxPC130275857</td>\n",
       "      <td>1</td>\n",
       "      <td>0</td>\n",
       "      <td>0</td>\n",
       "      <td>0</td>\n",
       "      <td>United States</td>\n",
       "      <td>NaN</td>\n",
       "      <td>NaN</td>\n",
       "      <td>NaN</td>\n",
       "      <td>0</td>\n",
       "      <td>2012-12-19</td>\n",
       "      <td>NaN</td>\n",
       "      <td>NaN</td>\n",
       "      <td>16.0</td>\n",
       "      <td>NaN</td>\n",
       "      <td>NaN</td>\n",
       "      <td>0</td>\n",
       "      <td>NaN</td>\n",
       "      <td>1.0</td>\n",
       "    </tr>\n",
       "  </tbody>\n",
       "</table>\n",
       "</div>"
      ],
      "text/plain": [
       "                    course_id       userid_DI  registered  viewed  explored  \\\n",
       "0  HarvardX/CB22x/2013_Spring  MHxPC130442623           1       0         0   \n",
       "1         HarvardX/CS50x/2012  MHxPC130442623           1       1         0   \n",
       "2  HarvardX/CB22x/2013_Spring  MHxPC130275857           1       0         0   \n",
       "3         HarvardX/CS50x/2012  MHxPC130275857           1       0         0   \n",
       "4  HarvardX/ER22x/2013_Spring  MHxPC130275857           1       0         0   \n",
       "\n",
       "   certified final_cc_cname_DI LoE_DI  YoB gender grade start_time_DI  \\\n",
       "0          0     United States    NaN  NaN    NaN     0    2012-12-19   \n",
       "1          0     United States    NaN  NaN    NaN     0    2012-10-15   \n",
       "2          0     United States    NaN  NaN    NaN     0    2013-02-08   \n",
       "3          0     United States    NaN  NaN    NaN     0    2012-09-17   \n",
       "4          0     United States    NaN  NaN    NaN     0    2012-12-19   \n",
       "\n",
       "  last_event_DI  nevents  ndays_act  nplay_video  nchapters  nforum_posts  \\\n",
       "0    2013-11-17      NaN        9.0          NaN        NaN             0   \n",
       "1           NaN      NaN        9.0          NaN        1.0             0   \n",
       "2    2013-11-17      NaN       16.0          NaN        NaN             0   \n",
       "3           NaN      NaN       16.0          NaN        NaN             0   \n",
       "4           NaN      NaN       16.0          NaN        NaN             0   \n",
       "\n",
       "   roles  incomplete_flag  \n",
       "0    NaN              1.0  \n",
       "1    NaN              1.0  \n",
       "2    NaN              1.0  \n",
       "3    NaN              1.0  \n",
       "4    NaN              1.0  "
      ]
     },
     "execution_count": 163,
     "metadata": {},
     "output_type": "execute_result"
    }
   ],
   "source": [
    "df.head(5)"
   ]
  },
  {
   "cell_type": "code",
   "execution_count": 164,
   "metadata": {
    "collapsed": false
   },
   "outputs": [],
   "source": [
    "# We get a global variable of rowCount \n",
    "rowCount = df.shape[0]"
   ]
  },
  {
   "cell_type": "code",
   "execution_count": 165,
   "metadata": {
    "collapsed": false
   },
   "outputs": [
    {
     "name": "stdout",
     "output_type": "stream",
     "text": [
      "dropping column year_semester,extra_data and course_id \n"
     ]
    }
   ],
   "source": [
    "# ------------------------------------------------- Course Id -----------------------------------------------------------------# \n",
    "\n",
    "# First we clean the data for column course_id\n",
    "df['course_id']\n",
    "df['course'], df['extra_data'] = df['course_id'].str.split('/', 1).str\n",
    "df['pre_id'], df['year_semester'] = df['extra_data'].str.split('/', 1).str\n",
    "df['year'], df['semester'] = df['year_semester'].str.split('_', 1).str\n",
    "\n",
    "# drop unnecessary data as it was not needed anymore. \n",
    "print(\"dropping column year_semester,extra_data and course_id \")\n",
    "df = df.drop(['year_semester', 'extra_data', 'course_id'], axis=1)"
   ]
  },
  {
   "cell_type": "code",
   "execution_count": 166,
   "metadata": {
    "collapsed": false
   },
   "outputs": [
    {
     "name": "stdout",
     "output_type": "stream",
     "text": [
      "All unique values for registered are: [1]\n",
      "dropping column registered\n"
     ]
    }
   ],
   "source": [
    "# ------------------------------------------------- Registered --------------------------------------------------------------- # \n",
    "\n",
    "# check all unique values for registered\n",
    "print(\"All unique values for registered are:\",df['registered'].unique())\n",
    "\n",
    "# Since all participants are registered , hence we can drop this column as it wont have an effect on grade. \n",
    "print(\"dropping column registered\")\n",
    "df = df.drop(['registered'], axis=1)"
   ]
  },
  {
   "cell_type": "code",
   "execution_count": 167,
   "metadata": {
    "collapsed": false
   },
   "outputs": [
    {
     "name": "stdout",
     "output_type": "stream",
     "text": [
      "All unique values for viewed are: [0 1]\n",
      "Number of people who viewed the courses are: 400262\n",
      "Almost 62.42992928199545 % people viewed the courses\n"
     ]
    }
   ],
   "source": [
    "# --------------------------------------------------- Viewed ---------------------------------------------------------------- # \n",
    "print(\"All unique values for viewed are:\",df['viewed'].unique())\n",
    "# [0 1] shows that either the person has viewed a course or not.\n",
    "# No need to clean any data in this column as no NaN values exist.\n",
    "\n",
    "viewed = df.query('viewed == 1')['viewed'].count()\n",
    "print(\"Number of people who viewed the courses are:\",viewed)\n",
    "\n",
    "perViewed = percentage(viewed, rowCount)\n",
    "print(\"Almost\",perViewed,\"% people viewed the courses\")"
   ]
  },
  {
   "cell_type": "code",
   "execution_count": 168,
   "metadata": {
    "collapsed": false
   },
   "outputs": [
    {
     "name": "stdout",
     "output_type": "stream",
     "text": [
      "All unique values for explored are: [0 1]\n",
      "Number of people explored are: 39686\n",
      "Only 6.189931028889256 % people explored the courses\n"
     ]
    }
   ],
   "source": [
    "# --------------------------------------------------- Explored ---------------------------------------------------------------- # \n",
    "print(\"All unique values for explored are:\",df['explored'].unique())\n",
    "# [0 1] shows that either the person has explored a course or not.\n",
    "# No need to clean any data in this column as no NaN values exist.\n",
    "\n",
    "explored = df.query('explored == 1')['explored'].count()\n",
    "print(\"Number of people explored are:\",explored)\n",
    "\n",
    "perExplored = percentage(explored, rowCount)\n",
    "print(\"Only\",perExplored,\"% people explored the courses\")"
   ]
  },
  {
   "cell_type": "code",
   "execution_count": 169,
   "metadata": {
    "collapsed": false
   },
   "outputs": [
    {
     "name": "stdout",
     "output_type": "stream",
     "text": [
      "All unique values for certified are: [0 1]\n",
      "Number of people certified are: 17687\n",
      "Only 2.7586884570872416 % people certified the courses\n"
     ]
    }
   ],
   "source": [
    "# --------------------------------------------------- Certified ---------------------------------------------------------------- # \n",
    "print(\"All unique values for certified are:\",df['certified'].unique())\n",
    "# [0 1] shows that either the person has certified a course or not.\n",
    "# No need to clean any data in this column as no NaN values exist.\n",
    "\n",
    "certified = df.query('certified == 1')['certified'].count()\n",
    "print(\"Number of people certified are:\",certified)\n",
    "\n",
    "perCertified = percentage(certified, rowCount)\n",
    "print(\"Only\",perCertified,\"% people certified the courses\")"
   ]
  },
  {
   "cell_type": "code",
   "execution_count": 170,
   "metadata": {
    "collapsed": false
   },
   "outputs": [],
   "source": [
    "def percentage(part, whole):\n",
    "  return 100 * float(part)/float(whole)"
   ]
  },
  {
   "cell_type": "code",
   "execution_count": 171,
   "metadata": {
    "collapsed": false
   },
   "outputs": [
    {
     "name": "stdout",
     "output_type": "stream",
     "text": [
      "dropping columns roles and incomplete_flag\n"
     ]
    }
   ],
   "source": [
    "# -------------------------------------------- Incomplete and Role ----------------------------------------------------------- # \n",
    "\n",
    "# incomplete flag and roles have mostly Null values and are only used for administration, thus we drop them.\n",
    "print(\"dropping columns roles and incomplete_flag\")\n",
    "df = df.drop(['roles', 'incomplete_flag'], axis=1)"
   ]
  },
  {
   "cell_type": "code",
   "execution_count": 173,
   "metadata": {
    "collapsed": true
   },
   "outputs": [],
   "source": [
    "# Rough Work and Important functions : \n",
    "# nunique()\n",
    "# unique()\n",
    "# df.drop\n",
    "# print(df['certified'].value_counts(dropna= False))\n",
    "# \n",
    "# \n",
    "# \n",
    "# \n",
    "# \n",
    "# \n",
    "# \n",
    "# \n",
    "# \n",
    "# \n",
    "# \n",
    "# \n"
   ]
  }
 ],
 "metadata": {
  "kernelspec": {
   "display_name": "Python [conda root]",
   "language": "python",
   "name": "conda-root-py"
  },
  "language_info": {
   "codemirror_mode": {
    "name": "ipython",
    "version": 3
   },
   "file_extension": ".py",
   "mimetype": "text/x-python",
   "name": "python",
   "nbconvert_exporter": "python",
   "pygments_lexer": "ipython3",
   "version": "3.5.2"
  }
 },
 "nbformat": 4,
 "nbformat_minor": 1
}
