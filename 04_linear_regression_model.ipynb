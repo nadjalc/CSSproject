{
 "cells": [
  {
   "cell_type": "code",
   "execution_count": 1,
   "metadata": {
    "collapsed": true
   },
   "outputs": [],
   "source": [
    "import pandas as pd\n",
    "import numpy as np\n",
    "import math\n",
    "import seaborn as sns\n",
    "from datetime import date\n",
    "import datetime\n",
    "from sklearn.linear_model import LinearRegression\n",
    "from sklearn.model_selection import train_test_split\n",
    "from sklearn.model_selection import cross_val_score\n",
    "from sklearn import metrics\n",
    "import sklearn as sk\n",
    "import six\n",
    "from scipy import stats\n",
    "import matplotlib.pyplot as plt\n",
    "%matplotlib inline\n",
    "from pylab import rcParams\n",
    "rcParams['figure.figsize'] = 16, 9"
   ]
  },
  {
   "cell_type": "code",
   "execution_count": 2,
   "metadata": {
    "collapsed": true
   },
   "outputs": [],
   "source": [
    "data = pd.read_csv('cleaned_data.csv')"
   ]
  },
  {
   "cell_type": "markdown",
   "metadata": {},
   "source": [
    "# Multicollinearity checking\n",
    "\n",
    "#### Based on research we drop one of dummy variables for each group (Gender, Year of birth, Level of education) of dummy created variables. This aproach is based on seperating one referent variable, usually the one with most rows."
   ]
  },
  {
   "cell_type": "code",
   "execution_count": 3,
   "metadata": {
    "collapsed": true
   },
   "outputs": [],
   "source": [
    "variables = data.drop(['course_id', 'userid_DI', 'grade', 'Unknown/Other', 'UnknownLoE','u', 'o', 'm', 'YoB' ], axis=1)\n",
    "#droping:\n",
    "# descriptive columns that are not considered as variables like course id\n",
    "# grade\n",
    "# u and o columns because they have no remining values\n",
    "# one referent variable for each group of dummy variables"
   ]
  },
  {
   "cell_type": "code",
   "execution_count": 4,
   "metadata": {
    "collapsed": true
   },
   "outputs": [],
   "source": [
    "correlations = variables.corr()"
   ]
  },
  {
   "cell_type": "code",
   "execution_count": 5,
   "metadata": {
    "collapsed": true
   },
   "outputs": [],
   "source": [
    "w, v = np.linalg.eig(correlations) #compute the eigenvalues and right eigenvectors\n",
    "# w is array of eigenvalues\n",
    "# v is array of normalized eigenvectors"
   ]
  },
  {
   "cell_type": "code",
   "execution_count": 6,
   "metadata": {
    "collapsed": true
   },
   "outputs": [],
   "source": [
    "df = pd.DataFrame(columns= ['variables', 'w'])"
   ]
  },
  {
   "cell_type": "code",
   "execution_count": 7,
   "metadata": {
    "collapsed": true
   },
   "outputs": [],
   "source": [
    "df['variables'] = correlations.columns\n",
    "df['w'] = w"
   ]
  },
  {
   "cell_type": "code",
   "execution_count": 8,
   "metadata": {},
   "outputs": [
    {
     "data": {
      "text/html": [
       "<div>\n",
       "<style>\n",
       "    .dataframe thead tr:only-child th {\n",
       "        text-align: right;\n",
       "    }\n",
       "\n",
       "    .dataframe thead th {\n",
       "        text-align: left;\n",
       "    }\n",
       "\n",
       "    .dataframe tbody tr th {\n",
       "        vertical-align: top;\n",
       "    }\n",
       "</style>\n",
       "<table border=\"1\" class=\"dataframe\">\n",
       "  <thead>\n",
       "    <tr style=\"text-align: right;\">\n",
       "      <th></th>\n",
       "      <th>variables</th>\n",
       "      <th>w</th>\n",
       "    </tr>\n",
       "  </thead>\n",
       "  <tbody>\n",
       "    <tr>\n",
       "      <th>0</th>\n",
       "      <td>viewed</td>\n",
       "      <td>3.918071</td>\n",
       "    </tr>\n",
       "    <tr>\n",
       "      <th>1</th>\n",
       "      <td>explored</td>\n",
       "      <td>1.930139</td>\n",
       "    </tr>\n",
       "    <tr>\n",
       "      <th>2</th>\n",
       "      <td>nevents</td>\n",
       "      <td>0.039928</td>\n",
       "    </tr>\n",
       "    <tr>\n",
       "      <th>3</th>\n",
       "      <td>ndays_act</td>\n",
       "      <td>0.124346</td>\n",
       "    </tr>\n",
       "    <tr>\n",
       "      <th>4</th>\n",
       "      <td>nplay_video</td>\n",
       "      <td>0.164388</td>\n",
       "    </tr>\n",
       "    <tr>\n",
       "      <th>5</th>\n",
       "      <td>nchapters</td>\n",
       "      <td>0.154892</td>\n",
       "    </tr>\n",
       "    <tr>\n",
       "      <th>6</th>\n",
       "      <td>nforum_posts</td>\n",
       "      <td>1.604177</td>\n",
       "    </tr>\n",
       "    <tr>\n",
       "      <th>7</th>\n",
       "      <td>Australia</td>\n",
       "      <td>0.322393</td>\n",
       "    </tr>\n",
       "    <tr>\n",
       "      <th>8</th>\n",
       "      <td>Bangladesh</td>\n",
       "      <td>0.444625</td>\n",
       "    </tr>\n",
       "    <tr>\n",
       "      <th>9</th>\n",
       "      <td>Brazil</td>\n",
       "      <td>1.394412</td>\n",
       "    </tr>\n",
       "    <tr>\n",
       "      <th>10</th>\n",
       "      <td>Canada</td>\n",
       "      <td>0.667113</td>\n",
       "    </tr>\n",
       "    <tr>\n",
       "      <th>11</th>\n",
       "      <td>China</td>\n",
       "      <td>0.757739</td>\n",
       "    </tr>\n",
       "    <tr>\n",
       "      <th>12</th>\n",
       "      <td>Colombia</td>\n",
       "      <td>0.859359</td>\n",
       "    </tr>\n",
       "    <tr>\n",
       "      <th>13</th>\n",
       "      <td>Egypt</td>\n",
       "      <td>1.152118</td>\n",
       "    </tr>\n",
       "    <tr>\n",
       "      <th>14</th>\n",
       "      <td>France</td>\n",
       "      <td>1.139069</td>\n",
       "    </tr>\n",
       "    <tr>\n",
       "      <th>15</th>\n",
       "      <td>Germany</td>\n",
       "      <td>0.899823</td>\n",
       "    </tr>\n",
       "    <tr>\n",
       "      <th>16</th>\n",
       "      <td>Greece</td>\n",
       "      <td>1.114429</td>\n",
       "    </tr>\n",
       "    <tr>\n",
       "      <th>17</th>\n",
       "      <td>India</td>\n",
       "      <td>0.914321</td>\n",
       "    </tr>\n",
       "    <tr>\n",
       "      <th>18</th>\n",
       "      <td>Indonesia</td>\n",
       "      <td>1.088281</td>\n",
       "    </tr>\n",
       "    <tr>\n",
       "      <th>19</th>\n",
       "      <td>Japan</td>\n",
       "      <td>1.052507</td>\n",
       "    </tr>\n",
       "    <tr>\n",
       "      <th>20</th>\n",
       "      <td>Mexico</td>\n",
       "      <td>0.969905</td>\n",
       "    </tr>\n",
       "    <tr>\n",
       "      <th>21</th>\n",
       "      <td>Morocco</td>\n",
       "      <td>1.038312</td>\n",
       "    </tr>\n",
       "    <tr>\n",
       "      <th>22</th>\n",
       "      <td>Nigeria</td>\n",
       "      <td>0.983324</td>\n",
       "    </tr>\n",
       "    <tr>\n",
       "      <th>23</th>\n",
       "      <td>Other Africa</td>\n",
       "      <td>1.028774</td>\n",
       "    </tr>\n",
       "    <tr>\n",
       "      <th>24</th>\n",
       "      <td>Other East Asia</td>\n",
       "      <td>1.026958</td>\n",
       "    </tr>\n",
       "    <tr>\n",
       "      <th>25</th>\n",
       "      <td>Other Europe</td>\n",
       "      <td>1.025571</td>\n",
       "    </tr>\n",
       "    <tr>\n",
       "      <th>26</th>\n",
       "      <td>Other Middle East/Central Asia</td>\n",
       "      <td>0.995803</td>\n",
       "    </tr>\n",
       "    <tr>\n",
       "      <th>27</th>\n",
       "      <td>Other North &amp; Central Amer., Caribbean</td>\n",
       "      <td>1.021003</td>\n",
       "    </tr>\n",
       "    <tr>\n",
       "      <th>28</th>\n",
       "      <td>Other Oceania</td>\n",
       "      <td>1.019591</td>\n",
       "    </tr>\n",
       "    <tr>\n",
       "      <th>29</th>\n",
       "      <td>Other South America</td>\n",
       "      <td>0.997893</td>\n",
       "    </tr>\n",
       "    <tr>\n",
       "      <th>30</th>\n",
       "      <td>Other South Asia</td>\n",
       "      <td>1.017801</td>\n",
       "    </tr>\n",
       "    <tr>\n",
       "      <th>31</th>\n",
       "      <td>Pakistan</td>\n",
       "      <td>1.015588</td>\n",
       "    </tr>\n",
       "    <tr>\n",
       "      <th>32</th>\n",
       "      <td>Philippines</td>\n",
       "      <td>1.000748</td>\n",
       "    </tr>\n",
       "    <tr>\n",
       "      <th>33</th>\n",
       "      <td>Poland</td>\n",
       "      <td>1.012947</td>\n",
       "    </tr>\n",
       "    <tr>\n",
       "      <th>34</th>\n",
       "      <td>Portugal</td>\n",
       "      <td>1.011513</td>\n",
       "    </tr>\n",
       "    <tr>\n",
       "      <th>35</th>\n",
       "      <td>Russian Federation</td>\n",
       "      <td>1.003315</td>\n",
       "    </tr>\n",
       "    <tr>\n",
       "      <th>36</th>\n",
       "      <td>Spain</td>\n",
       "      <td>1.003690</td>\n",
       "    </tr>\n",
       "    <tr>\n",
       "      <th>37</th>\n",
       "      <td>Ukraine</td>\n",
       "      <td>1.011093</td>\n",
       "    </tr>\n",
       "    <tr>\n",
       "      <th>38</th>\n",
       "      <td>United Kingdom</td>\n",
       "      <td>1.010394</td>\n",
       "    </tr>\n",
       "    <tr>\n",
       "      <th>39</th>\n",
       "      <td>United States</td>\n",
       "      <td>1.009231</td>\n",
       "    </tr>\n",
       "    <tr>\n",
       "      <th>40</th>\n",
       "      <td>total_activity</td>\n",
       "      <td>1.008643</td>\n",
       "    </tr>\n",
       "    <tr>\n",
       "      <th>41</th>\n",
       "      <td>Bachelor's</td>\n",
       "      <td>1.008002</td>\n",
       "    </tr>\n",
       "    <tr>\n",
       "      <th>42</th>\n",
       "      <td>Doctorate</td>\n",
       "      <td>1.005386</td>\n",
       "    </tr>\n",
       "    <tr>\n",
       "      <th>43</th>\n",
       "      <td>Less than Secondary</td>\n",
       "      <td>1.007188</td>\n",
       "    </tr>\n",
       "    <tr>\n",
       "      <th>44</th>\n",
       "      <td>Master's</td>\n",
       "      <td>1.005952</td>\n",
       "    </tr>\n",
       "    <tr>\n",
       "      <th>45</th>\n",
       "      <td>Secondary</td>\n",
       "      <td>1.006126</td>\n",
       "    </tr>\n",
       "    <tr>\n",
       "      <th>46</th>\n",
       "      <td>f</td>\n",
       "      <td>1.006381</td>\n",
       "    </tr>\n",
       "    <tr>\n",
       "      <th>47</th>\n",
       "      <td>age</td>\n",
       "      <td>1.006744</td>\n",
       "    </tr>\n",
       "  </tbody>\n",
       "</table>\n",
       "</div>"
      ],
      "text/plain": [
       "                                 variables         w\n",
       "0                                   viewed  3.918071\n",
       "1                                 explored  1.930139\n",
       "2                                  nevents  0.039928\n",
       "3                                ndays_act  0.124346\n",
       "4                              nplay_video  0.164388\n",
       "5                                nchapters  0.154892\n",
       "6                             nforum_posts  1.604177\n",
       "7                                Australia  0.322393\n",
       "8                               Bangladesh  0.444625\n",
       "9                                   Brazil  1.394412\n",
       "10                                  Canada  0.667113\n",
       "11                                   China  0.757739\n",
       "12                                Colombia  0.859359\n",
       "13                                   Egypt  1.152118\n",
       "14                                  France  1.139069\n",
       "15                                 Germany  0.899823\n",
       "16                                  Greece  1.114429\n",
       "17                                   India  0.914321\n",
       "18                               Indonesia  1.088281\n",
       "19                                   Japan  1.052507\n",
       "20                                  Mexico  0.969905\n",
       "21                                 Morocco  1.038312\n",
       "22                                 Nigeria  0.983324\n",
       "23                            Other Africa  1.028774\n",
       "24                         Other East Asia  1.026958\n",
       "25                            Other Europe  1.025571\n",
       "26          Other Middle East/Central Asia  0.995803\n",
       "27  Other North & Central Amer., Caribbean  1.021003\n",
       "28                           Other Oceania  1.019591\n",
       "29                     Other South America  0.997893\n",
       "30                        Other South Asia  1.017801\n",
       "31                                Pakistan  1.015588\n",
       "32                             Philippines  1.000748\n",
       "33                                  Poland  1.012947\n",
       "34                                Portugal  1.011513\n",
       "35                      Russian Federation  1.003315\n",
       "36                                   Spain  1.003690\n",
       "37                                 Ukraine  1.011093\n",
       "38                          United Kingdom  1.010394\n",
       "39                           United States  1.009231\n",
       "40                          total_activity  1.008643\n",
       "41                              Bachelor's  1.008002\n",
       "42                               Doctorate  1.005386\n",
       "43                     Less than Secondary  1.007188\n",
       "44                                Master's  1.005952\n",
       "45                               Secondary  1.006126\n",
       "46                                       f  1.006381\n",
       "47                                     age  1.006744"
      ]
     },
     "execution_count": 8,
     "metadata": {},
     "output_type": "execute_result"
    }
   ],
   "source": [
    "df"
   ]
  },
  {
   "cell_type": "markdown",
   "metadata": {},
   "source": [
    "We see that eigenvalues are closest to 0 for variables nevents, ndays_active, nplay_videos and nchapters. This could possibly be explained by saying that all of them measure some types of interaction with course materials so it makes sense that they are more strongly correlated. \n",
    "#### Based on research of how to deal with multicollinearity we have decided to remove two of them from final set of variables. This will solve the problem of existance of multicollinearity."
   ]
  },
  {
   "cell_type": "markdown",
   "metadata": {},
   "source": [
    "## Multicollinearity checking without dummy variables\n",
    "We were curious too see the result in this special case and decided to leave also this check for final version."
   ]
  },
  {
   "cell_type": "code",
   "execution_count": 9,
   "metadata": {
    "collapsed": true
   },
   "outputs": [],
   "source": [
    "colums = ['viewed', 'explored', 'nevents', 'ndays_act',\n",
    "       'nplay_video', 'nchapters', 'nforum_posts', 'total_activity',\n",
    "       'age']"
   ]
  },
  {
   "cell_type": "code",
   "execution_count": 10,
   "metadata": {
    "collapsed": true
   },
   "outputs": [],
   "source": [
    "n_c = data[colums].corr()"
   ]
  },
  {
   "cell_type": "code",
   "execution_count": 11,
   "metadata": {
    "collapsed": true
   },
   "outputs": [],
   "source": [
    "w, v = np.linalg.eig(n_c)"
   ]
  },
  {
   "cell_type": "code",
   "execution_count": 12,
   "metadata": {
    "collapsed": true
   },
   "outputs": [],
   "source": [
    "df1 = pd.DataFrame(columns= ['variables', 'w'])"
   ]
  },
  {
   "cell_type": "code",
   "execution_count": 13,
   "metadata": {
    "collapsed": true
   },
   "outputs": [],
   "source": [
    "df1['variables'] = n_c.columns\n",
    "df1['w'] = w"
   ]
  },
  {
   "cell_type": "code",
   "execution_count": 14,
   "metadata": {},
   "outputs": [
    {
     "data": {
      "text/html": [
       "<div>\n",
       "<style>\n",
       "    .dataframe thead tr:only-child th {\n",
       "        text-align: right;\n",
       "    }\n",
       "\n",
       "    .dataframe thead th {\n",
       "        text-align: left;\n",
       "    }\n",
       "\n",
       "    .dataframe tbody tr th {\n",
       "        vertical-align: top;\n",
       "    }\n",
       "</style>\n",
       "<table border=\"1\" class=\"dataframe\">\n",
       "  <thead>\n",
       "    <tr style=\"text-align: right;\">\n",
       "      <th></th>\n",
       "      <th>variables</th>\n",
       "      <th>w</th>\n",
       "    </tr>\n",
       "  </thead>\n",
       "  <tbody>\n",
       "    <tr>\n",
       "      <th>0</th>\n",
       "      <td>viewed</td>\n",
       "      <td>3.888165</td>\n",
       "    </tr>\n",
       "    <tr>\n",
       "      <th>1</th>\n",
       "      <td>explored</td>\n",
       "      <td>1.088961</td>\n",
       "    </tr>\n",
       "    <tr>\n",
       "      <th>2</th>\n",
       "      <td>nevents</td>\n",
       "      <td>1.016830</td>\n",
       "    </tr>\n",
       "    <tr>\n",
       "      <th>3</th>\n",
       "      <td>ndays_act</td>\n",
       "      <td>0.953093</td>\n",
       "    </tr>\n",
       "    <tr>\n",
       "      <th>4</th>\n",
       "      <td>nplay_video</td>\n",
       "      <td>0.768979</td>\n",
       "    </tr>\n",
       "    <tr>\n",
       "      <th>5</th>\n",
       "      <td>nchapters</td>\n",
       "      <td>0.669203</td>\n",
       "    </tr>\n",
       "    <tr>\n",
       "      <th>6</th>\n",
       "      <td>nforum_posts</td>\n",
       "      <td>0.164721</td>\n",
       "    </tr>\n",
       "    <tr>\n",
       "      <th>7</th>\n",
       "      <td>total_activity</td>\n",
       "      <td>0.127928</td>\n",
       "    </tr>\n",
       "    <tr>\n",
       "      <th>8</th>\n",
       "      <td>age</td>\n",
       "      <td>0.322121</td>\n",
       "    </tr>\n",
       "  </tbody>\n",
       "</table>\n",
       "</div>"
      ],
      "text/plain": [
       "        variables         w\n",
       "0          viewed  3.888165\n",
       "1        explored  1.088961\n",
       "2         nevents  1.016830\n",
       "3       ndays_act  0.953093\n",
       "4     nplay_video  0.768979\n",
       "5       nchapters  0.669203\n",
       "6    nforum_posts  0.164721\n",
       "7  total_activity  0.127928\n",
       "8             age  0.322121"
      ]
     },
     "execution_count": 14,
     "metadata": {},
     "output_type": "execute_result"
    }
   ],
   "source": [
    "df1"
   ]
  },
  {
   "cell_type": "markdown",
   "metadata": {},
   "source": [
    "Lowest eigenvalue is for column total_activity."
   ]
  },
  {
   "cell_type": "markdown",
   "metadata": {},
   "source": [
    "#### The good confirmation of our analysis is the fact that correlation analysis in previous notebook and the multicollinearity analysis preforemed here both point out that variables that measure interaction with courses materials are mostly correlated with each other and that this needs to be handeld so it wouldn't affect our model."
   ]
  },
  {
   "cell_type": "markdown",
   "metadata": {},
   "source": [
    "# Linear regression"
   ]
  },
  {
   "cell_type": "code",
   "execution_count": 15,
   "metadata": {
    "collapsed": true
   },
   "outputs": [],
   "source": [
    "excluded = ['course_id', 'o', 'u','userid_DI', 'final_cc_cname_DI', 'start_time_DI', 'last_event_DI', 'LoE_DI','YoB',\n",
    "            'gender','grade'] "
   ]
  },
  {
   "cell_type": "code",
   "execution_count": 16,
   "metadata": {
    "collapsed": true
   },
   "outputs": [],
   "source": [
    "regression_data = data.drop(excluded, axis=1) # excluding all columns that are not suitable variables for linear regression"
   ]
  },
  {
   "cell_type": "code",
   "execution_count": 17,
   "metadata": {
    "collapsed": true
   },
   "outputs": [],
   "source": [
    "cols = ['nchapters', 'total_activity', 'nplay_video', 'age']"
   ]
  },
  {
   "cell_type": "code",
   "execution_count": 18,
   "metadata": {},
   "outputs": [
    {
     "name": "stdout",
     "output_type": "stream",
     "text": [
      "R2: 0.643208031565\n"
     ]
    }
   ],
   "source": [
    "X, y = regression_data.drop(cols, axis=1), data['grade']\n",
    "lm = LinearRegression()\n",
    "lm.fit(X, y)\n",
    "predictions = lm.predict(X)\n",
    "print('R2:', metrics.r2_score(y, predictions))"
   ]
  },
  {
   "cell_type": "code",
   "execution_count": 19,
   "metadata": {},
   "outputs": [
    {
     "data": {
      "text/plain": [
       "[('viewed', -0.0053201229265095488),\n",
       " ('explored', 0.21071638682158703),\n",
       " ('nevents', 3.1782418661613354e-05),\n",
       " ('ndays_act', 0.0043903907823268952),\n",
       " ('nforum_posts', 0.002345151503285875),\n",
       " ('Australia', 0.0034774716558332447),\n",
       " ('Bangladesh', -0.0041994188117098208),\n",
       " ('Brazil', -0.0012788803019587076),\n",
       " ('Canada', -0.0010852917403241097),\n",
       " ('China', 0.0016254575812153439),\n",
       " ('Colombia', 0.0022640324516981988),\n",
       " ('Egypt', -0.0058316256612901789),\n",
       " ('France', 0.0061879213226447641),\n",
       " ('Germany', 0.0093188423357371472),\n",
       " ('Greece', 0.0099002730280920281),\n",
       " ('India', 0.0049259586229265101),\n",
       " ('Indonesia', 0.0012359100392574617),\n",
       " ('Japan', -0.0030246601598731236),\n",
       " ('Mexico', -0.0052756872941620986),\n",
       " ('Morocco', -0.0018892680005211313),\n",
       " ('Nigeria', -0.0008764970783809228),\n",
       " ('Other Africa', -0.00061780273542454481),\n",
       " ('Other East Asia', 0.00051793148126120722),\n",
       " ('Other Europe', -0.0016476523896827196),\n",
       " ('Other Middle East/Central Asia', -0.0014388180887866808),\n",
       " ('Other North & Central Amer., Caribbean', 0.0080940661011344398),\n",
       " ('Other Oceania', -0.014099916369386878),\n",
       " ('Other South America', 0.00029460179601785083),\n",
       " ('Other South Asia', 0.0042756900301096365),\n",
       " ('Pakistan', 0.0022319894347334959),\n",
       " ('Philippines', 0.0011277646191689165),\n",
       " ('Poland', -0.0038950381230247813),\n",
       " ('Portugal', 0.0042824058430200995),\n",
       " ('Russian Federation', -0.0080580249789883266),\n",
       " ('Spain', 0.004919524241335748),\n",
       " ('Ukraine', -0.013402491203516369),\n",
       " ('United Kingdom', 0.00072020553190575362),\n",
       " ('United States', -0.0041629161355849131),\n",
       " ('Unknown/Other', 0.0053839429563350139),\n",
       " (\"Bachelor's\", -0.00012450844859493437),\n",
       " ('Doctorate', -0.00089783065358802535),\n",
       " ('Less than Secondary', 0.00043529750492823926),\n",
       " (\"Master's\", 0.0012906434205274472),\n",
       " ('Secondary', 0.0001368074418487894),\n",
       " ('UnknownLoE', -0.00084040926461332504),\n",
       " ('f', 0.0045709185930763938),\n",
       " ('m', -0.0045709185930846719)]"
      ]
     },
     "execution_count": 19,
     "metadata": {},
     "output_type": "execute_result"
    }
   ],
   "source": [
    "list(zip(X.columns, lm.coef_))"
   ]
  },
  {
   "cell_type": "code",
   "execution_count": 20,
   "metadata": {},
   "outputs": [
    {
     "data": {
      "text/plain": [
       "-0.0031258695978068629"
      ]
     },
     "execution_count": 20,
     "metadata": {},
     "output_type": "execute_result"
    }
   ],
   "source": [
    "lm.intercept_"
   ]
  },
  {
   "cell_type": "code",
   "execution_count": 21,
   "metadata": {},
   "outputs": [
    {
     "data": {
      "text/plain": [
       "(array([  1.42910243e+04,   4.55802468e+05,   4.97600346e+05,\n",
       "          5.78924714e+05,   6.32284474e+03,   7.01051029e+00,\n",
       "          2.92469920e+01,   4.59315834e+00,   8.41254238e-02,\n",
       "          1.78342543e+01,   6.55812122e+01,   6.06763948e+01,\n",
       "          5.25778870e+01,   3.04879535e+02,   2.03863286e+02,\n",
       "          8.20236054e+02,   2.48426537e+00,   9.18758886e+00,\n",
       "          5.19709491e-01,   7.44791258e+01,   8.25988808e+00,\n",
       "          6.69071353e+00,   8.16783415e+00,   6.05204827e+02,\n",
       "          3.05147218e+01,   3.12032613e+01,   5.96058558e+00,\n",
       "          1.19740756e+01,   2.80663387e+01,   6.33126359e+01,\n",
       "          1.47376537e+01,   5.18131273e+02,   7.46517186e+01,\n",
       "          3.97762143e+02,   1.41666112e+03,   1.11301297e+02,\n",
       "          8.42582031e+01,   3.04030812e+02,   3.59024777e+03,\n",
       "          1.55988088e+02,   5.92512337e+01,   3.65799551e+00,\n",
       "          9.02287669e+02,   1.19106918e+02,   2.46799377e+02,\n",
       "          2.91292857e+02,   2.91292857e+02]),\n",
       " array([  0.00000000e+000,   0.00000000e+000,   0.00000000e+000,\n",
       "          0.00000000e+000,   0.00000000e+000,   8.10351492e-003,\n",
       "          6.37444613e-008,   3.21002980e-002,   7.71782828e-001,\n",
       "          2.41048276e-005,   5.58928636e-016,   6.74013404e-015,\n",
       "          4.14118856e-013,   2.98699865e-068,   3.06212010e-046,\n",
       "          3.02187222e-180,   1.14990668e-001,   2.43674243e-003,\n",
       "          4.70965972e-001,   6.14594240e-018,   4.05323521e-003,\n",
       "          9.69192344e-003,   4.26415718e-003,   1.48692314e-133,\n",
       "          3.31508575e-008,   2.32496941e-008,   1.46295294e-002,\n",
       "          5.39503652e-004,   1.17277153e-007,   1.76738066e-015,\n",
       "          1.23569306e-004,   1.23653078e-114,   5.63152731e-018,\n",
       "          1.83216609e-088,   1.38713717e-309,   5.11527444e-026,\n",
       "          4.35795191e-020,   4.57110007e-068,   0.00000000e+000,\n",
       "          8.62336858e-036,   1.39027930e-014,   5.58013049e-002,\n",
       "          4.71340771e-198,   9.99596469e-028,   1.33564589e-055,\n",
       "          2.71391569e-065,   2.71391569e-065]))"
      ]
     },
     "execution_count": 21,
     "metadata": {},
     "output_type": "execute_result"
    }
   ],
   "source": [
    "sk.feature_selection.f_regression(X,y)"
   ]
  },
  {
   "cell_type": "code",
   "execution_count": null,
   "metadata": {
    "collapsed": true
   },
   "outputs": [],
   "source": []
  }
 ],
 "metadata": {
  "kernelspec": {
   "display_name": "Python 3",
   "language": "python",
   "name": "python3"
  },
  "language_info": {
   "codemirror_mode": {
    "name": "ipython",
    "version": 3
   },
   "file_extension": ".py",
   "mimetype": "text/x-python",
   "name": "python",
   "nbconvert_exporter": "python",
   "pygments_lexer": "ipython3",
   "version": "3.6.1"
  }
 },
 "nbformat": 4,
 "nbformat_minor": 2
}
