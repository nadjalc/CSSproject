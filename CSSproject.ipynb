{
 "cells": [
  {
   "cell_type": "code",
   "execution_count": 52,
   "metadata": {
    "collapsed": true
   },
   "outputs": [],
   "source": [
    "import pandas as pd\n",
    "import random\n",
    "import numpy as np\n",
    "import math\n",
    "import seaborn as sns\n",
    "from datetime import date\n",
    "import datetime\n",
    "from sklearn.linear_model import LinearRegression\n",
    "from sklearn.model_selection import train_test_split\n",
    "from sklearn.model_selection import cross_val_score\n",
    "from sklearn import metrics\n",
    "import six\n",
    "from scipy import stats\n",
    "import matplotlib.pyplot as plt\n",
    "%matplotlib inline\n",
    "from pylab import rcParams\n",
    "rcParams['figure.figsize'] = 16, 9"
   ]
  },
  {
   "cell_type": "code",
   "execution_count": 53,
   "metadata": {
    "collapsed": true
   },
   "outputs": [],
   "source": [
    "data = pd.read_csv('HMXPC13_DI_v2_5-14-14.csv')"
   ]
  },
  {
   "cell_type": "code",
   "execution_count": 54,
   "metadata": {
    "scrolled": true
   },
   "outputs": [
    {
     "data": {
      "text/html": [
       "<div>\n",
       "<style>\n",
       "    .dataframe thead tr:only-child th {\n",
       "        text-align: right;\n",
       "    }\n",
       "\n",
       "    .dataframe thead th {\n",
       "        text-align: left;\n",
       "    }\n",
       "\n",
       "    .dataframe tbody tr th {\n",
       "        vertical-align: top;\n",
       "    }\n",
       "</style>\n",
       "<table border=\"1\" class=\"dataframe\">\n",
       "  <thead>\n",
       "    <tr style=\"text-align: right;\">\n",
       "      <th></th>\n",
       "      <th>course_id</th>\n",
       "      <th>userid_DI</th>\n",
       "      <th>registered</th>\n",
       "      <th>viewed</th>\n",
       "      <th>explored</th>\n",
       "      <th>certified</th>\n",
       "      <th>final_cc_cname_DI</th>\n",
       "      <th>LoE_DI</th>\n",
       "      <th>YoB</th>\n",
       "      <th>gender</th>\n",
       "      <th>grade</th>\n",
       "      <th>start_time_DI</th>\n",
       "      <th>last_event_DI</th>\n",
       "      <th>nevents</th>\n",
       "      <th>ndays_act</th>\n",
       "      <th>nplay_video</th>\n",
       "      <th>nchapters</th>\n",
       "      <th>nforum_posts</th>\n",
       "      <th>roles</th>\n",
       "      <th>incomplete_flag</th>\n",
       "    </tr>\n",
       "  </thead>\n",
       "  <tbody>\n",
       "    <tr>\n",
       "      <th>0</th>\n",
       "      <td>HarvardX/CB22x/2013_Spring</td>\n",
       "      <td>MHxPC130442623</td>\n",
       "      <td>1</td>\n",
       "      <td>0</td>\n",
       "      <td>0</td>\n",
       "      <td>0</td>\n",
       "      <td>United States</td>\n",
       "      <td>NaN</td>\n",
       "      <td>NaN</td>\n",
       "      <td>NaN</td>\n",
       "      <td>0</td>\n",
       "      <td>2012-12-19</td>\n",
       "      <td>2013-11-17</td>\n",
       "      <td>NaN</td>\n",
       "      <td>9.0</td>\n",
       "      <td>NaN</td>\n",
       "      <td>NaN</td>\n",
       "      <td>0</td>\n",
       "      <td>NaN</td>\n",
       "      <td>1.0</td>\n",
       "    </tr>\n",
       "    <tr>\n",
       "      <th>1</th>\n",
       "      <td>HarvardX/CS50x/2012</td>\n",
       "      <td>MHxPC130442623</td>\n",
       "      <td>1</td>\n",
       "      <td>1</td>\n",
       "      <td>0</td>\n",
       "      <td>0</td>\n",
       "      <td>United States</td>\n",
       "      <td>NaN</td>\n",
       "      <td>NaN</td>\n",
       "      <td>NaN</td>\n",
       "      <td>0</td>\n",
       "      <td>2012-10-15</td>\n",
       "      <td>NaN</td>\n",
       "      <td>NaN</td>\n",
       "      <td>9.0</td>\n",
       "      <td>NaN</td>\n",
       "      <td>1.0</td>\n",
       "      <td>0</td>\n",
       "      <td>NaN</td>\n",
       "      <td>1.0</td>\n",
       "    </tr>\n",
       "    <tr>\n",
       "      <th>2</th>\n",
       "      <td>HarvardX/CB22x/2013_Spring</td>\n",
       "      <td>MHxPC130275857</td>\n",
       "      <td>1</td>\n",
       "      <td>0</td>\n",
       "      <td>0</td>\n",
       "      <td>0</td>\n",
       "      <td>United States</td>\n",
       "      <td>NaN</td>\n",
       "      <td>NaN</td>\n",
       "      <td>NaN</td>\n",
       "      <td>0</td>\n",
       "      <td>2013-02-08</td>\n",
       "      <td>2013-11-17</td>\n",
       "      <td>NaN</td>\n",
       "      <td>16.0</td>\n",
       "      <td>NaN</td>\n",
       "      <td>NaN</td>\n",
       "      <td>0</td>\n",
       "      <td>NaN</td>\n",
       "      <td>1.0</td>\n",
       "    </tr>\n",
       "    <tr>\n",
       "      <th>3</th>\n",
       "      <td>HarvardX/CS50x/2012</td>\n",
       "      <td>MHxPC130275857</td>\n",
       "      <td>1</td>\n",
       "      <td>0</td>\n",
       "      <td>0</td>\n",
       "      <td>0</td>\n",
       "      <td>United States</td>\n",
       "      <td>NaN</td>\n",
       "      <td>NaN</td>\n",
       "      <td>NaN</td>\n",
       "      <td>0</td>\n",
       "      <td>2012-09-17</td>\n",
       "      <td>NaN</td>\n",
       "      <td>NaN</td>\n",
       "      <td>16.0</td>\n",
       "      <td>NaN</td>\n",
       "      <td>NaN</td>\n",
       "      <td>0</td>\n",
       "      <td>NaN</td>\n",
       "      <td>1.0</td>\n",
       "    </tr>\n",
       "    <tr>\n",
       "      <th>4</th>\n",
       "      <td>HarvardX/ER22x/2013_Spring</td>\n",
       "      <td>MHxPC130275857</td>\n",
       "      <td>1</td>\n",
       "      <td>0</td>\n",
       "      <td>0</td>\n",
       "      <td>0</td>\n",
       "      <td>United States</td>\n",
       "      <td>NaN</td>\n",
       "      <td>NaN</td>\n",
       "      <td>NaN</td>\n",
       "      <td>0</td>\n",
       "      <td>2012-12-19</td>\n",
       "      <td>NaN</td>\n",
       "      <td>NaN</td>\n",
       "      <td>16.0</td>\n",
       "      <td>NaN</td>\n",
       "      <td>NaN</td>\n",
       "      <td>0</td>\n",
       "      <td>NaN</td>\n",
       "      <td>1.0</td>\n",
       "    </tr>\n",
       "  </tbody>\n",
       "</table>\n",
       "</div>"
      ],
      "text/plain": [
       "                    course_id       userid_DI  registered  viewed  explored  \\\n",
       "0  HarvardX/CB22x/2013_Spring  MHxPC130442623           1       0         0   \n",
       "1         HarvardX/CS50x/2012  MHxPC130442623           1       1         0   \n",
       "2  HarvardX/CB22x/2013_Spring  MHxPC130275857           1       0         0   \n",
       "3         HarvardX/CS50x/2012  MHxPC130275857           1       0         0   \n",
       "4  HarvardX/ER22x/2013_Spring  MHxPC130275857           1       0         0   \n",
       "\n",
       "   certified final_cc_cname_DI LoE_DI  YoB gender grade start_time_DI  \\\n",
       "0          0     United States    NaN  NaN    NaN     0    2012-12-19   \n",
       "1          0     United States    NaN  NaN    NaN     0    2012-10-15   \n",
       "2          0     United States    NaN  NaN    NaN     0    2013-02-08   \n",
       "3          0     United States    NaN  NaN    NaN     0    2012-09-17   \n",
       "4          0     United States    NaN  NaN    NaN     0    2012-12-19   \n",
       "\n",
       "  last_event_DI  nevents  ndays_act  nplay_video  nchapters  nforum_posts  \\\n",
       "0    2013-11-17      NaN        9.0          NaN        NaN             0   \n",
       "1           NaN      NaN        9.0          NaN        1.0             0   \n",
       "2    2013-11-17      NaN       16.0          NaN        NaN             0   \n",
       "3           NaN      NaN       16.0          NaN        NaN             0   \n",
       "4           NaN      NaN       16.0          NaN        NaN             0   \n",
       "\n",
       "   roles  incomplete_flag  \n",
       "0    NaN              1.0  \n",
       "1    NaN              1.0  \n",
       "2    NaN              1.0  \n",
       "3    NaN              1.0  \n",
       "4    NaN              1.0  "
      ]
     },
     "execution_count": 54,
     "metadata": {},
     "output_type": "execute_result"
    }
   ],
   "source": [
    "data.head(5)"
   ]
  },
  {
   "cell_type": "code",
   "execution_count": 55,
   "metadata": {},
   "outputs": [
    {
     "data": {
      "text/plain": [
       "Index(['course_id', 'userid_DI', 'registered', 'viewed', 'explored',\n",
       "       'certified', 'final_cc_cname_DI', 'LoE_DI', 'YoB', 'gender', 'grade',\n",
       "       'start_time_DI', 'last_event_DI', 'nevents', 'ndays_act', 'nplay_video',\n",
       "       'nchapters', 'nforum_posts', 'roles', 'incomplete_flag'],\n",
       "      dtype='object')"
      ]
     },
     "execution_count": 55,
     "metadata": {},
     "output_type": "execute_result"
    }
   ],
   "source": [
    "data.columns"
   ]
  },
  {
   "cell_type": "code",
   "execution_count": 56,
   "metadata": {},
   "outputs": [
    {
     "data": {
      "text/plain": [
       "(641138, 20)"
      ]
     },
     "execution_count": 56,
     "metadata": {},
     "output_type": "execute_result"
    }
   ],
   "source": [
    "data.shape"
   ]
  },
  {
   "cell_type": "code",
   "execution_count": 57,
   "metadata": {
    "collapsed": true
   },
   "outputs": [],
   "source": [
    "data = data.drop(['roles', 'incomplete_flag' , 'registered'], axis=1) #We are dropping 3 columns: registered becasue it has only\n",
    "#value 1 and nothing else; incoplete flag and roles because they have mostly Null values and are only used for administration"
   ]
  },
  {
   "cell_type": "markdown",
   "metadata": {},
   "source": [
    "#### Considering that all 4 tested columns have no value 0 we will now assign 0 to all rows that have NaN value"
   ]
  },
  {
   "cell_type": "code",
   "execution_count": 58,
   "metadata": {
    "collapsed": true
   },
   "outputs": [],
   "source": [
    "data['nevents'].fillna(0.0, inplace = True)"
   ]
  },
  {
   "cell_type": "code",
   "execution_count": 59,
   "metadata": {
    "collapsed": true
   },
   "outputs": [],
   "source": [
    "data['ndays_act'].fillna(0.0, inplace = True)"
   ]
  },
  {
   "cell_type": "code",
   "execution_count": 60,
   "metadata": {
    "collapsed": true
   },
   "outputs": [],
   "source": [
    "data['nplay_video'].fillna(0.0, inplace = True)"
   ]
  },
  {
   "cell_type": "code",
   "execution_count": 61,
   "metadata": {
    "collapsed": true
   },
   "outputs": [],
   "source": [
    "data['nchapters'].fillna(0.0, inplace = True)"
   ]
  },
  {
   "cell_type": "code",
   "execution_count": 62,
   "metadata": {},
   "outputs": [
    {
     "data": {
      "text/html": [
       "<div>\n",
       "<style>\n",
       "    .dataframe thead tr:only-child th {\n",
       "        text-align: right;\n",
       "    }\n",
       "\n",
       "    .dataframe thead th {\n",
       "        text-align: left;\n",
       "    }\n",
       "\n",
       "    .dataframe tbody tr th {\n",
       "        vertical-align: top;\n",
       "    }\n",
       "</style>\n",
       "<table border=\"1\" class=\"dataframe\">\n",
       "  <thead>\n",
       "    <tr style=\"text-align: right;\">\n",
       "      <th></th>\n",
       "      <th>course_id</th>\n",
       "      <th>userid_DI</th>\n",
       "      <th>viewed</th>\n",
       "      <th>explored</th>\n",
       "      <th>certified</th>\n",
       "      <th>final_cc_cname_DI</th>\n",
       "      <th>LoE_DI</th>\n",
       "      <th>YoB</th>\n",
       "      <th>gender</th>\n",
       "      <th>grade</th>\n",
       "      <th>start_time_DI</th>\n",
       "      <th>last_event_DI</th>\n",
       "      <th>nevents</th>\n",
       "      <th>ndays_act</th>\n",
       "      <th>nplay_video</th>\n",
       "      <th>nchapters</th>\n",
       "      <th>nforum_posts</th>\n",
       "    </tr>\n",
       "  </thead>\n",
       "  <tbody>\n",
       "    <tr>\n",
       "      <th>0</th>\n",
       "      <td>HarvardX/CB22x/2013_Spring</td>\n",
       "      <td>MHxPC130442623</td>\n",
       "      <td>0</td>\n",
       "      <td>0</td>\n",
       "      <td>0</td>\n",
       "      <td>United States</td>\n",
       "      <td>NaN</td>\n",
       "      <td>NaN</td>\n",
       "      <td>NaN</td>\n",
       "      <td>0</td>\n",
       "      <td>2012-12-19</td>\n",
       "      <td>2013-11-17</td>\n",
       "      <td>0.0</td>\n",
       "      <td>9.0</td>\n",
       "      <td>0.0</td>\n",
       "      <td>0.0</td>\n",
       "      <td>0</td>\n",
       "    </tr>\n",
       "    <tr>\n",
       "      <th>1</th>\n",
       "      <td>HarvardX/CS50x/2012</td>\n",
       "      <td>MHxPC130442623</td>\n",
       "      <td>1</td>\n",
       "      <td>0</td>\n",
       "      <td>0</td>\n",
       "      <td>United States</td>\n",
       "      <td>NaN</td>\n",
       "      <td>NaN</td>\n",
       "      <td>NaN</td>\n",
       "      <td>0</td>\n",
       "      <td>2012-10-15</td>\n",
       "      <td>NaN</td>\n",
       "      <td>0.0</td>\n",
       "      <td>9.0</td>\n",
       "      <td>0.0</td>\n",
       "      <td>1.0</td>\n",
       "      <td>0</td>\n",
       "    </tr>\n",
       "    <tr>\n",
       "      <th>2</th>\n",
       "      <td>HarvardX/CB22x/2013_Spring</td>\n",
       "      <td>MHxPC130275857</td>\n",
       "      <td>0</td>\n",
       "      <td>0</td>\n",
       "      <td>0</td>\n",
       "      <td>United States</td>\n",
       "      <td>NaN</td>\n",
       "      <td>NaN</td>\n",
       "      <td>NaN</td>\n",
       "      <td>0</td>\n",
       "      <td>2013-02-08</td>\n",
       "      <td>2013-11-17</td>\n",
       "      <td>0.0</td>\n",
       "      <td>16.0</td>\n",
       "      <td>0.0</td>\n",
       "      <td>0.0</td>\n",
       "      <td>0</td>\n",
       "    </tr>\n",
       "    <tr>\n",
       "      <th>3</th>\n",
       "      <td>HarvardX/CS50x/2012</td>\n",
       "      <td>MHxPC130275857</td>\n",
       "      <td>0</td>\n",
       "      <td>0</td>\n",
       "      <td>0</td>\n",
       "      <td>United States</td>\n",
       "      <td>NaN</td>\n",
       "      <td>NaN</td>\n",
       "      <td>NaN</td>\n",
       "      <td>0</td>\n",
       "      <td>2012-09-17</td>\n",
       "      <td>NaN</td>\n",
       "      <td>0.0</td>\n",
       "      <td>16.0</td>\n",
       "      <td>0.0</td>\n",
       "      <td>0.0</td>\n",
       "      <td>0</td>\n",
       "    </tr>\n",
       "    <tr>\n",
       "      <th>4</th>\n",
       "      <td>HarvardX/ER22x/2013_Spring</td>\n",
       "      <td>MHxPC130275857</td>\n",
       "      <td>0</td>\n",
       "      <td>0</td>\n",
       "      <td>0</td>\n",
       "      <td>United States</td>\n",
       "      <td>NaN</td>\n",
       "      <td>NaN</td>\n",
       "      <td>NaN</td>\n",
       "      <td>0</td>\n",
       "      <td>2012-12-19</td>\n",
       "      <td>NaN</td>\n",
       "      <td>0.0</td>\n",
       "      <td>16.0</td>\n",
       "      <td>0.0</td>\n",
       "      <td>0.0</td>\n",
       "      <td>0</td>\n",
       "    </tr>\n",
       "  </tbody>\n",
       "</table>\n",
       "</div>"
      ],
      "text/plain": [
       "                    course_id       userid_DI  viewed  explored  certified  \\\n",
       "0  HarvardX/CB22x/2013_Spring  MHxPC130442623       0         0          0   \n",
       "1         HarvardX/CS50x/2012  MHxPC130442623       1         0          0   \n",
       "2  HarvardX/CB22x/2013_Spring  MHxPC130275857       0         0          0   \n",
       "3         HarvardX/CS50x/2012  MHxPC130275857       0         0          0   \n",
       "4  HarvardX/ER22x/2013_Spring  MHxPC130275857       0         0          0   \n",
       "\n",
       "  final_cc_cname_DI LoE_DI  YoB gender grade start_time_DI last_event_DI  \\\n",
       "0     United States    NaN  NaN    NaN     0    2012-12-19    2013-11-17   \n",
       "1     United States    NaN  NaN    NaN     0    2012-10-15           NaN   \n",
       "2     United States    NaN  NaN    NaN     0    2013-02-08    2013-11-17   \n",
       "3     United States    NaN  NaN    NaN     0    2012-09-17           NaN   \n",
       "4     United States    NaN  NaN    NaN     0    2012-12-19           NaN   \n",
       "\n",
       "   nevents  ndays_act  nplay_video  nchapters  nforum_posts  \n",
       "0      0.0        9.0          0.0        0.0             0  \n",
       "1      0.0        9.0          0.0        1.0             0  \n",
       "2      0.0       16.0          0.0        0.0             0  \n",
       "3      0.0       16.0          0.0        0.0             0  \n",
       "4      0.0       16.0          0.0        0.0             0  "
      ]
     },
     "execution_count": 62,
     "metadata": {},
     "output_type": "execute_result"
    }
   ],
   "source": [
    "\n",
    "data.head(5)"
   ]
  },
  {
   "cell_type": "markdown",
   "metadata": {},
   "source": [
    "#### Transforming Country of origin data using get_dummies function - Converts categorical variable into dummy/indicator variables"
   ]
  },
  {
   "cell_type": "code",
   "execution_count": 63,
   "metadata": {
    "collapsed": true
   },
   "outputs": [],
   "source": [
    "data = data.join(pd.get_dummies(data['final_cc_cname_DI']))"
   ]
  },
  {
   "cell_type": "code",
   "execution_count": 64,
   "metadata": {},
   "outputs": [
    {
     "data": {
      "text/plain": [
       "Index(['course_id', 'userid_DI', 'viewed', 'explored', 'certified',\n",
       "       'final_cc_cname_DI', 'LoE_DI', 'YoB', 'gender', 'grade',\n",
       "       'start_time_DI', 'last_event_DI', 'nevents', 'ndays_act', 'nplay_video',\n",
       "       'nchapters', 'nforum_posts', 'Australia', 'Bangladesh', 'Brazil',\n",
       "       'Canada', 'China', 'Colombia', 'Egypt', 'France', 'Germany', 'Greece',\n",
       "       'India', 'Indonesia', 'Japan', 'Mexico', 'Morocco', 'Nigeria',\n",
       "       'Other Africa', 'Other East Asia', 'Other Europe',\n",
       "       'Other Middle East/Central Asia',\n",
       "       'Other North & Central Amer., Caribbean', 'Other Oceania',\n",
       "       'Other South America', 'Other South Asia', 'Pakistan', 'Philippines',\n",
       "       'Poland', 'Portugal', 'Russian Federation', 'Spain', 'Ukraine',\n",
       "       'United Kingdom', 'United States', 'Unknown/Other'],\n",
       "      dtype='object')"
      ]
     },
     "execution_count": 64,
     "metadata": {},
     "output_type": "execute_result"
    }
   ],
   "source": [
    "data.columns"
   ]
  },
  {
   "cell_type": "markdown",
   "metadata": {},
   "source": [
    "When the date is missing from the column \"last_event_DI\" this means that there was no interaction with the course after enrolment. Considering this we have decided to put starting date as the date of last interaction instead of NaN value. This way we keep all entries and we get 0 days active."
   ]
  },
  {
   "cell_type": "code",
   "execution_count": 65,
   "metadata": {
    "collapsed": true
   },
   "outputs": [],
   "source": [
    "data[\"last_event_DI\"] = data.apply(lambda x: x.start_time_DI if pd.isnull(x.last_event_DI) else x.last_event_DI, axis =1)"
   ]
  },
  {
   "cell_type": "code",
   "execution_count": 66,
   "metadata": {
    "scrolled": false
   },
   "outputs": [
    {
     "data": {
      "text/html": [
       "<div>\n",
       "<style>\n",
       "    .dataframe thead tr:only-child th {\n",
       "        text-align: right;\n",
       "    }\n",
       "\n",
       "    .dataframe thead th {\n",
       "        text-align: left;\n",
       "    }\n",
       "\n",
       "    .dataframe tbody tr th {\n",
       "        vertical-align: top;\n",
       "    }\n",
       "</style>\n",
       "<table border=\"1\" class=\"dataframe\">\n",
       "  <thead>\n",
       "    <tr style=\"text-align: right;\">\n",
       "      <th></th>\n",
       "      <th>course_id</th>\n",
       "      <th>userid_DI</th>\n",
       "      <th>start_time_DI</th>\n",
       "      <th>last_event_DI</th>\n",
       "      <th>ndays_act</th>\n",
       "    </tr>\n",
       "  </thead>\n",
       "  <tbody>\n",
       "    <tr>\n",
       "      <th>0</th>\n",
       "      <td>HarvardX/CB22x/2013_Spring</td>\n",
       "      <td>MHxPC130442623</td>\n",
       "      <td>2012-12-19</td>\n",
       "      <td>2013-11-17</td>\n",
       "      <td>9.0</td>\n",
       "    </tr>\n",
       "    <tr>\n",
       "      <th>1</th>\n",
       "      <td>HarvardX/CS50x/2012</td>\n",
       "      <td>MHxPC130442623</td>\n",
       "      <td>2012-10-15</td>\n",
       "      <td>2012-10-15</td>\n",
       "      <td>9.0</td>\n",
       "    </tr>\n",
       "    <tr>\n",
       "      <th>2</th>\n",
       "      <td>HarvardX/CB22x/2013_Spring</td>\n",
       "      <td>MHxPC130275857</td>\n",
       "      <td>2013-02-08</td>\n",
       "      <td>2013-11-17</td>\n",
       "      <td>16.0</td>\n",
       "    </tr>\n",
       "    <tr>\n",
       "      <th>3</th>\n",
       "      <td>HarvardX/CS50x/2012</td>\n",
       "      <td>MHxPC130275857</td>\n",
       "      <td>2012-09-17</td>\n",
       "      <td>2012-09-17</td>\n",
       "      <td>16.0</td>\n",
       "    </tr>\n",
       "    <tr>\n",
       "      <th>4</th>\n",
       "      <td>HarvardX/ER22x/2013_Spring</td>\n",
       "      <td>MHxPC130275857</td>\n",
       "      <td>2012-12-19</td>\n",
       "      <td>2012-12-19</td>\n",
       "      <td>16.0</td>\n",
       "    </tr>\n",
       "  </tbody>\n",
       "</table>\n",
       "</div>"
      ],
      "text/plain": [
       "                    course_id       userid_DI start_time_DI last_event_DI  \\\n",
       "0  HarvardX/CB22x/2013_Spring  MHxPC130442623    2012-12-19    2013-11-17   \n",
       "1         HarvardX/CS50x/2012  MHxPC130442623    2012-10-15    2012-10-15   \n",
       "2  HarvardX/CB22x/2013_Spring  MHxPC130275857    2013-02-08    2013-11-17   \n",
       "3         HarvardX/CS50x/2012  MHxPC130275857    2012-09-17    2012-09-17   \n",
       "4  HarvardX/ER22x/2013_Spring  MHxPC130275857    2012-12-19    2012-12-19   \n",
       "\n",
       "   ndays_act  \n",
       "0        9.0  \n",
       "1        9.0  \n",
       "2       16.0  \n",
       "3       16.0  \n",
       "4       16.0  "
      ]
     },
     "execution_count": 66,
     "metadata": {},
     "output_type": "execute_result"
    }
   ],
   "source": [
    "data[['course_id','userid_DI', 'start_time_DI', 'last_event_DI', 'ndays_act']].head(5)"
   ]
  },
  {
   "cell_type": "markdown",
   "metadata": {},
   "source": [
    "We have checked the type of all dates entered in columnes \"start_time_DI\" and \"last_event_DI\" and they are all String. The for loop that we used is removed from the code as it takes long time to run.\n",
    "#### We now make a derivative columne that shows \"monts active\" and it is determined from start time of the course and last event\n",
    "To work with dates, we need to convert them from strings into a data format built for processing dates. The pandas library comes with a Timestamp data object for storing and working with dates."
   ]
  },
  {
   "cell_type": "code",
   "execution_count": 67,
   "metadata": {
    "collapsed": true
   },
   "outputs": [],
   "source": [
    "data[\"start_time_DI\"] = pd.to_datetime(data[\"start_time_DI\"] )"
   ]
  },
  {
   "cell_type": "code",
   "execution_count": 68,
   "metadata": {
    "collapsed": true
   },
   "outputs": [],
   "source": [
    "data[\"last_event_DI\"] = pd.to_datetime(data[\"last_event_DI\"] ) "
   ]
  },
  {
   "cell_type": "code",
   "execution_count": 69,
   "metadata": {
    "collapsed": true
   },
   "outputs": [],
   "source": [
    "data['days_active'] = data['last_event_DI'] - data['start_time_DI']"
   ]
  },
  {
   "cell_type": "code",
   "execution_count": 70,
   "metadata": {
    "collapsed": true
   },
   "outputs": [],
   "source": [
    "data['days_active'] = data['days_active'].apply(lambda x: x.days)"
   ]
  },
  {
   "cell_type": "code",
   "execution_count": 71,
   "metadata": {},
   "outputs": [
    {
     "data": {
      "text/plain": [
       "Index(['course_id', 'userid_DI', 'viewed', 'explored', 'certified',\n",
       "       'final_cc_cname_DI', 'LoE_DI', 'YoB', 'gender', 'grade',\n",
       "       'start_time_DI', 'last_event_DI', 'nevents', 'ndays_act', 'nplay_video',\n",
       "       'nchapters', 'nforum_posts', 'Australia', 'Bangladesh', 'Brazil',\n",
       "       'Canada', 'China', 'Colombia', 'Egypt', 'France', 'Germany', 'Greece',\n",
       "       'India', 'Indonesia', 'Japan', 'Mexico', 'Morocco', 'Nigeria',\n",
       "       'Other Africa', 'Other East Asia', 'Other Europe',\n",
       "       'Other Middle East/Central Asia',\n",
       "       'Other North & Central Amer., Caribbean', 'Other Oceania',\n",
       "       'Other South America', 'Other South Asia', 'Pakistan', 'Philippines',\n",
       "       'Poland', 'Portugal', 'Russian Federation', 'Spain', 'Ukraine',\n",
       "       'United Kingdom', 'United States', 'Unknown/Other', 'days_active'],\n",
       "      dtype='object')"
      ]
     },
     "execution_count": 71,
     "metadata": {},
     "output_type": "execute_result"
    }
   ],
   "source": [
    "data.columns"
   ]
  },
  {
   "cell_type": "markdown",
   "metadata": {},
   "source": [
    "#### Dealing with NaN values and transforming Year of birth so we can have new column \"age\""
   ]
  },
  {
   "cell_type": "code",
   "execution_count": 72,
   "metadata": {
    "collapsed": true
   },
   "outputs": [],
   "source": [
    "#data['YoB'].fillna(int(data['YoB'].mean()), inplace = True) #for missing values we set mean of all ages - temporary solution"
   ]
  },
  {
   "cell_type": "code",
   "execution_count": 73,
   "metadata": {
    "collapsed": true
   },
   "outputs": [],
   "source": [
    "data['YoB'].fillna(random.choice(range(int(data['YoB'].min()), int(data['YoB'].max()))), inplace = True)"
   ]
  },
  {
   "cell_type": "code",
   "execution_count": 74,
   "metadata": {},
   "outputs": [
    {
     "data": {
      "text/plain": [
       "2003.0    96615\n",
       "1990.0    38524\n",
       "1992.0    37846\n",
       "1991.0    37544\n",
       "1989.0    36831\n",
       "1988.0    34436\n",
       "1993.0    33999\n",
       "1987.0    31313\n",
       "1986.0    28725\n",
       "1985.0    25539\n",
       "1994.0    23921\n",
       "1984.0    22138\n",
       "1983.0    18869\n",
       "1982.0    16867\n",
       "1981.0    14477\n",
       "1995.0    13806\n",
       "1980.0    13806\n",
       "1979.0    10954\n",
       "1978.0     9383\n",
       "1977.0     8312\n",
       "1996.0     7754\n",
       "1976.0     7131\n",
       "1975.0     6174\n",
       "1974.0     5596\n",
       "1973.0     4740\n",
       "1972.0     4493\n",
       "1997.0     4082\n",
       "1970.0     4075\n",
       "1971.0     3878\n",
       "1969.0     3296\n",
       "          ...  \n",
       "1952.0      678\n",
       "1951.0      667\n",
       "1950.0      656\n",
       "1949.0      500\n",
       "2012.0      472\n",
       "1947.0      460\n",
       "1948.0      365\n",
       "2000.0      340\n",
       "1946.0      331\n",
       "1943.0      223\n",
       "1944.0      221\n",
       "1945.0      216\n",
       "1942.0      196\n",
       "2001.0      142\n",
       "1941.0       96\n",
       "1940.0       92\n",
       "1939.0       86\n",
       "1938.0       74\n",
       "1937.0       64\n",
       "2013.0       61\n",
       "2002.0       45\n",
       "1936.0       43\n",
       "1935.0       36\n",
       "2011.0       34\n",
       "2010.0       17\n",
       "2008.0       10\n",
       "2009.0        8\n",
       "1931.0        7\n",
       "2007.0        6\n",
       "1934.0        5\n",
       "Name: YoB, Length: 78, dtype: int64"
      ]
     },
     "execution_count": 74,
     "metadata": {},
     "output_type": "execute_result"
    }
   ],
   "source": [
    "data['YoB'].value_counts(dropna = False)"
   ]
  },
  {
   "cell_type": "code",
   "execution_count": 75,
   "metadata": {
    "collapsed": true
   },
   "outputs": [],
   "source": [
    "now = datetime.datetime.now()"
   ]
  },
  {
   "cell_type": "code",
   "execution_count": 76,
   "metadata": {},
   "outputs": [],
   "source": [
    "data['age'] = data['YoB'].apply(lambda x: now.year - int(x)) # we use provided year of birth to calculate\n",
    "#age of all participants and save it as new column"
   ]
  },
  {
   "cell_type": "markdown",
   "metadata": {},
   "source": [
    "#### Dealing with NaN values and converting Level of education from categorical variable into indicator variables"
   ]
  },
  {
   "cell_type": "code",
   "execution_count": 77,
   "metadata": {
    "collapsed": true
   },
   "outputs": [],
   "source": [
    "data['LoE_DI'] = data['LoE_DI'].fillna('UnknownLoE') #temporary solution"
   ]
  },
  {
   "cell_type": "code",
   "execution_count": 78,
   "metadata": {},
   "outputs": [
    {
     "data": {
      "text/plain": [
       "Bachelor's             219768\n",
       "Secondary              169694\n",
       "Master's               118189\n",
       "UnknownLoE             106008\n",
       "Less than Secondary     14092\n",
       "Doctorate               13387\n",
       "Name: LoE_DI, dtype: int64"
      ]
     },
     "execution_count": 78,
     "metadata": {},
     "output_type": "execute_result"
    }
   ],
   "source": [
    "data['LoE_DI'].value_counts(dropna= False)"
   ]
  },
  {
   "cell_type": "code",
   "execution_count": 79,
   "metadata": {
    "collapsed": true
   },
   "outputs": [],
   "source": [
    "data = data.join(pd.get_dummies(data['LoE_DI']))"
   ]
  },
  {
   "cell_type": "markdown",
   "metadata": {},
   "source": [
    "#### Dealing with NaN values and converting Gender from categorical variable into indicator variables"
   ]
  },
  {
   "cell_type": "code",
   "execution_count": 80,
   "metadata": {},
   "outputs": [
    {
     "data": {
      "text/plain": [
       "m      411520\n",
       "f      142795\n",
       "NaN     86806\n",
       "o          17\n",
       "Name: gender, dtype: int64"
      ]
     },
     "execution_count": 80,
     "metadata": {},
     "output_type": "execute_result"
    }
   ],
   "source": [
    "data['gender'].value_counts(dropna= False)"
   ]
  },
  {
   "cell_type": "code",
   "execution_count": 81,
   "metadata": {
    "collapsed": true
   },
   "outputs": [],
   "source": [
    "data['gender'].fillna('u', inplace = True) #changing NaN values to 'u' -unknown - temporary solution"
   ]
  },
  {
   "cell_type": "code",
   "execution_count": 82,
   "metadata": {
    "collapsed": true
   },
   "outputs": [],
   "source": [
    "data = data.join(pd.get_dummies(data['gender']))"
   ]
  },
  {
   "cell_type": "code",
   "execution_count": 83,
   "metadata": {},
   "outputs": [
    {
     "data": {
      "text/plain": [
       "Index(['course_id', 'userid_DI', 'viewed', 'explored', 'certified',\n",
       "       'final_cc_cname_DI', 'LoE_DI', 'YoB', 'gender', 'grade',\n",
       "       'start_time_DI', 'last_event_DI', 'nevents', 'ndays_act', 'nplay_video',\n",
       "       'nchapters', 'nforum_posts', 'Australia', 'Bangladesh', 'Brazil',\n",
       "       'Canada', 'China', 'Colombia', 'Egypt', 'France', 'Germany', 'Greece',\n",
       "       'India', 'Indonesia', 'Japan', 'Mexico', 'Morocco', 'Nigeria',\n",
       "       'Other Africa', 'Other East Asia', 'Other Europe',\n",
       "       'Other Middle East/Central Asia',\n",
       "       'Other North & Central Amer., Caribbean', 'Other Oceania',\n",
       "       'Other South America', 'Other South Asia', 'Pakistan', 'Philippines',\n",
       "       'Poland', 'Portugal', 'Russian Federation', 'Spain', 'Ukraine',\n",
       "       'United Kingdom', 'United States', 'Unknown/Other', 'days_active',\n",
       "       'age', 'Bachelor's', 'Doctorate', 'Less than Secondary', 'Master's',\n",
       "       'Secondary', 'UnknownLoE', 'f', 'm', 'o', 'u'],\n",
       "      dtype='object')"
      ]
     },
     "execution_count": 83,
     "metadata": {},
     "output_type": "execute_result"
    }
   ],
   "source": [
    "data.columns"
   ]
  },
  {
   "cell_type": "code",
   "execution_count": 84,
   "metadata": {},
   "outputs": [
    {
     "data": {
      "text/plain": [
       "(641138, 63)"
      ]
     },
     "execution_count": 84,
     "metadata": {},
     "output_type": "execute_result"
    }
   ],
   "source": [
    "data.shape"
   ]
  },
  {
   "cell_type": "code",
   "execution_count": 85,
   "metadata": {
    "collapsed": true
   },
   "outputs": [],
   "source": [
    "data = data.loc[data['grade'] != \" \",] #some grades are empty string (space) and we drop those rows"
   ]
  },
  {
   "cell_type": "code",
   "execution_count": 86,
   "metadata": {
    "collapsed": true
   },
   "outputs": [],
   "source": [
    "data.dropna(axis=0, inplace=True) #only remaining NaN values are the once where there is a grade missing and we choose to drop"
   ]
  },
  {
   "cell_type": "code",
   "execution_count": 87,
   "metadata": {
    "collapsed": true
   },
   "outputs": [],
   "source": [
    "data['grade'] = data['grade'].astype(float)"
   ]
  },
  {
   "cell_type": "code",
   "execution_count": 88,
   "metadata": {},
   "outputs": [
    {
     "data": {
      "text/plain": [
       "(583738, 63)"
      ]
     },
     "execution_count": 88,
     "metadata": {},
     "output_type": "execute_result"
    }
   ],
   "source": [
    "data.shape #we lost 57400 rows"
   ]
  },
  {
   "cell_type": "code",
   "execution_count": 89,
   "metadata": {},
   "outputs": [
    {
     "data": {
      "text/plain": [
       "Index(['course_id', 'userid_DI', 'viewed', 'explored', 'certified',\n",
       "       'final_cc_cname_DI', 'LoE_DI', 'YoB', 'gender', 'grade',\n",
       "       'start_time_DI', 'last_event_DI', 'nevents', 'ndays_act', 'nplay_video',\n",
       "       'nchapters', 'nforum_posts', 'Australia', 'Bangladesh', 'Brazil',\n",
       "       'Canada', 'China', 'Colombia', 'Egypt', 'France', 'Germany', 'Greece',\n",
       "       'India', 'Indonesia', 'Japan', 'Mexico', 'Morocco', 'Nigeria',\n",
       "       'Other Africa', 'Other East Asia', 'Other Europe',\n",
       "       'Other Middle East/Central Asia',\n",
       "       'Other North & Central Amer., Caribbean', 'Other Oceania',\n",
       "       'Other South America', 'Other South Asia', 'Pakistan', 'Philippines',\n",
       "       'Poland', 'Portugal', 'Russian Federation', 'Spain', 'Ukraine',\n",
       "       'United Kingdom', 'United States', 'Unknown/Other', 'days_active',\n",
       "       'age', 'Bachelor's', 'Doctorate', 'Less than Secondary', 'Master's',\n",
       "       'Secondary', 'UnknownLoE', 'f', 'm', 'o', 'u'],\n",
       "      dtype='object')"
      ]
     },
     "execution_count": 89,
     "metadata": {},
     "output_type": "execute_result"
    }
   ],
   "source": [
    "data.columns"
   ]
  },
  {
   "cell_type": "code",
   "execution_count": 90,
   "metadata": {
    "collapsed": true
   },
   "outputs": [],
   "source": [
    "comparison_columns = ['grade','age','gender','nevents','ndays_act','nplay_video','nchapters','nforum_posts','days_active','viewed','explored','certified']"
   ]
  },
  {
   "cell_type": "code",
   "execution_count": 91,
   "metadata": {},
   "outputs": [
    {
     "data": {
      "text/html": [
       "<div>\n",
       "<style>\n",
       "    .dataframe thead tr:only-child th {\n",
       "        text-align: right;\n",
       "    }\n",
       "\n",
       "    .dataframe thead th {\n",
       "        text-align: left;\n",
       "    }\n",
       "\n",
       "    .dataframe tbody tr th {\n",
       "        vertical-align: top;\n",
       "    }\n",
       "</style>\n",
       "<table border=\"1\" class=\"dataframe\">\n",
       "  <thead>\n",
       "    <tr style=\"text-align: right;\">\n",
       "      <th></th>\n",
       "      <th>grade</th>\n",
       "      <th>age</th>\n",
       "      <th>nevents</th>\n",
       "      <th>ndays_act</th>\n",
       "      <th>nplay_video</th>\n",
       "      <th>nchapters</th>\n",
       "      <th>nforum_posts</th>\n",
       "      <th>days_active</th>\n",
       "      <th>viewed</th>\n",
       "      <th>explored</th>\n",
       "      <th>certified</th>\n",
       "    </tr>\n",
       "  </thead>\n",
       "  <tbody>\n",
       "    <tr>\n",
       "      <th>grade</th>\n",
       "      <td>1.000000</td>\n",
       "      <td>-0.028378</td>\n",
       "      <td>0.704337</td>\n",
       "      <td>0.748134</td>\n",
       "      <td>0.377671</td>\n",
       "      <td>0.708972</td>\n",
       "      <td>0.155702</td>\n",
       "      <td>0.343213</td>\n",
       "      <td>0.170727</td>\n",
       "      <td>0.698173</td>\n",
       "      <td>0.935705</td>\n",
       "    </tr>\n",
       "    <tr>\n",
       "      <th>age</th>\n",
       "      <td>-0.028378</td>\n",
       "      <td>1.000000</td>\n",
       "      <td>-0.034318</td>\n",
       "      <td>-0.040991</td>\n",
       "      <td>-0.014906</td>\n",
       "      <td>-0.034450</td>\n",
       "      <td>-0.056408</td>\n",
       "      <td>-0.047019</td>\n",
       "      <td>-0.039774</td>\n",
       "      <td>-0.020529</td>\n",
       "      <td>-0.023435</td>\n",
       "    </tr>\n",
       "    <tr>\n",
       "      <th>nevents</th>\n",
       "      <td>0.704337</td>\n",
       "      <td>-0.034318</td>\n",
       "      <td>1.000000</td>\n",
       "      <td>0.819988</td>\n",
       "      <td>0.721926</td>\n",
       "      <td>0.614957</td>\n",
       "      <td>0.202455</td>\n",
       "      <td>0.324610</td>\n",
       "      <td>0.180981</td>\n",
       "      <td>0.586027</td>\n",
       "      <td>0.643917</td>\n",
       "    </tr>\n",
       "    <tr>\n",
       "      <th>ndays_act</th>\n",
       "      <td>0.748134</td>\n",
       "      <td>-0.040991</td>\n",
       "      <td>0.819988</td>\n",
       "      <td>1.000000</td>\n",
       "      <td>0.489526</td>\n",
       "      <td>0.711965</td>\n",
       "      <td>0.214995</td>\n",
       "      <td>0.438888</td>\n",
       "      <td>0.237679</td>\n",
       "      <td>0.659729</td>\n",
       "      <td>0.687721</td>\n",
       "    </tr>\n",
       "    <tr>\n",
       "      <th>nplay_video</th>\n",
       "      <td>0.377671</td>\n",
       "      <td>-0.014906</td>\n",
       "      <td>0.721926</td>\n",
       "      <td>0.489526</td>\n",
       "      <td>1.000000</td>\n",
       "      <td>0.323585</td>\n",
       "      <td>0.106996</td>\n",
       "      <td>0.196793</td>\n",
       "      <td>0.109195</td>\n",
       "      <td>0.325592</td>\n",
       "      <td>0.336855</td>\n",
       "    </tr>\n",
       "    <tr>\n",
       "      <th>nchapters</th>\n",
       "      <td>0.708972</td>\n",
       "      <td>-0.034450</td>\n",
       "      <td>0.614957</td>\n",
       "      <td>0.711965</td>\n",
       "      <td>0.323585</td>\n",
       "      <td>1.000000</td>\n",
       "      <td>0.169605</td>\n",
       "      <td>0.446312</td>\n",
       "      <td>0.421310</td>\n",
       "      <td>0.795764</td>\n",
       "      <td>0.640604</td>\n",
       "    </tr>\n",
       "    <tr>\n",
       "      <th>nforum_posts</th>\n",
       "      <td>0.155702</td>\n",
       "      <td>-0.056408</td>\n",
       "      <td>0.202455</td>\n",
       "      <td>0.214995</td>\n",
       "      <td>0.106996</td>\n",
       "      <td>0.169605</td>\n",
       "      <td>1.000000</td>\n",
       "      <td>0.093770</td>\n",
       "      <td>0.063385</td>\n",
       "      <td>0.129758</td>\n",
       "      <td>0.143014</td>\n",
       "    </tr>\n",
       "    <tr>\n",
       "      <th>days_active</th>\n",
       "      <td>0.343213</td>\n",
       "      <td>-0.047019</td>\n",
       "      <td>0.324610</td>\n",
       "      <td>0.438888</td>\n",
       "      <td>0.196793</td>\n",
       "      <td>0.446312</td>\n",
       "      <td>0.093770</td>\n",
       "      <td>1.000000</td>\n",
       "      <td>0.251392</td>\n",
       "      <td>0.399417</td>\n",
       "      <td>0.303542</td>\n",
       "    </tr>\n",
       "    <tr>\n",
       "      <th>viewed</th>\n",
       "      <td>0.170727</td>\n",
       "      <td>-0.039774</td>\n",
       "      <td>0.180981</td>\n",
       "      <td>0.237679</td>\n",
       "      <td>0.109195</td>\n",
       "      <td>0.421310</td>\n",
       "      <td>0.063385</td>\n",
       "      <td>0.251392</td>\n",
       "      <td>1.000000</td>\n",
       "      <td>0.202804</td>\n",
       "      <td>0.134440</td>\n",
       "    </tr>\n",
       "    <tr>\n",
       "      <th>explored</th>\n",
       "      <td>0.698173</td>\n",
       "      <td>-0.020529</td>\n",
       "      <td>0.586027</td>\n",
       "      <td>0.659729</td>\n",
       "      <td>0.325592</td>\n",
       "      <td>0.795764</td>\n",
       "      <td>0.129758</td>\n",
       "      <td>0.399417</td>\n",
       "      <td>0.202804</td>\n",
       "      <td>1.000000</td>\n",
       "      <td>0.635028</td>\n",
       "    </tr>\n",
       "    <tr>\n",
       "      <th>certified</th>\n",
       "      <td>0.935705</td>\n",
       "      <td>-0.023435</td>\n",
       "      <td>0.643917</td>\n",
       "      <td>0.687721</td>\n",
       "      <td>0.336855</td>\n",
       "      <td>0.640604</td>\n",
       "      <td>0.143014</td>\n",
       "      <td>0.303542</td>\n",
       "      <td>0.134440</td>\n",
       "      <td>0.635028</td>\n",
       "      <td>1.000000</td>\n",
       "    </tr>\n",
       "  </tbody>\n",
       "</table>\n",
       "</div>"
      ],
      "text/plain": [
       "                 grade       age   nevents  ndays_act  nplay_video  nchapters  \\\n",
       "grade         1.000000 -0.028378  0.704337   0.748134     0.377671   0.708972   \n",
       "age          -0.028378  1.000000 -0.034318  -0.040991    -0.014906  -0.034450   \n",
       "nevents       0.704337 -0.034318  1.000000   0.819988     0.721926   0.614957   \n",
       "ndays_act     0.748134 -0.040991  0.819988   1.000000     0.489526   0.711965   \n",
       "nplay_video   0.377671 -0.014906  0.721926   0.489526     1.000000   0.323585   \n",
       "nchapters     0.708972 -0.034450  0.614957   0.711965     0.323585   1.000000   \n",
       "nforum_posts  0.155702 -0.056408  0.202455   0.214995     0.106996   0.169605   \n",
       "days_active   0.343213 -0.047019  0.324610   0.438888     0.196793   0.446312   \n",
       "viewed        0.170727 -0.039774  0.180981   0.237679     0.109195   0.421310   \n",
       "explored      0.698173 -0.020529  0.586027   0.659729     0.325592   0.795764   \n",
       "certified     0.935705 -0.023435  0.643917   0.687721     0.336855   0.640604   \n",
       "\n",
       "              nforum_posts  days_active    viewed  explored  certified  \n",
       "grade             0.155702     0.343213  0.170727  0.698173   0.935705  \n",
       "age              -0.056408    -0.047019 -0.039774 -0.020529  -0.023435  \n",
       "nevents           0.202455     0.324610  0.180981  0.586027   0.643917  \n",
       "ndays_act         0.214995     0.438888  0.237679  0.659729   0.687721  \n",
       "nplay_video       0.106996     0.196793  0.109195  0.325592   0.336855  \n",
       "nchapters         0.169605     0.446312  0.421310  0.795764   0.640604  \n",
       "nforum_posts      1.000000     0.093770  0.063385  0.129758   0.143014  \n",
       "days_active       0.093770     1.000000  0.251392  0.399417   0.303542  \n",
       "viewed            0.063385     0.251392  1.000000  0.202804   0.134440  \n",
       "explored          0.129758     0.399417  0.202804  1.000000   0.635028  \n",
       "certified         0.143014     0.303542  0.134440  0.635028   1.000000  "
      ]
     },
     "execution_count": 91,
     "metadata": {},
     "output_type": "execute_result"
    }
   ],
   "source": [
    "data[comparison_columns].corr()"
   ]
  },
  {
   "cell_type": "code",
   "execution_count": 92,
   "metadata": {},
   "outputs": [
    {
     "data": {
      "text/plain": [
       "<matplotlib.axes._subplots.AxesSubplot at 0x225923bc6d8>"
      ]
     },
     "execution_count": 92,
     "metadata": {},
     "output_type": "execute_result"
    },
    {
     "data": {
      "image/png": "[encoded data removed]",
      "text/plain": [
       "<matplotlib.figure.Figure at 0x225923bc908>"
      ]
     },
     "metadata": {},
     "output_type": "display_data"
    }
   ],
   "source": [
    "sns.heatmap(data[comparison_columns].corr())"
   ]
  },
  {
   "cell_type": "code",
   "execution_count": 93,
   "metadata": {},
   "outputs": [
    {
     "data": {
      "text/plain": [
       "0    566051\n",
       "1     17687\n",
       "Name: certified, dtype: int64"
      ]
     },
     "execution_count": 93,
     "metadata": {},
     "output_type": "execute_result"
    }
   ],
   "source": [
    "data['certified'].value_counts(dropna= False)"
   ]
  },
  {
   "cell_type": "code",
   "execution_count": 94,
   "metadata": {
    "collapsed": true
   },
   "outputs": [],
   "source": [
    "data = data.loc[data['nevents'] < 180000,] #droping noticed outlier before plotting"
   ]
  },
  {
   "cell_type": "code",
   "execution_count": 95,
   "metadata": {},
   "outputs": [
    {
     "data": {
      "text/html": [
       "<div>\n",
       "<style>\n",
       "    .dataframe thead tr:only-child th {\n",
       "        text-align: right;\n",
       "    }\n",
       "\n",
       "    .dataframe thead th {\n",
       "        text-align: left;\n",
       "    }\n",
       "\n",
       "    .dataframe tbody tr th {\n",
       "        vertical-align: top;\n",
       "    }\n",
       "</style>\n",
       "<table border=\"1\" class=\"dataframe\">\n",
       "  <thead>\n",
       "    <tr style=\"text-align: right;\">\n",
       "      <th></th>\n",
       "      <th>slope</th>\n",
       "      <th>intercept</th>\n",
       "      <th>r_value</th>\n",
       "      <th>p_value</th>\n",
       "      <th>std_err</th>\n",
       "    </tr>\n",
       "  </thead>\n",
       "  <tbody>\n",
       "    <tr>\n",
       "      <th>0</th>\n",
       "      <td>99.821054</td>\n",
       "      <td>-123.348109</td>\n",
       "      <td>0.835592</td>\n",
       "      <td>0.0</td>\n",
       "      <td>0.085895</td>\n",
       "    </tr>\n",
       "  </tbody>\n",
       "</table>\n",
       "</div>"
      ],
      "text/plain": [
       "       slope   intercept   r_value  p_value   std_err\n",
       "0  99.821054 -123.348109  0.835592      0.0  0.085895"
      ]
     },
     "execution_count": 95,
     "metadata": {},
     "output_type": "execute_result"
    },
    {
     "data": {
      "image/png": "[encoded data removed]",
      "text/plain": [
       "<matplotlib.figure.Figure at 0x22587e44cf8>"
      ]
     },
     "metadata": {},
     "output_type": "display_data"
    }
   ],
   "source": [
    "# plt.scatter(data['ndays_act'],data['nevents'])\n",
    "plt.xlabel('ndays')\n",
    "plt.ylabel('nevents')\n",
    "slope, intercept, r_value, p_value, std_err = stats.linregress(data['ndays_act'],data['nevents'])\n",
    "line = slope* data['ndays_act']+intercept\n",
    "\n",
    "plt.plot(data['ndays_act'],data['nevents'],'o', data['ndays_act'], line)\n",
    "res = pd.DataFrame([[slope, intercept, r_value, p_value, std_err]], columns=['slope', 'intercept', 'r_value', 'p_value', 'std_err'])\n",
    "res.head()"
   ]
  },
  {
   "cell_type": "code",
   "execution_count": 96,
   "metadata": {
    "collapsed": true
   },
   "outputs": [],
   "source": [
    "data.to_csv('data_set_cleaned.csv')"
   ]
  },
  {
   "cell_type": "code",
   "execution_count": 97,
   "metadata": {
    "collapsed": true
   },
   "outputs": [],
   "source": [
    "excluded_columns = ['course_id','userid_DI', 'final_cc_cname_DI', 'start_time_DI', 'last_event_DI', 'LoE_DI','YoB', 'gender','grade'] \n",
    "#columns that we didn't wanna drop from original data set but are excluded from X input for regression\n",
    "#because we use their derivatives and columns that are excluded as not needed for regression"
   ]
  },
  {
   "cell_type": "code",
   "execution_count": 98,
   "metadata": {
    "collapsed": true
   },
   "outputs": [],
   "source": [
    "X, y = data.drop(excluded_columns, axis=1), data['grade']"
   ]
  },
  {
   "cell_type": "code",
   "execution_count": 99,
   "metadata": {
    "collapsed": true
   },
   "outputs": [],
   "source": [
    "X_train, X_test, y_train, y_test = train_test_split(X, y, test_size=0.2)"
   ]
  },
  {
   "cell_type": "code",
   "execution_count": 100,
   "metadata": {},
   "outputs": [
    {
     "name": "stdout",
     "output_type": "stream",
     "text": [
      "MSE: 0.00215268660204\n",
      "RMSE: 0.0463970538078\n",
      "MAE: 0.0155905718344\n",
      "R2: 0.908425753842\n"
     ]
    }
   ],
   "source": [
    "lm = LinearRegression()\n",
    "lm.fit(X_train,y_train)\n",
    "predictions = lm.predict(X_test)\n",
    "print('MSE:', metrics.mean_squared_error(y_test, predictions))\n",
    "print('RMSE:', np.sqrt(metrics.mean_squared_error(y_test, predictions)))\n",
    "print('MAE:', metrics.mean_absolute_error(y_test, predictions))\n",
    "print('R2:', metrics.r2_score(y_test, predictions))"
   ]
  },
  {
   "cell_type": "code",
   "execution_count": null,
   "metadata": {
    "collapsed": true
   },
   "outputs": [],
   "source": []
  },
  {
   "cell_type": "code",
   "execution_count": null,
   "metadata": {
    "collapsed": true
   },
   "outputs": [],
   "source": []
  }
 ],
 "metadata": {
  "kernelspec": {
   "display_name": "Python 3",
   "language": "python",
   "name": "python3"
  },
  "language_info": {
   "codemirror_mode": {
    "name": "ipython",
    "version": 3
   },
   "file_extension": ".py",
   "mimetype": "text/x-python",
   "name": "python",
   "nbconvert_exporter": "python",
   "pygments_lexer": "ipython3",
   "version": "3.6.1"
  }
 },
 "nbformat": 4,
 "nbformat_minor": 2
}
