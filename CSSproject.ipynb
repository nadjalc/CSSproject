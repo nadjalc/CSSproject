{
 "cells": [
  {
   "cell_type": "code",
   "execution_count": 95,
   "metadata": {
    "collapsed": true
   },
   "outputs": [],
   "source": [
    "import pandas as pd\n",
    "import math\n",
    "from datetime import date\n",
    "import datetime"
   ]
  },
  {
   "cell_type": "code",
   "execution_count": 96,
   "metadata": {
    "collapsed": true
   },
   "outputs": [],
   "source": [
    "data = pd.read_csv('HMXPC13_DI_v2_5-14-14.csv')"
   ]
  },
  {
   "cell_type": "code",
   "execution_count": 46,
   "metadata": {},
   "outputs": [
    {
     "data": {
      "text/html": [
       "<div>\n",
       "<style>\n",
       "    .dataframe thead tr:only-child th {\n",
       "        text-align: right;\n",
       "    }\n",
       "\n",
       "    .dataframe thead th {\n",
       "        text-align: left;\n",
       "    }\n",
       "\n",
       "    .dataframe tbody tr th {\n",
       "        vertical-align: top;\n",
       "    }\n",
       "</style>\n",
       "<table border=\"1\" class=\"dataframe\">\n",
       "  <thead>\n",
       "    <tr style=\"text-align: right;\">\n",
       "      <th></th>\n",
       "      <th>course_id</th>\n",
       "      <th>userid_DI</th>\n",
       "      <th>registered</th>\n",
       "      <th>viewed</th>\n",
       "      <th>explored</th>\n",
       "      <th>certified</th>\n",
       "      <th>final_cc_cname_DI</th>\n",
       "      <th>LoE_DI</th>\n",
       "      <th>YoB</th>\n",
       "      <th>gender</th>\n",
       "      <th>grade</th>\n",
       "      <th>start_time_DI</th>\n",
       "      <th>last_event_DI</th>\n",
       "      <th>nevents</th>\n",
       "      <th>ndays_act</th>\n",
       "      <th>nplay_video</th>\n",
       "      <th>nchapters</th>\n",
       "      <th>nforum_posts</th>\n",
       "      <th>roles</th>\n",
       "      <th>incomplete_flag</th>\n",
       "    </tr>\n",
       "  </thead>\n",
       "  <tbody>\n",
       "    <tr>\n",
       "      <th>0</th>\n",
       "      <td>HarvardX/CB22x/2013_Spring</td>\n",
       "      <td>MHxPC130442623</td>\n",
       "      <td>1</td>\n",
       "      <td>0</td>\n",
       "      <td>0</td>\n",
       "      <td>0</td>\n",
       "      <td>United States</td>\n",
       "      <td>NaN</td>\n",
       "      <td>NaN</td>\n",
       "      <td>NaN</td>\n",
       "      <td>0</td>\n",
       "      <td>2012-12-19</td>\n",
       "      <td>2013-11-17</td>\n",
       "      <td>NaN</td>\n",
       "      <td>9.0</td>\n",
       "      <td>NaN</td>\n",
       "      <td>NaN</td>\n",
       "      <td>0</td>\n",
       "      <td>NaN</td>\n",
       "      <td>1.0</td>\n",
       "    </tr>\n",
       "    <tr>\n",
       "      <th>1</th>\n",
       "      <td>HarvardX/CS50x/2012</td>\n",
       "      <td>MHxPC130442623</td>\n",
       "      <td>1</td>\n",
       "      <td>1</td>\n",
       "      <td>0</td>\n",
       "      <td>0</td>\n",
       "      <td>United States</td>\n",
       "      <td>NaN</td>\n",
       "      <td>NaN</td>\n",
       "      <td>NaN</td>\n",
       "      <td>0</td>\n",
       "      <td>2012-10-15</td>\n",
       "      <td>NaN</td>\n",
       "      <td>NaN</td>\n",
       "      <td>9.0</td>\n",
       "      <td>NaN</td>\n",
       "      <td>1.0</td>\n",
       "      <td>0</td>\n",
       "      <td>NaN</td>\n",
       "      <td>1.0</td>\n",
       "    </tr>\n",
       "    <tr>\n",
       "      <th>2</th>\n",
       "      <td>HarvardX/CB22x/2013_Spring</td>\n",
       "      <td>MHxPC130275857</td>\n",
       "      <td>1</td>\n",
       "      <td>0</td>\n",
       "      <td>0</td>\n",
       "      <td>0</td>\n",
       "      <td>United States</td>\n",
       "      <td>NaN</td>\n",
       "      <td>NaN</td>\n",
       "      <td>NaN</td>\n",
       "      <td>0</td>\n",
       "      <td>2013-02-08</td>\n",
       "      <td>2013-11-17</td>\n",
       "      <td>NaN</td>\n",
       "      <td>16.0</td>\n",
       "      <td>NaN</td>\n",
       "      <td>NaN</td>\n",
       "      <td>0</td>\n",
       "      <td>NaN</td>\n",
       "      <td>1.0</td>\n",
       "    </tr>\n",
       "    <tr>\n",
       "      <th>3</th>\n",
       "      <td>HarvardX/CS50x/2012</td>\n",
       "      <td>MHxPC130275857</td>\n",
       "      <td>1</td>\n",
       "      <td>0</td>\n",
       "      <td>0</td>\n",
       "      <td>0</td>\n",
       "      <td>United States</td>\n",
       "      <td>NaN</td>\n",
       "      <td>NaN</td>\n",
       "      <td>NaN</td>\n",
       "      <td>0</td>\n",
       "      <td>2012-09-17</td>\n",
       "      <td>NaN</td>\n",
       "      <td>NaN</td>\n",
       "      <td>16.0</td>\n",
       "      <td>NaN</td>\n",
       "      <td>NaN</td>\n",
       "      <td>0</td>\n",
       "      <td>NaN</td>\n",
       "      <td>1.0</td>\n",
       "    </tr>\n",
       "    <tr>\n",
       "      <th>4</th>\n",
       "      <td>HarvardX/ER22x/2013_Spring</td>\n",
       "      <td>MHxPC130275857</td>\n",
       "      <td>1</td>\n",
       "      <td>0</td>\n",
       "      <td>0</td>\n",
       "      <td>0</td>\n",
       "      <td>United States</td>\n",
       "      <td>NaN</td>\n",
       "      <td>NaN</td>\n",
       "      <td>NaN</td>\n",
       "      <td>0</td>\n",
       "      <td>2012-12-19</td>\n",
       "      <td>NaN</td>\n",
       "      <td>NaN</td>\n",
       "      <td>16.0</td>\n",
       "      <td>NaN</td>\n",
       "      <td>NaN</td>\n",
       "      <td>0</td>\n",
       "      <td>NaN</td>\n",
       "      <td>1.0</td>\n",
       "    </tr>\n",
       "  </tbody>\n",
       "</table>\n",
       "</div>"
      ],
      "text/plain": [
       "                    course_id       userid_DI  registered  viewed  explored  \\\n",
       "0  HarvardX/CB22x/2013_Spring  MHxPC130442623           1       0         0   \n",
       "1         HarvardX/CS50x/2012  MHxPC130442623           1       1         0   \n",
       "2  HarvardX/CB22x/2013_Spring  MHxPC130275857           1       0         0   \n",
       "3         HarvardX/CS50x/2012  MHxPC130275857           1       0         0   \n",
       "4  HarvardX/ER22x/2013_Spring  MHxPC130275857           1       0         0   \n",
       "\n",
       "   certified final_cc_cname_DI LoE_DI  YoB gender grade start_time_DI  \\\n",
       "0          0     United States    NaN  NaN    NaN     0    2012-12-19   \n",
       "1          0     United States    NaN  NaN    NaN     0    2012-10-15   \n",
       "2          0     United States    NaN  NaN    NaN     0    2013-02-08   \n",
       "3          0     United States    NaN  NaN    NaN     0    2012-09-17   \n",
       "4          0     United States    NaN  NaN    NaN     0    2012-12-19   \n",
       "\n",
       "  last_event_DI  nevents  ndays_act  nplay_video  nchapters  nforum_posts  \\\n",
       "0    2013-11-17      NaN        9.0          NaN        NaN             0   \n",
       "1           NaN      NaN        9.0          NaN        1.0             0   \n",
       "2    2013-11-17      NaN       16.0          NaN        NaN             0   \n",
       "3           NaN      NaN       16.0          NaN        NaN             0   \n",
       "4           NaN      NaN       16.0          NaN        NaN             0   \n",
       "\n",
       "   roles  incomplete_flag  \n",
       "0    NaN              1.0  \n",
       "1    NaN              1.0  \n",
       "2    NaN              1.0  \n",
       "3    NaN              1.0  \n",
       "4    NaN              1.0  "
      ]
     },
     "execution_count": 46,
     "metadata": {},
     "output_type": "execute_result"
    }
   ],
   "source": [
    "data.head(5)"
   ]
  },
  {
   "cell_type": "code",
   "execution_count": null,
   "metadata": {},
   "outputs": [],
   "source": [
    "data.columns"
   ]
  },
  {
   "cell_type": "code",
   "execution_count": 4,
   "metadata": {},
   "outputs": [
    {
     "data": {
      "text/plain": [
       "(641138, 20)"
      ]
     },
     "execution_count": 4,
     "metadata": {},
     "output_type": "execute_result"
    }
   ],
   "source": [
    "data.shape"
   ]
  },
  {
   "cell_type": "code",
   "execution_count": 97,
   "metadata": {
    "collapsed": true
   },
   "outputs": [],
   "source": [
    "data = data.drop(['roles', 'incomplete_flag' , 'registered'], axis=1) #We are dropping 3 columns: registered becasue it has only\n",
    "#value 1 and nothing else; incoplete flag and roles because they have mostly Null values and are only used for administration"
   ]
  },
  {
   "cell_type": "code",
   "execution_count": null,
   "metadata": {
    "collapsed": true
   },
   "outputs": [],
   "source": [
    "data['nevents'].value_counts().sort_index() #checking if column \"nevents\" has 0 value.If it has no 0 values we can treat NaN as 0"
   ]
  },
  {
   "cell_type": "code",
   "execution_count": null,
   "metadata": {
    "collapsed": true
   },
   "outputs": [],
   "source": [
    "data['ndays_act'].value_counts().sort_index() #checking if column \"ndays_act\" has 0 value."
   ]
  },
  {
   "cell_type": "code",
   "execution_count": null,
   "metadata": {
    "collapsed": true
   },
   "outputs": [],
   "source": [
    "data['nplay_video'].value_counts().sort_index() #checking if column \"nplay_video\" has 0 value."
   ]
  },
  {
   "cell_type": "code",
   "execution_count": null,
   "metadata": {
    "collapsed": true
   },
   "outputs": [],
   "source": [
    "data['nchapters'].value_counts().sort_index() #checking if column \"nchapters\" has 0 value."
   ]
  },
  {
   "cell_type": "markdown",
   "metadata": {},
   "source": [
    "#### Considering that all 4 tested columns have no value 0 we will now assign 0 to all rows that have NaN value"
   ]
  },
  {
   "cell_type": "code",
   "execution_count": 98,
   "metadata": {
    "collapsed": true
   },
   "outputs": [],
   "source": [
    "data['nevents'].fillna(0.0, inplace = True)"
   ]
  },
  {
   "cell_type": "code",
   "execution_count": 99,
   "metadata": {
    "collapsed": true
   },
   "outputs": [],
   "source": [
    "data['ndays_act'].fillna(0.0, inplace = True)"
   ]
  },
  {
   "cell_type": "code",
   "execution_count": 100,
   "metadata": {
    "collapsed": true
   },
   "outputs": [],
   "source": [
    "data['nplay_video'].fillna(0.0, inplace = True)"
   ]
  },
  {
   "cell_type": "code",
   "execution_count": 101,
   "metadata": {
    "collapsed": true
   },
   "outputs": [],
   "source": [
    "data['nchapters'].fillna(0.0, inplace = True)"
   ]
  },
  {
   "cell_type": "code",
   "execution_count": 15,
   "metadata": {},
   "outputs": [
    {
     "data": {
      "text/html": [
       "<div>\n",
       "<style>\n",
       "    .dataframe thead tr:only-child th {\n",
       "        text-align: right;\n",
       "    }\n",
       "\n",
       "    .dataframe thead th {\n",
       "        text-align: left;\n",
       "    }\n",
       "\n",
       "    .dataframe tbody tr th {\n",
       "        vertical-align: top;\n",
       "    }\n",
       "</style>\n",
       "<table border=\"1\" class=\"dataframe\">\n",
       "  <thead>\n",
       "    <tr style=\"text-align: right;\">\n",
       "      <th></th>\n",
       "      <th>course_id</th>\n",
       "      <th>userid_DI</th>\n",
       "      <th>viewed</th>\n",
       "      <th>explored</th>\n",
       "      <th>certified</th>\n",
       "      <th>final_cc_cname_DI</th>\n",
       "      <th>LoE_DI</th>\n",
       "      <th>YoB</th>\n",
       "      <th>gender</th>\n",
       "      <th>grade</th>\n",
       "      <th>start_time_DI</th>\n",
       "      <th>last_event_DI</th>\n",
       "      <th>nevents</th>\n",
       "      <th>ndays_act</th>\n",
       "      <th>nplay_video</th>\n",
       "      <th>nchapters</th>\n",
       "      <th>nforum_posts</th>\n",
       "    </tr>\n",
       "  </thead>\n",
       "  <tbody>\n",
       "    <tr>\n",
       "      <th>0</th>\n",
       "      <td>HarvardX/CB22x/2013_Spring</td>\n",
       "      <td>MHxPC130442623</td>\n",
       "      <td>0</td>\n",
       "      <td>0</td>\n",
       "      <td>0</td>\n",
       "      <td>United States</td>\n",
       "      <td>NaN</td>\n",
       "      <td>NaN</td>\n",
       "      <td>NaN</td>\n",
       "      <td>0</td>\n",
       "      <td>2012-12-19</td>\n",
       "      <td>2013-11-17</td>\n",
       "      <td>0.0</td>\n",
       "      <td>9.0</td>\n",
       "      <td>0.0</td>\n",
       "      <td>0.0</td>\n",
       "      <td>0</td>\n",
       "    </tr>\n",
       "    <tr>\n",
       "      <th>1</th>\n",
       "      <td>HarvardX/CS50x/2012</td>\n",
       "      <td>MHxPC130442623</td>\n",
       "      <td>1</td>\n",
       "      <td>0</td>\n",
       "      <td>0</td>\n",
       "      <td>United States</td>\n",
       "      <td>NaN</td>\n",
       "      <td>NaN</td>\n",
       "      <td>NaN</td>\n",
       "      <td>0</td>\n",
       "      <td>2012-10-15</td>\n",
       "      <td>NaN</td>\n",
       "      <td>0.0</td>\n",
       "      <td>9.0</td>\n",
       "      <td>0.0</td>\n",
       "      <td>1.0</td>\n",
       "      <td>0</td>\n",
       "    </tr>\n",
       "    <tr>\n",
       "      <th>2</th>\n",
       "      <td>HarvardX/CB22x/2013_Spring</td>\n",
       "      <td>MHxPC130275857</td>\n",
       "      <td>0</td>\n",
       "      <td>0</td>\n",
       "      <td>0</td>\n",
       "      <td>United States</td>\n",
       "      <td>NaN</td>\n",
       "      <td>NaN</td>\n",
       "      <td>NaN</td>\n",
       "      <td>0</td>\n",
       "      <td>2013-02-08</td>\n",
       "      <td>2013-11-17</td>\n",
       "      <td>0.0</td>\n",
       "      <td>16.0</td>\n",
       "      <td>0.0</td>\n",
       "      <td>0.0</td>\n",
       "      <td>0</td>\n",
       "    </tr>\n",
       "    <tr>\n",
       "      <th>3</th>\n",
       "      <td>HarvardX/CS50x/2012</td>\n",
       "      <td>MHxPC130275857</td>\n",
       "      <td>0</td>\n",
       "      <td>0</td>\n",
       "      <td>0</td>\n",
       "      <td>United States</td>\n",
       "      <td>NaN</td>\n",
       "      <td>NaN</td>\n",
       "      <td>NaN</td>\n",
       "      <td>0</td>\n",
       "      <td>2012-09-17</td>\n",
       "      <td>NaN</td>\n",
       "      <td>0.0</td>\n",
       "      <td>16.0</td>\n",
       "      <td>0.0</td>\n",
       "      <td>0.0</td>\n",
       "      <td>0</td>\n",
       "    </tr>\n",
       "    <tr>\n",
       "      <th>4</th>\n",
       "      <td>HarvardX/ER22x/2013_Spring</td>\n",
       "      <td>MHxPC130275857</td>\n",
       "      <td>0</td>\n",
       "      <td>0</td>\n",
       "      <td>0</td>\n",
       "      <td>United States</td>\n",
       "      <td>NaN</td>\n",
       "      <td>NaN</td>\n",
       "      <td>NaN</td>\n",
       "      <td>0</td>\n",
       "      <td>2012-12-19</td>\n",
       "      <td>NaN</td>\n",
       "      <td>0.0</td>\n",
       "      <td>16.0</td>\n",
       "      <td>0.0</td>\n",
       "      <td>0.0</td>\n",
       "      <td>0</td>\n",
       "    </tr>\n",
       "    <tr>\n",
       "      <th>5</th>\n",
       "      <td>HarvardX/PH207x/2012_Fall</td>\n",
       "      <td>MHxPC130275857</td>\n",
       "      <td>1</td>\n",
       "      <td>1</td>\n",
       "      <td>0</td>\n",
       "      <td>United States</td>\n",
       "      <td>NaN</td>\n",
       "      <td>NaN</td>\n",
       "      <td>NaN</td>\n",
       "      <td>0</td>\n",
       "      <td>2012-09-17</td>\n",
       "      <td>2013-05-23</td>\n",
       "      <td>502.0</td>\n",
       "      <td>16.0</td>\n",
       "      <td>50.0</td>\n",
       "      <td>12.0</td>\n",
       "      <td>0</td>\n",
       "    </tr>\n",
       "    <tr>\n",
       "      <th>6</th>\n",
       "      <td>HarvardX/PH278x/2013_Spring</td>\n",
       "      <td>MHxPC130275857</td>\n",
       "      <td>0</td>\n",
       "      <td>0</td>\n",
       "      <td>0</td>\n",
       "      <td>United States</td>\n",
       "      <td>NaN</td>\n",
       "      <td>NaN</td>\n",
       "      <td>NaN</td>\n",
       "      <td>0</td>\n",
       "      <td>2013-02-08</td>\n",
       "      <td>NaN</td>\n",
       "      <td>0.0</td>\n",
       "      <td>16.0</td>\n",
       "      <td>0.0</td>\n",
       "      <td>0.0</td>\n",
       "      <td>0</td>\n",
       "    </tr>\n",
       "    <tr>\n",
       "      <th>7</th>\n",
       "      <td>HarvardX/CB22x/2013_Spring</td>\n",
       "      <td>MHxPC130539455</td>\n",
       "      <td>1</td>\n",
       "      <td>0</td>\n",
       "      <td>0</td>\n",
       "      <td>France</td>\n",
       "      <td>NaN</td>\n",
       "      <td>NaN</td>\n",
       "      <td>NaN</td>\n",
       "      <td>0</td>\n",
       "      <td>2013-01-01</td>\n",
       "      <td>2013-05-14</td>\n",
       "      <td>42.0</td>\n",
       "      <td>6.0</td>\n",
       "      <td>0.0</td>\n",
       "      <td>3.0</td>\n",
       "      <td>0</td>\n",
       "    </tr>\n",
       "    <tr>\n",
       "      <th>8</th>\n",
       "      <td>HarvardX/CB22x/2013_Spring</td>\n",
       "      <td>MHxPC130088379</td>\n",
       "      <td>1</td>\n",
       "      <td>0</td>\n",
       "      <td>0</td>\n",
       "      <td>United States</td>\n",
       "      <td>NaN</td>\n",
       "      <td>NaN</td>\n",
       "      <td>NaN</td>\n",
       "      <td>0</td>\n",
       "      <td>2013-02-18</td>\n",
       "      <td>2013-03-17</td>\n",
       "      <td>70.0</td>\n",
       "      <td>3.0</td>\n",
       "      <td>0.0</td>\n",
       "      <td>3.0</td>\n",
       "      <td>0</td>\n",
       "    </tr>\n",
       "    <tr>\n",
       "      <th>9</th>\n",
       "      <td>HarvardX/CS50x/2012</td>\n",
       "      <td>MHxPC130088379</td>\n",
       "      <td>1</td>\n",
       "      <td>0</td>\n",
       "      <td>0</td>\n",
       "      <td>United States</td>\n",
       "      <td>NaN</td>\n",
       "      <td>NaN</td>\n",
       "      <td>NaN</td>\n",
       "      <td>0</td>\n",
       "      <td>2012-10-20</td>\n",
       "      <td>NaN</td>\n",
       "      <td>0.0</td>\n",
       "      <td>12.0</td>\n",
       "      <td>0.0</td>\n",
       "      <td>3.0</td>\n",
       "      <td>0</td>\n",
       "    </tr>\n",
       "    <tr>\n",
       "      <th>10</th>\n",
       "      <td>HarvardX/ER22x/2013_Spring</td>\n",
       "      <td>MHxPC130088379</td>\n",
       "      <td>1</td>\n",
       "      <td>0</td>\n",
       "      <td>0</td>\n",
       "      <td>United States</td>\n",
       "      <td>NaN</td>\n",
       "      <td>NaN</td>\n",
       "      <td>NaN</td>\n",
       "      <td>0</td>\n",
       "      <td>2013-02-23</td>\n",
       "      <td>2013-06-14</td>\n",
       "      <td>17.0</td>\n",
       "      <td>2.0</td>\n",
       "      <td>0.0</td>\n",
       "      <td>2.0</td>\n",
       "      <td>0</td>\n",
       "    </tr>\n",
       "    <tr>\n",
       "      <th>11</th>\n",
       "      <td>HarvardX/ER22x/2013_Spring</td>\n",
       "      <td>MHxPC130198098</td>\n",
       "      <td>1</td>\n",
       "      <td>0</td>\n",
       "      <td>0</td>\n",
       "      <td>United States</td>\n",
       "      <td>NaN</td>\n",
       "      <td>NaN</td>\n",
       "      <td>NaN</td>\n",
       "      <td>0</td>\n",
       "      <td>2013-06-17</td>\n",
       "      <td>2013-06-17</td>\n",
       "      <td>32.0</td>\n",
       "      <td>1.0</td>\n",
       "      <td>0.0</td>\n",
       "      <td>3.0</td>\n",
       "      <td>0</td>\n",
       "    </tr>\n",
       "    <tr>\n",
       "      <th>12</th>\n",
       "      <td>HarvardX/CB22x/2013_Spring</td>\n",
       "      <td>MHxPC130024894</td>\n",
       "      <td>1</td>\n",
       "      <td>0</td>\n",
       "      <td>0</td>\n",
       "      <td>United States</td>\n",
       "      <td>NaN</td>\n",
       "      <td>NaN</td>\n",
       "      <td>NaN</td>\n",
       "      <td>0.07</td>\n",
       "      <td>2013-01-24</td>\n",
       "      <td>2013-08-03</td>\n",
       "      <td>175.0</td>\n",
       "      <td>9.0</td>\n",
       "      <td>0.0</td>\n",
       "      <td>7.0</td>\n",
       "      <td>0</td>\n",
       "    </tr>\n",
       "    <tr>\n",
       "      <th>13</th>\n",
       "      <td>HarvardX/CS50x/2012</td>\n",
       "      <td>MHxPC130024894</td>\n",
       "      <td>1</td>\n",
       "      <td>0</td>\n",
       "      <td>0</td>\n",
       "      <td>United States</td>\n",
       "      <td>NaN</td>\n",
       "      <td>NaN</td>\n",
       "      <td>NaN</td>\n",
       "      <td>0</td>\n",
       "      <td>2013-06-27</td>\n",
       "      <td>NaN</td>\n",
       "      <td>0.0</td>\n",
       "      <td>2.0</td>\n",
       "      <td>0.0</td>\n",
       "      <td>2.0</td>\n",
       "      <td>0</td>\n",
       "    </tr>\n",
       "    <tr>\n",
       "      <th>14</th>\n",
       "      <td>HarvardX/ER22x/2013_Spring</td>\n",
       "      <td>MHxPC130024894</td>\n",
       "      <td>1</td>\n",
       "      <td>0</td>\n",
       "      <td>0</td>\n",
       "      <td>United States</td>\n",
       "      <td>NaN</td>\n",
       "      <td>NaN</td>\n",
       "      <td>NaN</td>\n",
       "      <td>0</td>\n",
       "      <td>2012-12-19</td>\n",
       "      <td>2013-08-17</td>\n",
       "      <td>78.0</td>\n",
       "      <td>5.0</td>\n",
       "      <td>0.0</td>\n",
       "      <td>4.0</td>\n",
       "      <td>0</td>\n",
       "    </tr>\n",
       "  </tbody>\n",
       "</table>\n",
       "</div>"
      ],
      "text/plain": [
       "                      course_id       userid_DI  viewed  explored  certified  \\\n",
       "0    HarvardX/CB22x/2013_Spring  MHxPC130442623       0         0          0   \n",
       "1           HarvardX/CS50x/2012  MHxPC130442623       1         0          0   \n",
       "2    HarvardX/CB22x/2013_Spring  MHxPC130275857       0         0          0   \n",
       "3           HarvardX/CS50x/2012  MHxPC130275857       0         0          0   \n",
       "4    HarvardX/ER22x/2013_Spring  MHxPC130275857       0         0          0   \n",
       "5     HarvardX/PH207x/2012_Fall  MHxPC130275857       1         1          0   \n",
       "6   HarvardX/PH278x/2013_Spring  MHxPC130275857       0         0          0   \n",
       "7    HarvardX/CB22x/2013_Spring  MHxPC130539455       1         0          0   \n",
       "8    HarvardX/CB22x/2013_Spring  MHxPC130088379       1         0          0   \n",
       "9           HarvardX/CS50x/2012  MHxPC130088379       1         0          0   \n",
       "10   HarvardX/ER22x/2013_Spring  MHxPC130088379       1         0          0   \n",
       "11   HarvardX/ER22x/2013_Spring  MHxPC130198098       1         0          0   \n",
       "12   HarvardX/CB22x/2013_Spring  MHxPC130024894       1         0          0   \n",
       "13          HarvardX/CS50x/2012  MHxPC130024894       1         0          0   \n",
       "14   HarvardX/ER22x/2013_Spring  MHxPC130024894       1         0          0   \n",
       "\n",
       "   final_cc_cname_DI LoE_DI  YoB gender grade start_time_DI last_event_DI  \\\n",
       "0      United States    NaN  NaN    NaN     0    2012-12-19    2013-11-17   \n",
       "1      United States    NaN  NaN    NaN     0    2012-10-15           NaN   \n",
       "2      United States    NaN  NaN    NaN     0    2013-02-08    2013-11-17   \n",
       "3      United States    NaN  NaN    NaN     0    2012-09-17           NaN   \n",
       "4      United States    NaN  NaN    NaN     0    2012-12-19           NaN   \n",
       "5      United States    NaN  NaN    NaN     0    2012-09-17    2013-05-23   \n",
       "6      United States    NaN  NaN    NaN     0    2013-02-08           NaN   \n",
       "7             France    NaN  NaN    NaN     0    2013-01-01    2013-05-14   \n",
       "8      United States    NaN  NaN    NaN     0    2013-02-18    2013-03-17   \n",
       "9      United States    NaN  NaN    NaN     0    2012-10-20           NaN   \n",
       "10     United States    NaN  NaN    NaN     0    2013-02-23    2013-06-14   \n",
       "11     United States    NaN  NaN    NaN     0    2013-06-17    2013-06-17   \n",
       "12     United States    NaN  NaN    NaN  0.07    2013-01-24    2013-08-03   \n",
       "13     United States    NaN  NaN    NaN     0    2013-06-27           NaN   \n",
       "14     United States    NaN  NaN    NaN     0    2012-12-19    2013-08-17   \n",
       "\n",
       "    nevents  ndays_act  nplay_video  nchapters  nforum_posts  \n",
       "0       0.0        9.0          0.0        0.0             0  \n",
       "1       0.0        9.0          0.0        1.0             0  \n",
       "2       0.0       16.0          0.0        0.0             0  \n",
       "3       0.0       16.0          0.0        0.0             0  \n",
       "4       0.0       16.0          0.0        0.0             0  \n",
       "5     502.0       16.0         50.0       12.0             0  \n",
       "6       0.0       16.0          0.0        0.0             0  \n",
       "7      42.0        6.0          0.0        3.0             0  \n",
       "8      70.0        3.0          0.0        3.0             0  \n",
       "9       0.0       12.0          0.0        3.0             0  \n",
       "10     17.0        2.0          0.0        2.0             0  \n",
       "11     32.0        1.0          0.0        3.0             0  \n",
       "12    175.0        9.0          0.0        7.0             0  \n",
       "13      0.0        2.0          0.0        2.0             0  \n",
       "14     78.0        5.0          0.0        4.0             0  "
      ]
     },
     "execution_count": 15,
     "metadata": {},
     "output_type": "execute_result"
    }
   ],
   "source": [
    "data.head(15)"
   ]
  },
  {
   "cell_type": "code",
   "execution_count": 28,
   "metadata": {},
   "outputs": [
    {
     "data": {
      "text/plain": [
       "Australia                                   6419\n",
       "Bangladesh                                  3182\n",
       "Brazil                                     17856\n",
       "Canada                                     12738\n",
       "China                                       5170\n",
       "Colombia                                    4803\n",
       "Egypt                                       9286\n",
       "France                                      4700\n",
       "Germany                                     8074\n",
       "Greece                                      5162\n",
       "India                                      88696\n",
       "Indonesia                                   3410\n",
       "Japan                                       2270\n",
       "Mexico                                      5638\n",
       "Morocco                                     3966\n",
       "Nigeria                                     7483\n",
       "Other Africa                               23897\n",
       "Other East Asia                             6446\n",
       "Other Europe                               40377\n",
       "Other Middle East/Central Asia             17325\n",
       "Other North & Central Amer., Caribbean      4434\n",
       "Other Oceania                                346\n",
       "Other South America                         9916\n",
       "Other South Asia                           12992\n",
       "Pakistan                                   10824\n",
       "Philippines                                 5374\n",
       "Poland                                      5226\n",
       "Portugal                                    2193\n",
       "Russian Federation                         10432\n",
       "Spain                                      10003\n",
       "Ukraine                                     4100\n",
       "United Kingdom                             22131\n",
       "United States                             184240\n",
       "Unknown/Other                              82029\n",
       "Name: final_cc_cname_DI, dtype: int64"
      ]
     },
     "execution_count": 28,
     "metadata": {},
     "output_type": "execute_result"
    }
   ],
   "source": [
    "data['final_cc_cname_DI'].value_counts().sort_index()"
   ]
  },
  {
   "cell_type": "code",
   "execution_count": 102,
   "metadata": {
    "collapsed": true
   },
   "outputs": [],
   "source": [
    "data = data.join(pd.get_dummies(data['final_cc_cname_DI']))"
   ]
  },
  {
   "cell_type": "code",
   "execution_count": null,
   "metadata": {
    "scrolled": true
   },
   "outputs": [],
   "source": [
    "data.head(5)"
   ]
  },
  {
   "cell_type": "code",
   "execution_count": 17,
   "metadata": {},
   "outputs": [
    {
     "data": {
      "text/plain": [
       "Index(['course_id', 'userid_DI', 'viewed', 'explored', 'certified',\n",
       "       'final_cc_cname_DI', 'LoE_DI', 'YoB', 'gender', 'grade',\n",
       "       'start_time_DI', 'last_event_DI', 'nevents', 'ndays_act', 'nplay_video',\n",
       "       'nchapters', 'nforum_posts', 'Australia', 'Bangladesh', 'Brazil',\n",
       "       'Canada', 'China', 'Colombia', 'Egypt', 'France', 'Germany', 'Greece',\n",
       "       'India', 'Indonesia', 'Japan', 'Mexico', 'Morocco', 'Nigeria',\n",
       "       'Other Africa', 'Other East Asia', 'Other Europe',\n",
       "       'Other Middle East/Central Asia',\n",
       "       'Other North & Central Amer., Caribbean', 'Other Oceania',\n",
       "       'Other South America', 'Other South Asia', 'Pakistan', 'Philippines',\n",
       "       'Poland', 'Portugal', 'Russian Federation', 'Spain', 'Ukraine',\n",
       "       'United Kingdom', 'United States', 'Unknown/Other'],\n",
       "      dtype='object')"
      ]
     },
     "execution_count": 17,
     "metadata": {},
     "output_type": "execute_result"
    }
   ],
   "source": [
    "data.columns"
   ]
  },
  {
   "cell_type": "markdown",
   "metadata": {},
   "source": [
    "When the date is missing from the column \"last_event_DI\" this means that there was no interaction with the course after enrolment. Considering this we have decided to put starting date as the date of last interaction instead of NaN value. This way we keep all entries and we get 0 days active."
   ]
  },
  {
   "cell_type": "code",
   "execution_count": 103,
   "metadata": {
    "collapsed": true
   },
   "outputs": [],
   "source": [
    "data[\"last_event_DI\"] = data.apply(lambda x: x.start_time_DI if pd.isnull(x.last_event_DI) else x.last_event_DI, axis =1)"
   ]
  },
  {
   "cell_type": "code",
   "execution_count": 104,
   "metadata": {
    "scrolled": false
   },
   "outputs": [
    {
     "data": {
      "text/html": [
       "<div>\n",
       "<style>\n",
       "    .dataframe thead tr:only-child th {\n",
       "        text-align: right;\n",
       "    }\n",
       "\n",
       "    .dataframe thead th {\n",
       "        text-align: left;\n",
       "    }\n",
       "\n",
       "    .dataframe tbody tr th {\n",
       "        vertical-align: top;\n",
       "    }\n",
       "</style>\n",
       "<table border=\"1\" class=\"dataframe\">\n",
       "  <thead>\n",
       "    <tr style=\"text-align: right;\">\n",
       "      <th></th>\n",
       "      <th>course_id</th>\n",
       "      <th>userid_DI</th>\n",
       "      <th>start_time_DI</th>\n",
       "      <th>last_event_DI</th>\n",
       "      <th>ndays_act</th>\n",
       "    </tr>\n",
       "  </thead>\n",
       "  <tbody>\n",
       "    <tr>\n",
       "      <th>0</th>\n",
       "      <td>HarvardX/CB22x/2013_Spring</td>\n",
       "      <td>MHxPC130442623</td>\n",
       "      <td>2012-12-19</td>\n",
       "      <td>2013-11-17</td>\n",
       "      <td>9.0</td>\n",
       "    </tr>\n",
       "    <tr>\n",
       "      <th>1</th>\n",
       "      <td>HarvardX/CS50x/2012</td>\n",
       "      <td>MHxPC130442623</td>\n",
       "      <td>2012-10-15</td>\n",
       "      <td>2012-10-15</td>\n",
       "      <td>9.0</td>\n",
       "    </tr>\n",
       "    <tr>\n",
       "      <th>2</th>\n",
       "      <td>HarvardX/CB22x/2013_Spring</td>\n",
       "      <td>MHxPC130275857</td>\n",
       "      <td>2013-02-08</td>\n",
       "      <td>2013-11-17</td>\n",
       "      <td>16.0</td>\n",
       "    </tr>\n",
       "    <tr>\n",
       "      <th>3</th>\n",
       "      <td>HarvardX/CS50x/2012</td>\n",
       "      <td>MHxPC130275857</td>\n",
       "      <td>2012-09-17</td>\n",
       "      <td>2012-09-17</td>\n",
       "      <td>16.0</td>\n",
       "    </tr>\n",
       "    <tr>\n",
       "      <th>4</th>\n",
       "      <td>HarvardX/ER22x/2013_Spring</td>\n",
       "      <td>MHxPC130275857</td>\n",
       "      <td>2012-12-19</td>\n",
       "      <td>2012-12-19</td>\n",
       "      <td>16.0</td>\n",
       "    </tr>\n",
       "    <tr>\n",
       "      <th>5</th>\n",
       "      <td>HarvardX/PH207x/2012_Fall</td>\n",
       "      <td>MHxPC130275857</td>\n",
       "      <td>2012-09-17</td>\n",
       "      <td>2013-05-23</td>\n",
       "      <td>16.0</td>\n",
       "    </tr>\n",
       "    <tr>\n",
       "      <th>6</th>\n",
       "      <td>HarvardX/PH278x/2013_Spring</td>\n",
       "      <td>MHxPC130275857</td>\n",
       "      <td>2013-02-08</td>\n",
       "      <td>2013-02-08</td>\n",
       "      <td>16.0</td>\n",
       "    </tr>\n",
       "    <tr>\n",
       "      <th>7</th>\n",
       "      <td>HarvardX/CB22x/2013_Spring</td>\n",
       "      <td>MHxPC130539455</td>\n",
       "      <td>2013-01-01</td>\n",
       "      <td>2013-05-14</td>\n",
       "      <td>6.0</td>\n",
       "    </tr>\n",
       "    <tr>\n",
       "      <th>8</th>\n",
       "      <td>HarvardX/CB22x/2013_Spring</td>\n",
       "      <td>MHxPC130088379</td>\n",
       "      <td>2013-02-18</td>\n",
       "      <td>2013-03-17</td>\n",
       "      <td>3.0</td>\n",
       "    </tr>\n",
       "    <tr>\n",
       "      <th>9</th>\n",
       "      <td>HarvardX/CS50x/2012</td>\n",
       "      <td>MHxPC130088379</td>\n",
       "      <td>2012-10-20</td>\n",
       "      <td>2012-10-20</td>\n",
       "      <td>12.0</td>\n",
       "    </tr>\n",
       "    <tr>\n",
       "      <th>10</th>\n",
       "      <td>HarvardX/ER22x/2013_Spring</td>\n",
       "      <td>MHxPC130088379</td>\n",
       "      <td>2013-02-23</td>\n",
       "      <td>2013-06-14</td>\n",
       "      <td>2.0</td>\n",
       "    </tr>\n",
       "    <tr>\n",
       "      <th>11</th>\n",
       "      <td>HarvardX/ER22x/2013_Spring</td>\n",
       "      <td>MHxPC130198098</td>\n",
       "      <td>2013-06-17</td>\n",
       "      <td>2013-06-17</td>\n",
       "      <td>1.0</td>\n",
       "    </tr>\n",
       "    <tr>\n",
       "      <th>12</th>\n",
       "      <td>HarvardX/CB22x/2013_Spring</td>\n",
       "      <td>MHxPC130024894</td>\n",
       "      <td>2013-01-24</td>\n",
       "      <td>2013-08-03</td>\n",
       "      <td>9.0</td>\n",
       "    </tr>\n",
       "    <tr>\n",
       "      <th>13</th>\n",
       "      <td>HarvardX/CS50x/2012</td>\n",
       "      <td>MHxPC130024894</td>\n",
       "      <td>2013-06-27</td>\n",
       "      <td>2013-06-27</td>\n",
       "      <td>2.0</td>\n",
       "    </tr>\n",
       "    <tr>\n",
       "      <th>14</th>\n",
       "      <td>HarvardX/ER22x/2013_Spring</td>\n",
       "      <td>MHxPC130024894</td>\n",
       "      <td>2012-12-19</td>\n",
       "      <td>2013-08-17</td>\n",
       "      <td>5.0</td>\n",
       "    </tr>\n",
       "    <tr>\n",
       "      <th>15</th>\n",
       "      <td>HarvardX/PH207x/2012_Fall</td>\n",
       "      <td>MHxPC130024894</td>\n",
       "      <td>2012-07-26</td>\n",
       "      <td>2013-01-16</td>\n",
       "      <td>14.0</td>\n",
       "    </tr>\n",
       "    <tr>\n",
       "      <th>16</th>\n",
       "      <td>HarvardX/PH278x/2013_Spring</td>\n",
       "      <td>MHxPC130024894</td>\n",
       "      <td>2013-07-30</td>\n",
       "      <td>2013-08-27</td>\n",
       "      <td>2.0</td>\n",
       "    </tr>\n",
       "    <tr>\n",
       "      <th>17</th>\n",
       "      <td>HarvardX/CS50x/2012</td>\n",
       "      <td>MHxPC130080986</td>\n",
       "      <td>2012-10-15</td>\n",
       "      <td>2012-10-15</td>\n",
       "      <td>11.0</td>\n",
       "    </tr>\n",
       "    <tr>\n",
       "      <th>18</th>\n",
       "      <td>HarvardX/PH207x/2012_Fall</td>\n",
       "      <td>MHxPC130080986</td>\n",
       "      <td>2012-10-25</td>\n",
       "      <td>2012-12-04</td>\n",
       "      <td>11.0</td>\n",
       "    </tr>\n",
       "    <tr>\n",
       "      <th>19</th>\n",
       "      <td>HarvardX/CS50x/2012</td>\n",
       "      <td>MHxPC130063375</td>\n",
       "      <td>2012-10-19</td>\n",
       "      <td>2012-10-19</td>\n",
       "      <td>0.0</td>\n",
       "    </tr>\n",
       "  </tbody>\n",
       "</table>\n",
       "</div>"
      ],
      "text/plain": [
       "                      course_id       userid_DI start_time_DI last_event_DI  \\\n",
       "0    HarvardX/CB22x/2013_Spring  MHxPC130442623    2012-12-19    2013-11-17   \n",
       "1           HarvardX/CS50x/2012  MHxPC130442623    2012-10-15    2012-10-15   \n",
       "2    HarvardX/CB22x/2013_Spring  MHxPC130275857    2013-02-08    2013-11-17   \n",
       "3           HarvardX/CS50x/2012  MHxPC130275857    2012-09-17    2012-09-17   \n",
       "4    HarvardX/ER22x/2013_Spring  MHxPC130275857    2012-12-19    2012-12-19   \n",
       "5     HarvardX/PH207x/2012_Fall  MHxPC130275857    2012-09-17    2013-05-23   \n",
       "6   HarvardX/PH278x/2013_Spring  MHxPC130275857    2013-02-08    2013-02-08   \n",
       "7    HarvardX/CB22x/2013_Spring  MHxPC130539455    2013-01-01    2013-05-14   \n",
       "8    HarvardX/CB22x/2013_Spring  MHxPC130088379    2013-02-18    2013-03-17   \n",
       "9           HarvardX/CS50x/2012  MHxPC130088379    2012-10-20    2012-10-20   \n",
       "10   HarvardX/ER22x/2013_Spring  MHxPC130088379    2013-02-23    2013-06-14   \n",
       "11   HarvardX/ER22x/2013_Spring  MHxPC130198098    2013-06-17    2013-06-17   \n",
       "12   HarvardX/CB22x/2013_Spring  MHxPC130024894    2013-01-24    2013-08-03   \n",
       "13          HarvardX/CS50x/2012  MHxPC130024894    2013-06-27    2013-06-27   \n",
       "14   HarvardX/ER22x/2013_Spring  MHxPC130024894    2012-12-19    2013-08-17   \n",
       "15    HarvardX/PH207x/2012_Fall  MHxPC130024894    2012-07-26    2013-01-16   \n",
       "16  HarvardX/PH278x/2013_Spring  MHxPC130024894    2013-07-30    2013-08-27   \n",
       "17          HarvardX/CS50x/2012  MHxPC130080986    2012-10-15    2012-10-15   \n",
       "18    HarvardX/PH207x/2012_Fall  MHxPC130080986    2012-10-25    2012-12-04   \n",
       "19          HarvardX/CS50x/2012  MHxPC130063375    2012-10-19    2012-10-19   \n",
       "\n",
       "    ndays_act  \n",
       "0         9.0  \n",
       "1         9.0  \n",
       "2        16.0  \n",
       "3        16.0  \n",
       "4        16.0  \n",
       "5        16.0  \n",
       "6        16.0  \n",
       "7         6.0  \n",
       "8         3.0  \n",
       "9        12.0  \n",
       "10        2.0  \n",
       "11        1.0  \n",
       "12        9.0  \n",
       "13        2.0  \n",
       "14        5.0  \n",
       "15       14.0  \n",
       "16        2.0  \n",
       "17       11.0  \n",
       "18       11.0  \n",
       "19        0.0  "
      ]
     },
     "execution_count": 104,
     "metadata": {},
     "output_type": "execute_result"
    }
   ],
   "source": [
    "data[['course_id','userid_DI', 'start_time_DI', 'last_event_DI', 'ndays_act']].head(20)"
   ]
  },
  {
   "cell_type": "markdown",
   "metadata": {},
   "source": [
    "We have checked the type of all dates entered in columnes \"start_time_DI\" and \"last_event_DI\" and they are all String. The for loop that we used is removed from the code as it takes long time to run.\n",
    "#### We now make a derivative columne that shows \"monts active\" and it is determined from start time of the course and last event\n",
    "To work with dates, we need to convert them from strings into a data format built for processing dates. The pandas library comes with a Timestamp data object for storing and working with dates."
   ]
  },
  {
   "cell_type": "code",
   "execution_count": 105,
   "metadata": {
    "collapsed": true
   },
   "outputs": [],
   "source": [
    "data[\"start_time_DI\"] = pd.to_datetime(data[\"start_time_DI\"] )"
   ]
  },
  {
   "cell_type": "code",
   "execution_count": 106,
   "metadata": {
    "collapsed": true
   },
   "outputs": [],
   "source": [
    "data[\"last_event_DI\"] = pd.to_datetime(data[\"last_event_DI\"] ) "
   ]
  },
  {
   "cell_type": "code",
   "execution_count": 107,
   "metadata": {
    "collapsed": true
   },
   "outputs": [],
   "source": [
    "data['days_active'] = data['last_event_DI'] - data['start_time_DI']"
   ]
  },
  {
   "cell_type": "code",
   "execution_count": 108,
   "metadata": {
    "collapsed": true
   },
   "outputs": [],
   "source": [
    "data['days_active'] = data['days_active'].apply(lambda x: x.days)"
   ]
  },
  {
   "cell_type": "code",
   "execution_count": 58,
   "metadata": {},
   "outputs": [
    {
     "data": {
      "text/plain": [
       "Index(['course_id', 'userid_DI', 'viewed', 'explored', 'certified',\n",
       "       'final_cc_cname_DI', 'LoE_DI', 'YoB', 'gender', 'grade',\n",
       "       'start_time_DI', 'last_event_DI', 'nevents', 'ndays_act', 'nplay_video',\n",
       "       'nchapters', 'nforum_posts', 'Australia', 'Bangladesh', 'Brazil',\n",
       "       'Canada', 'China', 'Colombia', 'Egypt', 'France', 'Germany', 'Greece',\n",
       "       'India', 'Indonesia', 'Japan', 'Mexico', 'Morocco', 'Nigeria',\n",
       "       'Other Africa', 'Other East Asia', 'Other Europe',\n",
       "       'Other Middle East/Central Asia',\n",
       "       'Other North & Central Amer., Caribbean', 'Other Oceania',\n",
       "       'Other South America', 'Other South Asia', 'Pakistan', 'Philippines',\n",
       "       'Poland', 'Portugal', 'Russian Federation', 'Spain', 'Ukraine',\n",
       "       'United Kingdom', 'United States', 'Unknown/Other', 'days_active'],\n",
       "      dtype='object')"
      ]
     },
     "execution_count": 58,
     "metadata": {},
     "output_type": "execute_result"
    }
   ],
   "source": [
    "data.columns"
   ]
  },
  {
   "cell_type": "code",
   "execution_count": 27,
   "metadata": {},
   "outputs": [
    {
     "data": {
      "text/plain": [
       "(489326, 52)"
      ]
     },
     "execution_count": 27,
     "metadata": {},
     "output_type": "execute_result"
    }
   ],
   "source": [
    "d.shape"
   ]
  },
  {
   "cell_type": "code",
   "execution_count": 77,
   "metadata": {},
   "outputs": [
    {
     "data": {
      "text/plain": [
       "Bachelor's             219768\n",
       "Secondary              169694\n",
       "Master's               118189\n",
       "NaN                    106008\n",
       "Less than Secondary     14092\n",
       "Doctorate               13387\n",
       "Name: LoE_DI, dtype: int64"
      ]
     },
     "execution_count": 77,
     "metadata": {},
     "output_type": "execute_result"
    }
   ],
   "source": [
    "data['LoE_DI'].value_counts(dropna= False)"
   ]
  },
  {
   "cell_type": "code",
   "execution_count": 78,
   "metadata": {
    "collapsed": true
   },
   "outputs": [
    {
     "data": {
      "text/plain": [
       "NaN        96605\n",
       " 1990.0    38524\n",
       " 1992.0    37846\n",
       " 1991.0    37544\n",
       " 1989.0    36831\n",
       " 1988.0    34436\n",
       " 1993.0    33999\n",
       " 1987.0    31313\n",
       " 1986.0    28725\n",
       " 1985.0    25539\n",
       " 1994.0    23921\n",
       " 1984.0    22138\n",
       " 1983.0    18869\n",
       " 1982.0    16867\n",
       " 1981.0    14477\n",
       " 1995.0    13806\n",
       " 1980.0    13806\n",
       " 1979.0    10954\n",
       " 1978.0     9383\n",
       " 1977.0     8312\n",
       " 1996.0     7754\n",
       " 1976.0     7131\n",
       " 1975.0     6174\n",
       " 1974.0     5596\n",
       " 1973.0     4740\n",
       " 1972.0     4493\n",
       " 1997.0     4082\n",
       " 1970.0     4075\n",
       " 1971.0     3878\n",
       " 1969.0     3296\n",
       "           ...  \n",
       " 1951.0      667\n",
       " 1950.0      656\n",
       " 1949.0      500\n",
       " 2012.0      472\n",
       " 1947.0      460\n",
       " 1948.0      365\n",
       " 2000.0      340\n",
       " 1946.0      331\n",
       " 1943.0      223\n",
       " 1944.0      221\n",
       " 1945.0      216\n",
       " 1942.0      196\n",
       " 2001.0      142\n",
       " 1941.0       96\n",
       " 1940.0       92\n",
       " 1939.0       86\n",
       " 1938.0       74\n",
       " 1937.0       64\n",
       " 2013.0       61\n",
       " 2002.0       45\n",
       " 1936.0       43\n",
       " 1935.0       36\n",
       " 2011.0       34\n",
       " 2010.0       17\n",
       " 2003.0       10\n",
       " 2008.0       10\n",
       " 2009.0        8\n",
       " 1931.0        7\n",
       " 2007.0        6\n",
       " 1934.0        5\n",
       "Name: YoB, Length: 79, dtype: int64"
      ]
     },
     "execution_count": 78,
     "metadata": {},
     "output_type": "execute_result"
    }
   ],
   "source": [
    "data['YoB'].value_counts(dropna= False)"
   ]
  },
  {
   "cell_type": "code",
   "execution_count": 109,
   "metadata": {},
   "outputs": [],
   "source": [
    "data['YoB'].fillna(int(data['YoB'].mean()), inplace = True) #for missing values we set mean of all ages - temporary solution"
   ]
  },
  {
   "cell_type": "code",
   "execution_count": 80,
   "metadata": {
    "collapsed": true
   },
   "outputs": [
    {
     "data": {
      "text/plain": [
       "1985.0    122144\n",
       "1990.0     38524\n",
       "1992.0     37846\n",
       "1991.0     37544\n",
       "1989.0     36831\n",
       "1988.0     34436\n",
       "1993.0     33999\n",
       "1987.0     31313\n",
       "1986.0     28725\n",
       "1994.0     23921\n",
       "1984.0     22138\n",
       "1983.0     18869\n",
       "1982.0     16867\n",
       "1981.0     14477\n",
       "1980.0     13806\n",
       "1995.0     13806\n",
       "1979.0     10954\n",
       "1978.0      9383\n",
       "1977.0      8312\n",
       "1996.0      7754\n",
       "1976.0      7131\n",
       "1975.0      6174\n",
       "1974.0      5596\n",
       "1973.0      4740\n",
       "1972.0      4493\n",
       "1997.0      4082\n",
       "1970.0      4075\n",
       "1971.0      3878\n",
       "1969.0      3296\n",
       "1968.0      3010\n",
       "           ...  \n",
       "1951.0       667\n",
       "1950.0       656\n",
       "1949.0       500\n",
       "2012.0       472\n",
       "1947.0       460\n",
       "1948.0       365\n",
       "2000.0       340\n",
       "1946.0       331\n",
       "1943.0       223\n",
       "1944.0       221\n",
       "1945.0       216\n",
       "1942.0       196\n",
       "2001.0       142\n",
       "1941.0        96\n",
       "1940.0        92\n",
       "1939.0        86\n",
       "1938.0        74\n",
       "1937.0        64\n",
       "2013.0        61\n",
       "2002.0        45\n",
       "1936.0        43\n",
       "1935.0        36\n",
       "2011.0        34\n",
       "2010.0        17\n",
       "2003.0        10\n",
       "2008.0        10\n",
       "2009.0         8\n",
       "1931.0         7\n",
       "2007.0         6\n",
       "1934.0         5\n",
       "Name: YoB, Length: 78, dtype: int64"
      ]
     },
     "execution_count": 80,
     "metadata": {},
     "output_type": "execute_result"
    }
   ],
   "source": [
    "data['YoB'].value_counts(dropna= False)"
   ]
  },
  {
   "cell_type": "code",
   "execution_count": 110,
   "metadata": {
    "collapsed": true
   },
   "outputs": [],
   "source": [
    "data['age'] = data['YoB'].apply(lambda x: datetime.datetime.now().year - int(x)) # we use provided year of birth to calculate\n",
    "#age of all participants and save it as new column"
   ]
  },
  {
   "cell_type": "code",
   "execution_count": null,
   "metadata": {
    "collapsed": true
   },
   "outputs": [],
   "source": []
  },
  {
   "cell_type": "code",
   "execution_count": null,
   "metadata": {
    "collapsed": true
   },
   "outputs": [],
   "source": [
    "excluded_columns = ['final_cc_cname_DI', 'start_time_DI', 'last_event_DI','YoB'] \n",
    "#columns that we didn't wanna drop from original data set but are excluded from input for regression\n",
    "#because we use their derivatives"
   ]
  },
  {
   "cell_type": "code",
   "execution_count": null,
   "metadata": {
    "collapsed": true
   },
   "outputs": [],
   "source": []
  },
  {
   "cell_type": "code",
   "execution_count": null,
   "metadata": {
    "collapsed": true
   },
   "outputs": [],
   "source": []
  },
  {
   "cell_type": "code",
   "execution_count": null,
   "metadata": {
    "collapsed": true
   },
   "outputs": [],
   "source": []
  },
  {
   "cell_type": "code",
   "execution_count": null,
   "metadata": {
    "collapsed": true
   },
   "outputs": [],
   "source": []
  },
  {
   "cell_type": "code",
   "execution_count": null,
   "metadata": {
    "collapsed": true
   },
   "outputs": [],
   "source": [
    "# data.dropna(axis=0, how='any', inplace=True)  ACTIVATE this line only when all data is cleaned and ready"
   ]
  },
  {
   "cell_type": "code",
   "execution_count": null,
   "metadata": {
    "collapsed": true
   },
   "outputs": [],
   "source": []
  }
 ],
 "metadata": {
  "kernelspec": {
   "display_name": "Python 3",
   "language": "python",
   "name": "python3"
  },
  "language_info": {
   "codemirror_mode": {
    "name": "ipython",
    "version": 3
   },
   "file_extension": ".py",
   "mimetype": "text/x-python",
   "name": "python",
   "nbconvert_exporter": "python",
   "pygments_lexer": "ipython3",
   "version": "3.6.1"
  }
 },
 "nbformat": 4,
 "nbformat_minor": 2
}
