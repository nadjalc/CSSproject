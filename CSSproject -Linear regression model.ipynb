{
 "cells": [
  {
   "cell_type": "code",
   "execution_count": 35,
   "metadata": {
    "collapsed": true
   },
   "outputs": [],
   "source": [
    "import pandas as pd\n",
    "import numpy as np\n",
    "import math\n",
    "import seaborn as sns\n",
    "from datetime import date\n",
    "import datetime\n",
    "from sklearn.linear_model import LinearRegression\n",
    "from sklearn.model_selection import train_test_split\n",
    "from sklearn.model_selection import cross_val_score\n",
    "from sklearn import metrics\n",
    "import sklearn as sk\n",
    "import six\n",
    "from scipy import stats\n",
    "import matplotlib.pyplot as plt\n",
    "%matplotlib inline\n",
    "from pylab import rcParams\n",
    "rcParams['figure.figsize'] = 16, 9"
   ]
  },
  {
   "cell_type": "code",
   "execution_count": 2,
   "metadata": {
    "collapsed": true
   },
   "outputs": [],
   "source": [
    "data = pd.read_csv('data_set_cleaned.csv')\n",
    "data = data.drop('Unnamed: 0', axis=1)"
   ]
  },
  {
   "cell_type": "code",
   "execution_count": 3,
   "metadata": {
    "collapsed": true
   },
   "outputs": [],
   "source": [
    "variables = data.drop(['course_id', 'userid_DI', 'grade', 'Unknown/Other', 'UnknownLoE','u', 'o', 'm', 'YoB' ], axis=1)"
   ]
  },
  {
   "cell_type": "code",
   "execution_count": 4,
   "metadata": {
    "collapsed": true
   },
   "outputs": [],
   "source": [
    "correlations = variables.corr()"
   ]
  },
  {
   "cell_type": "code",
   "execution_count": 5,
   "metadata": {
    "collapsed": true
   },
   "outputs": [],
   "source": [
    "w, v = np.linalg.eig(correlations)"
   ]
  },
  {
   "cell_type": "code",
   "execution_count": 6,
   "metadata": {
    "collapsed": true
   },
   "outputs": [],
   "source": [
    "df = pd.DataFrame(columns= ['variables', 'w'])"
   ]
  },
  {
   "cell_type": "code",
   "execution_count": 7,
   "metadata": {
    "collapsed": true
   },
   "outputs": [],
   "source": [
    "df['variables'] = correlations.columns\n",
    "df['w'] = w"
   ]
  },
  {
   "cell_type": "code",
   "execution_count": 8,
   "metadata": {},
   "outputs": [
    {
     "data": {
      "text/html": [
       "<div>\n",
       "<style>\n",
       "    .dataframe thead tr:only-child th {\n",
       "        text-align: right;\n",
       "    }\n",
       "\n",
       "    .dataframe thead th {\n",
       "        text-align: left;\n",
       "    }\n",
       "\n",
       "    .dataframe tbody tr th {\n",
       "        vertical-align: top;\n",
       "    }\n",
       "</style>\n",
       "<table border=\"1\" class=\"dataframe\">\n",
       "  <thead>\n",
       "    <tr style=\"text-align: right;\">\n",
       "      <th></th>\n",
       "      <th>variables</th>\n",
       "      <th>w</th>\n",
       "    </tr>\n",
       "  </thead>\n",
       "  <tbody>\n",
       "    <tr>\n",
       "      <th>0</th>\n",
       "      <td>viewed</td>\n",
       "      <td>3.918071</td>\n",
       "    </tr>\n",
       "    <tr>\n",
       "      <th>1</th>\n",
       "      <td>explored</td>\n",
       "      <td>1.930139</td>\n",
       "    </tr>\n",
       "    <tr>\n",
       "      <th>2</th>\n",
       "      <td>nevents</td>\n",
       "      <td>0.039928</td>\n",
       "    </tr>\n",
       "    <tr>\n",
       "      <th>3</th>\n",
       "      <td>ndays_act</td>\n",
       "      <td>0.124346</td>\n",
       "    </tr>\n",
       "    <tr>\n",
       "      <th>4</th>\n",
       "      <td>nplay_video</td>\n",
       "      <td>0.164388</td>\n",
       "    </tr>\n",
       "    <tr>\n",
       "      <th>5</th>\n",
       "      <td>nchapters</td>\n",
       "      <td>0.154892</td>\n",
       "    </tr>\n",
       "    <tr>\n",
       "      <th>6</th>\n",
       "      <td>nforum_posts</td>\n",
       "      <td>1.604177</td>\n",
       "    </tr>\n",
       "    <tr>\n",
       "      <th>7</th>\n",
       "      <td>Australia</td>\n",
       "      <td>0.322393</td>\n",
       "    </tr>\n",
       "    <tr>\n",
       "      <th>8</th>\n",
       "      <td>Bangladesh</td>\n",
       "      <td>0.444625</td>\n",
       "    </tr>\n",
       "    <tr>\n",
       "      <th>9</th>\n",
       "      <td>Brazil</td>\n",
       "      <td>1.394412</td>\n",
       "    </tr>\n",
       "    <tr>\n",
       "      <th>10</th>\n",
       "      <td>Canada</td>\n",
       "      <td>0.667113</td>\n",
       "    </tr>\n",
       "    <tr>\n",
       "      <th>11</th>\n",
       "      <td>China</td>\n",
       "      <td>0.757739</td>\n",
       "    </tr>\n",
       "    <tr>\n",
       "      <th>12</th>\n",
       "      <td>Colombia</td>\n",
       "      <td>0.859359</td>\n",
       "    </tr>\n",
       "    <tr>\n",
       "      <th>13</th>\n",
       "      <td>Egypt</td>\n",
       "      <td>1.152118</td>\n",
       "    </tr>\n",
       "    <tr>\n",
       "      <th>14</th>\n",
       "      <td>France</td>\n",
       "      <td>1.139069</td>\n",
       "    </tr>\n",
       "    <tr>\n",
       "      <th>15</th>\n",
       "      <td>Germany</td>\n",
       "      <td>0.899823</td>\n",
       "    </tr>\n",
       "    <tr>\n",
       "      <th>16</th>\n",
       "      <td>Greece</td>\n",
       "      <td>1.114429</td>\n",
       "    </tr>\n",
       "    <tr>\n",
       "      <th>17</th>\n",
       "      <td>India</td>\n",
       "      <td>0.914321</td>\n",
       "    </tr>\n",
       "    <tr>\n",
       "      <th>18</th>\n",
       "      <td>Indonesia</td>\n",
       "      <td>1.088281</td>\n",
       "    </tr>\n",
       "    <tr>\n",
       "      <th>19</th>\n",
       "      <td>Japan</td>\n",
       "      <td>1.052507</td>\n",
       "    </tr>\n",
       "    <tr>\n",
       "      <th>20</th>\n",
       "      <td>Mexico</td>\n",
       "      <td>0.969905</td>\n",
       "    </tr>\n",
       "    <tr>\n",
       "      <th>21</th>\n",
       "      <td>Morocco</td>\n",
       "      <td>1.038312</td>\n",
       "    </tr>\n",
       "    <tr>\n",
       "      <th>22</th>\n",
       "      <td>Nigeria</td>\n",
       "      <td>0.983324</td>\n",
       "    </tr>\n",
       "    <tr>\n",
       "      <th>23</th>\n",
       "      <td>Other Africa</td>\n",
       "      <td>1.028774</td>\n",
       "    </tr>\n",
       "    <tr>\n",
       "      <th>24</th>\n",
       "      <td>Other East Asia</td>\n",
       "      <td>1.026958</td>\n",
       "    </tr>\n",
       "    <tr>\n",
       "      <th>25</th>\n",
       "      <td>Other Europe</td>\n",
       "      <td>1.025571</td>\n",
       "    </tr>\n",
       "    <tr>\n",
       "      <th>26</th>\n",
       "      <td>Other Middle East/Central Asia</td>\n",
       "      <td>0.995803</td>\n",
       "    </tr>\n",
       "    <tr>\n",
       "      <th>27</th>\n",
       "      <td>Other North &amp; Central Amer., Caribbean</td>\n",
       "      <td>1.021003</td>\n",
       "    </tr>\n",
       "    <tr>\n",
       "      <th>28</th>\n",
       "      <td>Other Oceania</td>\n",
       "      <td>1.019591</td>\n",
       "    </tr>\n",
       "    <tr>\n",
       "      <th>29</th>\n",
       "      <td>Other South America</td>\n",
       "      <td>0.997893</td>\n",
       "    </tr>\n",
       "    <tr>\n",
       "      <th>30</th>\n",
       "      <td>Other South Asia</td>\n",
       "      <td>1.017801</td>\n",
       "    </tr>\n",
       "    <tr>\n",
       "      <th>31</th>\n",
       "      <td>Pakistan</td>\n",
       "      <td>1.015588</td>\n",
       "    </tr>\n",
       "    <tr>\n",
       "      <th>32</th>\n",
       "      <td>Philippines</td>\n",
       "      <td>1.000748</td>\n",
       "    </tr>\n",
       "    <tr>\n",
       "      <th>33</th>\n",
       "      <td>Poland</td>\n",
       "      <td>1.012947</td>\n",
       "    </tr>\n",
       "    <tr>\n",
       "      <th>34</th>\n",
       "      <td>Portugal</td>\n",
       "      <td>1.003315</td>\n",
       "    </tr>\n",
       "    <tr>\n",
       "      <th>35</th>\n",
       "      <td>Russian Federation</td>\n",
       "      <td>1.003690</td>\n",
       "    </tr>\n",
       "    <tr>\n",
       "      <th>36</th>\n",
       "      <td>Spain</td>\n",
       "      <td>1.011513</td>\n",
       "    </tr>\n",
       "    <tr>\n",
       "      <th>37</th>\n",
       "      <td>Ukraine</td>\n",
       "      <td>1.011093</td>\n",
       "    </tr>\n",
       "    <tr>\n",
       "      <th>38</th>\n",
       "      <td>United Kingdom</td>\n",
       "      <td>1.010394</td>\n",
       "    </tr>\n",
       "    <tr>\n",
       "      <th>39</th>\n",
       "      <td>United States</td>\n",
       "      <td>1.009231</td>\n",
       "    </tr>\n",
       "    <tr>\n",
       "      <th>40</th>\n",
       "      <td>days_active</td>\n",
       "      <td>1.008643</td>\n",
       "    </tr>\n",
       "    <tr>\n",
       "      <th>41</th>\n",
       "      <td>Bachelor's</td>\n",
       "      <td>1.008002</td>\n",
       "    </tr>\n",
       "    <tr>\n",
       "      <th>42</th>\n",
       "      <td>Doctorate</td>\n",
       "      <td>1.005386</td>\n",
       "    </tr>\n",
       "    <tr>\n",
       "      <th>43</th>\n",
       "      <td>Less than Secondary</td>\n",
       "      <td>1.007188</td>\n",
       "    </tr>\n",
       "    <tr>\n",
       "      <th>44</th>\n",
       "      <td>Master's</td>\n",
       "      <td>1.005952</td>\n",
       "    </tr>\n",
       "    <tr>\n",
       "      <th>45</th>\n",
       "      <td>Secondary</td>\n",
       "      <td>1.006126</td>\n",
       "    </tr>\n",
       "    <tr>\n",
       "      <th>46</th>\n",
       "      <td>f</td>\n",
       "      <td>1.006381</td>\n",
       "    </tr>\n",
       "    <tr>\n",
       "      <th>47</th>\n",
       "      <td>age</td>\n",
       "      <td>1.006744</td>\n",
       "    </tr>\n",
       "  </tbody>\n",
       "</table>\n",
       "</div>"
      ],
      "text/plain": [
       "                                 variables         w\n",
       "0                                   viewed  3.918071\n",
       "1                                 explored  1.930139\n",
       "2                                  nevents  0.039928\n",
       "3                                ndays_act  0.124346\n",
       "4                              nplay_video  0.164388\n",
       "5                                nchapters  0.154892\n",
       "6                             nforum_posts  1.604177\n",
       "7                                Australia  0.322393\n",
       "8                               Bangladesh  0.444625\n",
       "9                                   Brazil  1.394412\n",
       "10                                  Canada  0.667113\n",
       "11                                   China  0.757739\n",
       "12                                Colombia  0.859359\n",
       "13                                   Egypt  1.152118\n",
       "14                                  France  1.139069\n",
       "15                                 Germany  0.899823\n",
       "16                                  Greece  1.114429\n",
       "17                                   India  0.914321\n",
       "18                               Indonesia  1.088281\n",
       "19                                   Japan  1.052507\n",
       "20                                  Mexico  0.969905\n",
       "21                                 Morocco  1.038312\n",
       "22                                 Nigeria  0.983324\n",
       "23                            Other Africa  1.028774\n",
       "24                         Other East Asia  1.026958\n",
       "25                            Other Europe  1.025571\n",
       "26          Other Middle East/Central Asia  0.995803\n",
       "27  Other North & Central Amer., Caribbean  1.021003\n",
       "28                           Other Oceania  1.019591\n",
       "29                     Other South America  0.997893\n",
       "30                        Other South Asia  1.017801\n",
       "31                                Pakistan  1.015588\n",
       "32                             Philippines  1.000748\n",
       "33                                  Poland  1.012947\n",
       "34                                Portugal  1.003315\n",
       "35                      Russian Federation  1.003690\n",
       "36                                   Spain  1.011513\n",
       "37                                 Ukraine  1.011093\n",
       "38                          United Kingdom  1.010394\n",
       "39                           United States  1.009231\n",
       "40                             days_active  1.008643\n",
       "41                              Bachelor's  1.008002\n",
       "42                               Doctorate  1.005386\n",
       "43                     Less than Secondary  1.007188\n",
       "44                                Master's  1.005952\n",
       "45                               Secondary  1.006126\n",
       "46                                       f  1.006381\n",
       "47                                     age  1.006744"
      ]
     },
     "execution_count": 8,
     "metadata": {},
     "output_type": "execute_result"
    }
   ],
   "source": [
    "df"
   ]
  },
  {
   "cell_type": "code",
   "execution_count": 97,
   "metadata": {
    "collapsed": true
   },
   "outputs": [],
   "source": [
    "colums = ['viewed', 'explored', 'nevents', 'ndays_act',\n",
    "       'nplay_video', 'nchapters', 'nforum_posts', 'days_active',\n",
    "       'age']"
   ]
  },
  {
   "cell_type": "code",
   "execution_count": 98,
   "metadata": {
    "collapsed": true
   },
   "outputs": [],
   "source": [
    "n_c = data[colums].corr()"
   ]
  },
  {
   "cell_type": "code",
   "execution_count": 99,
   "metadata": {
    "collapsed": true
   },
   "outputs": [],
   "source": [
    "w, v = np.linalg.eig(n_c)"
   ]
  },
  {
   "cell_type": "code",
   "execution_count": 100,
   "metadata": {
    "collapsed": true
   },
   "outputs": [],
   "source": [
    "df1 = pd.DataFrame(columns= ['variables', 'w'])"
   ]
  },
  {
   "cell_type": "code",
   "execution_count": 101,
   "metadata": {
    "collapsed": true
   },
   "outputs": [],
   "source": [
    "df1['variables'] = n_c.columns\n",
    "df1['w'] = w"
   ]
  },
  {
   "cell_type": "code",
   "execution_count": 102,
   "metadata": {},
   "outputs": [
    {
     "data": {
      "text/html": [
       "<div>\n",
       "<style>\n",
       "    .dataframe thead tr:only-child th {\n",
       "        text-align: right;\n",
       "    }\n",
       "\n",
       "    .dataframe thead th {\n",
       "        text-align: left;\n",
       "    }\n",
       "\n",
       "    .dataframe tbody tr th {\n",
       "        vertical-align: top;\n",
       "    }\n",
       "</style>\n",
       "<table border=\"1\" class=\"dataframe\">\n",
       "  <thead>\n",
       "    <tr style=\"text-align: right;\">\n",
       "      <th></th>\n",
       "      <th>variables</th>\n",
       "      <th>w</th>\n",
       "    </tr>\n",
       "  </thead>\n",
       "  <tbody>\n",
       "    <tr>\n",
       "      <th>0</th>\n",
       "      <td>viewed</td>\n",
       "      <td>3.888165</td>\n",
       "    </tr>\n",
       "    <tr>\n",
       "      <th>1</th>\n",
       "      <td>explored</td>\n",
       "      <td>1.088961</td>\n",
       "    </tr>\n",
       "    <tr>\n",
       "      <th>2</th>\n",
       "      <td>nevents</td>\n",
       "      <td>1.016830</td>\n",
       "    </tr>\n",
       "    <tr>\n",
       "      <th>3</th>\n",
       "      <td>ndays_act</td>\n",
       "      <td>0.953093</td>\n",
       "    </tr>\n",
       "    <tr>\n",
       "      <th>4</th>\n",
       "      <td>nplay_video</td>\n",
       "      <td>0.768979</td>\n",
       "    </tr>\n",
       "    <tr>\n",
       "      <th>5</th>\n",
       "      <td>nchapters</td>\n",
       "      <td>0.669203</td>\n",
       "    </tr>\n",
       "    <tr>\n",
       "      <th>6</th>\n",
       "      <td>nforum_posts</td>\n",
       "      <td>0.164721</td>\n",
       "    </tr>\n",
       "    <tr>\n",
       "      <th>7</th>\n",
       "      <td>days_active</td>\n",
       "      <td>0.127928</td>\n",
       "    </tr>\n",
       "    <tr>\n",
       "      <th>8</th>\n",
       "      <td>age</td>\n",
       "      <td>0.322121</td>\n",
       "    </tr>\n",
       "  </tbody>\n",
       "</table>\n",
       "</div>"
      ],
      "text/plain": [
       "      variables         w\n",
       "0        viewed  3.888165\n",
       "1      explored  1.088961\n",
       "2       nevents  1.016830\n",
       "3     ndays_act  0.953093\n",
       "4   nplay_video  0.768979\n",
       "5     nchapters  0.669203\n",
       "6  nforum_posts  0.164721\n",
       "7   days_active  0.127928\n",
       "8           age  0.322121"
      ]
     },
     "execution_count": 102,
     "metadata": {},
     "output_type": "execute_result"
    }
   ],
   "source": [
    "df1"
   ]
  },
  {
   "cell_type": "code",
   "execution_count": null,
   "metadata": {
    "collapsed": true
   },
   "outputs": [],
   "source": [
    "variables.columns"
   ]
  },
  {
   "cell_type": "code",
   "execution_count": 9,
   "metadata": {
    "collapsed": true
   },
   "outputs": [],
   "source": [
    "excluded = ['course_id', 'o', 'u','userid_DI', 'final_cc_cname_DI', 'start_time_DI', 'last_event_DI', 'LoE_DI','YoB', 'gender','grade'] "
   ]
  },
  {
   "cell_type": "code",
   "execution_count": 10,
   "metadata": {
    "collapsed": true
   },
   "outputs": [],
   "source": [
    "regression_data = data.drop(excluded, axis=1)"
   ]
  },
  {
   "cell_type": "code",
   "execution_count": 119,
   "metadata": {
    "collapsed": true
   },
   "outputs": [],
   "source": [
    "X, y = data.drop(excluded_columns, axis=1), data['grade']"
   ]
  },
  {
   "cell_type": "code",
   "execution_count": 121,
   "metadata": {},
   "outputs": [
    {
     "name": "stdout",
     "output_type": "stream",
     "text": [
      "R2: 0.664331573863\n"
     ]
    }
   ],
   "source": [
    "lm = LinearRegression()\n",
    "lm.fit(X, y)\n",
    "predictions = lm.predict(X)\n",
    "# slope, intercept, r_value, p_value, std_err = stats.linregress(X,y)\n",
    "# predictions = lm.predict(X_test)\n",
    "# print('MSE:', metrics.mean_squared_error(y_test, predictions))\n",
    "# print('RMSE:', np.sqrt(metrics.mean_squared_error(y_test, predictions)))\n",
    "# print('MAE:', metrics.mean_absolute_error(y_test, predictions))\n",
    "print('R2:', metrics.r2_score(y, predictions))"
   ]
  },
  {
   "cell_type": "code",
   "execution_count": 122,
   "metadata": {
    "collapsed": true
   },
   "outputs": [
    {
     "data": {
      "text/plain": [
       "[(-0.021455092134146654, 'viewed'),\n",
       " (0.12989264399133113, 'explored'),\n",
       " (4.1985044848205037e-05, 'nevents'),\n",
       " (0.0034399036901218661, 'ndays_act'),\n",
       " (-7.8216482870242798e-05, 'nplay_video'),\n",
       " (0.0088992639366891561, 'nchapters'),\n",
       " (-0.0067114154689797969, 'nforum_posts'),\n",
       " (0.0042974887997728473, 'Australia'),\n",
       " (-0.0037371560869932929, 'Bangladesh'),\n",
       " (-0.001437617768011054, 'Brazil'),\n",
       " (-0.00075925328683452108, 'Canada'),\n",
       " (0.00056141261073551995, 'China'),\n",
       " (0.0026590992023423298, 'Colombia'),\n",
       " (-0.0034099739769944048, 'Egypt'),\n",
       " (0.004270331737880384, 'France'),\n",
       " (0.0063054610072081213, 'Germany'),\n",
       " (0.00423673580104962, 'Greece'),\n",
       " (0.0042322143477574528, 'India'),\n",
       " (0.00017000426492737178, 'Indonesia'),\n",
       " (-0.0059516952853807545, 'Japan'),\n",
       " (-0.0043626619675569498, 'Mexico'),\n",
       " (-0.0020677732712166405, 'Morocco'),\n",
       " (0.0029384503876285265, 'Nigeria'),\n",
       " (0.0028176157623762592, 'Other Africa'),\n",
       " (-0.0022738384536229372, 'Other East Asia'),\n",
       " (-0.0029404946606684731, 'Other Europe'),\n",
       " (-0.0013266719139076915, 'Other Middle East/Central Asia'),\n",
       " (0.010150608546407005, 'Other North & Central Amer., Caribbean'),\n",
       " (-0.013064106127282028, 'Other Oceania'),\n",
       " (0.0013290466896164494, 'Other South America'),\n",
       " (0.0032647713974025879, 'Other South Asia'),\n",
       " (0.0021309997843488799, 'Pakistan'),\n",
       " (0.0014345504550605616, 'Philippines'),\n",
       " (-0.0057742268186793434, 'Poland'),\n",
       " (0.0058667274226729344, 'Portugal'),\n",
       " (-0.0066315065375786037, 'Russian Federation'),\n",
       " (0.0055665451689920495, 'Spain'),\n",
       " (-0.013735553626323574, 'Ukraine'),\n",
       " (0.00077179740536142353, 'United Kingdom'),\n",
       " (-0.0018429856140799268, 'United States'),\n",
       " (0.0063116546014550384, 'Unknown/Other'),\n",
       " (-4.2781178710156464e-05, 'days_active'),\n",
       " (0.00053225372703868002, \"Bachelor's\"),\n",
       " (0.0019673735779530983, 'Doctorate'),\n",
       " (-0.0045998352912758021, 'Less than Secondary'),\n",
       " (0.0034335056741110056, \"Master's\"),\n",
       " (-0.001207913277736619, 'Secondary'),\n",
       " (-0.00012538441020007636, 'UnknownLoE'),\n",
       " (0.0044938851106086156, 'f'),\n",
       " (-0.0044938851106039786, 'm'),\n",
       " (-0.00031488309542513065, 'age')]"
      ]
     },
     "execution_count": 122,
     "metadata": {},
     "output_type": "execute_result"
    }
   ],
   "source": [
    "list(zip(lm.coef_, X.columns))"
   ]
  },
  {
   "cell_type": "code",
   "execution_count": 123,
   "metadata": {
    "collapsed": true
   },
   "outputs": [
    {
     "data": {
      "text/plain": [
       "<matplotlib.text.Text at 0x249b5980198>"
      ]
     },
     "execution_count": 123,
     "metadata": {},
     "output_type": "execute_result"
    },
    {
     "data": {
      "image/png": "[encoded data removed]",
      "text/plain": [
       "<matplotlib.figure.Figure at 0x249b8d7e5f8>"
      ]
     },
     "metadata": {},
     "output_type": "display_data"
    }
   ],
   "source": [
    "plt.scatter(y,predictions)\n",
    "plt.xlabel('Real grade')\n",
    "plt.ylabel('Predicted grade')"
   ]
  },
  {
   "cell_type": "code",
   "execution_count": 11,
   "metadata": {
    "collapsed": true
   },
   "outputs": [],
   "source": [
    "def reg_model(excluded_columns):\n",
    "    X, y = regression_data.drop(excluded_columns, axis=1), data['grade']\n",
    "    lm = LinearRegression()\n",
    "    lm.fit(X, y)\n",
    "    predictions = lm.predict(X)\n",
    "    return metrics.r2_score(y, predictions)"
   ]
  },
  {
   "cell_type": "code",
   "execution_count": 136,
   "metadata": {
    "collapsed": true
   },
   "outputs": [],
   "source": [
    "a = ['Unknown/Other', 'UnknownLoE', 'm', 'nevents', 'nchapters', 'explored']"
   ]
  },
  {
   "cell_type": "code",
   "execution_count": 138,
   "metadata": {
    "collapsed": true
   },
   "outputs": [],
   "source": [
    "b = ['nevents', 'nchapters', 'explored']"
   ]
  },
  {
   "cell_type": "code",
   "execution_count": 132,
   "metadata": {},
   "outputs": [
    {
     "data": {
      "text/plain": [
       "0.66433157386327846"
      ]
     },
     "execution_count": 132,
     "metadata": {},
     "output_type": "execute_result"
    }
   ],
   "source": [
    "reg_model([])"
   ]
  },
  {
   "cell_type": "code",
   "execution_count": 137,
   "metadata": {},
   "outputs": [
    {
     "data": {
      "text/plain": [
       "0.54373607322503326"
      ]
     },
     "execution_count": 137,
     "metadata": {},
     "output_type": "execute_result"
    }
   ],
   "source": [
    "reg_model(a)"
   ]
  },
  {
   "cell_type": "code",
   "execution_count": 139,
   "metadata": {},
   "outputs": [
    {
     "data": {
      "text/plain": [
       "0.54373607139547775"
      ]
     },
     "execution_count": 139,
     "metadata": {},
     "output_type": "execute_result"
    }
   ],
   "source": [
    "reg_model(b)"
   ]
  },
  {
   "cell_type": "code",
   "execution_count": 140,
   "metadata": {
    "collapsed": true
   },
   "outputs": [],
   "source": [
    "c = ['nforum_posts', 'days_active']"
   ]
  },
  {
   "cell_type": "code",
   "execution_count": 141,
   "metadata": {},
   "outputs": [
    {
     "data": {
      "text/plain": [
       "0.66398230215765541"
      ]
     },
     "execution_count": 141,
     "metadata": {},
     "output_type": "execute_result"
    }
   ],
   "source": [
    "reg_model(c)"
   ]
  },
  {
   "cell_type": "code",
   "execution_count": 21,
   "metadata": {
    "collapsed": true
   },
   "outputs": [],
   "source": [
    "potential = ['nevents', 'nchapters', 'days_active', 'ndays_act', 'explored', 'nplay_video', 'age']"
   ]
  },
  {
   "cell_type": "code",
   "execution_count": 22,
   "metadata": {
    "collapsed": true
   },
   "outputs": [],
   "source": [
    "import itertools"
   ]
  },
  {
   "cell_type": "code",
   "execution_count": null,
   "metadata": {
    "collapsed": true
   },
   "outputs": [],
   "source": []
  },
  {
   "cell_type": "code",
   "execution_count": 23,
   "metadata": {
    "collapsed": true
   },
   "outputs": [
    {
     "name": "stdout",
     "output_type": "stream",
     "text": [
      "0.640918817231('nevents',)\n",
      "0.650563799946('nchapters',)\n",
      "0.664031555417('days_active',)\n",
      "0.651038625501('ndays_act',)\n",
      "0.648905300061('explored',)\n",
      "0.659410198648('nplay_video',)\n",
      "0.664094359595('age',)\n",
      "0.623157983423('nevents', 'nchapters')\n",
      "0.63993654287('nevents', 'days_active')\n",
      "0.575903057956('nevents', 'ndays_act')\n",
      "0.623088321728('nevents', 'explored')\n",
      "0.64021427862('nevents', 'nplay_video')\n",
      "0.64058649234('nevents', 'age')\n",
      "0.650518574968('nchapters', 'days_active')\n",
      "0.629718169912('nchapters', 'ndays_act')\n",
      "0.586826210916('nchapters', 'explored')\n",
      "0.643472024759('nchapters', 'nplay_video')\n",
      "0.650390901213('nchapters', 'age')\n",
      "0.65101853763('days_active', 'ndays_act')\n",
      "0.648838913862('days_active', 'explored')\n",
      "0.659010055021('days_active', 'nplay_video')\n",
      "0.663793871673('days_active', 'age')\n",
      "0.63297703268('ndays_act', 'explored')\n",
      "0.64483888335('ndays_act', 'nplay_video')\n",
      "0.650827959244('ndays_act', 'age')\n",
      "0.64411824675('explored', 'nplay_video')\n",
      "0.648659296492('explored', 'age')\n",
      "0.659160377766('nplay_video', 'age')\n",
      "0.622739710962('nevents', 'nchapters', 'days_active')\n",
      "0.520308893147('nevents', 'nchapters', 'ndays_act')\n",
      "0.543736071395('nevents', 'nchapters', 'explored')\n",
      "0.622848069487('nevents', 'nchapters', 'nplay_video')\n",
      "0.622905034067('nevents', 'nchapters', 'age')\n",
      "0.575239206113('nevents', 'days_active', 'ndays_act')\n",
      "0.622596638334('nevents', 'days_active', 'explored')\n",
      "0.639197535807('nevents', 'days_active', 'nplay_video')\n",
      "0.639601276921('nevents', 'days_active', 'age')\n",
      "0.545905026877('nevents', 'ndays_act', 'explored')\n",
      "0.55278538379('nevents', 'ndays_act', 'nplay_video')\n",
      "0.575535616221('nevents', 'ndays_act', 'age')\n",
      "0.621943157206('nevents', 'explored', 'nplay_video')\n",
      "0.622739335675('nevents', 'explored', 'age')\n",
      "0.639875640248('nevents', 'nplay_video', 'age')\n",
      "0.629104389766('nchapters', 'days_active', 'ndays_act')\n",
      "0.585522915079('nchapters', 'days_active', 'explored')\n",
      "0.643389592747('nchapters', 'days_active', 'nplay_video')\n",
      "0.650345209502('nchapters', 'days_active', 'age')\n",
      "0.535316982448('nchapters', 'ndays_act', 'explored')\n",
      "0.619861509729('nchapters', 'ndays_act', 'nplay_video')\n",
      "0.629588441238('nchapters', 'ndays_act', 'age')\n",
      "0.575724000739('nchapters', 'explored', 'nplay_video')\n",
      "0.586725927469('nchapters', 'explored', 'age')\n",
      "0.64329113257('nchapters', 'nplay_video', 'age')\n",
      "0.632691388717('days_active', 'ndays_act', 'explored')\n",
      "0.644832502886('days_active', 'ndays_act', 'nplay_video')\n",
      "0.650808178759('days_active', 'ndays_act', 'age')\n",
      "0.644000858472('days_active', 'explored', 'nplay_video')\n",
      "0.64859272801('days_active', 'explored', 'age')\n",
      "0.65875953853('days_active', 'nplay_video', 'age')\n",
      "0.626812501341('ndays_act', 'explored', 'nplay_video')\n",
      "0.632759946055('ndays_act', 'explored', 'age')\n",
      "0.644616136837('ndays_act', 'nplay_video', 'age')\n",
      "0.643859625486('explored', 'nplay_video', 'age')\n",
      "0.518018126531('nevents', 'nchapters', 'days_active', 'ndays_act')\n",
      "0.543153213491('nevents', 'nchapters', 'days_active', 'explored')\n",
      "0.622413741907('nevents', 'nchapters', 'days_active', 'nplay_video')\n",
      "0.622484137771('nevents', 'nchapters', 'days_active', 'age')\n",
      "0.255525109996('nevents', 'nchapters', 'ndays_act', 'explored')\n",
      "0.488492463516('nevents', 'nchapters', 'ndays_act', 'nplay_video')\n",
      "0.520077789606('nevents', 'nchapters', 'ndays_act', 'age')\n",
      "0.543288213174('nevents', 'nchapters', 'explored', 'nplay_video')\n",
      "0.543389669833('nevents', 'nchapters', 'explored', 'age')\n",
      "0.622581514708('nevents', 'nchapters', 'nplay_video', 'age')\n",
      "0.545091889718('nevents', 'days_active', 'ndays_act', 'explored')\n",
      "0.552360764148('nevents', 'days_active', 'ndays_act', 'nplay_video')\n",
      "0.574953128323('nevents', 'days_active', 'ndays_act', 'age')\n",
      "0.62142376981('nevents', 'days_active', 'explored', 'nplay_video')\n",
      "0.622245709183('nevents', 'days_active', 'explored', 'age')\n",
      "0.638855645475('nevents', 'days_active', 'nplay_video', 'age')\n",
      "0.514692193867('nevents', 'ndays_act', 'explored', 'nplay_video')\n",
      "0.545507454392('nevents', 'ndays_act', 'explored', 'age')\n",
      "0.552359826628('nevents', 'ndays_act', 'nplay_video', 'age')\n",
      "0.621579570851('nevents', 'explored', 'nplay_video', 'age')\n",
      "0.524641419908('nchapters', 'days_active', 'ndays_act', 'explored')\n",
      "0.619279238269('nchapters', 'days_active', 'ndays_act', 'nplay_video')\n",
      "0.628977668431('nchapters', 'days_active', 'ndays_act', 'age')\n",
      "0.57452740622('nchapters', 'days_active', 'explored', 'nplay_video')\n",
      "0.585426056029('nchapters', 'days_active', 'explored', 'age')\n",
      "0.643208031565('nchapters', 'days_active', 'nplay_video', 'age')\n",
      "0.51677123709('nchapters', 'ndays_act', 'explored', 'nplay_video')\n",
      "0.535277612177('nchapters', 'ndays_act', 'explored', 'age')\n",
      "0.619726410666('nchapters', 'ndays_act', 'nplay_video', 'age')\n",
      "0.575618255866('nchapters', 'explored', 'nplay_video', 'age')\n",
      "0.626589472776('days_active', 'ndays_act', 'explored', 'nplay_video')\n",
      "0.632475411185('days_active', 'ndays_act', 'explored', 'age')\n",
      "0.644609943648('days_active', 'ndays_act', 'nplay_video', 'age')\n",
      "0.643741910912('days_active', 'explored', 'nplay_video', 'age')\n",
      "0.626583195988('ndays_act', 'explored', 'nplay_video', 'age')\n",
      "0.207410313459('nevents', 'nchapters', 'days_active', 'ndays_act', 'explored')\n",
      "0.48587254545('nevents', 'nchapters', 'days_active', 'ndays_act', 'nplay_video')\n",
      "0.517793631316('nevents', 'nchapters', 'days_active', 'ndays_act', 'age')\n",
      "0.542735947636('nevents', 'nchapters', 'days_active', 'explored', 'nplay_video')\n",
      "0.542985072477('nevents', 'nchapters', 'days_active', 'explored', 'age')\n",
      "0.622153631953('nevents', 'nchapters', 'days_active', 'nplay_video', 'age')\n",
      "0.135360870995('nevents', 'nchapters', 'ndays_act', 'explored', 'nplay_video')\n",
      "0.255450940839('nevents', 'nchapters', 'ndays_act', 'explored', 'age')\n",
      "0.48831827653('nevents', 'nchapters', 'ndays_act', 'nplay_video', 'age')\n",
      "0.54311210864('nevents', 'nchapters', 'explored', 'nplay_video', 'age')\n",
      "0.512991695992('nevents', 'days_active', 'ndays_act', 'explored', 'nplay_video')\n",
      "0.544688436847('nevents', 'days_active', 'ndays_act', 'explored', 'age')\n",
      "0.551934978341('nevents', 'days_active', 'ndays_act', 'nplay_video', 'age')\n",
      "0.621063938313('nevents', 'days_active', 'explored', 'nplay_video', 'age')\n",
      "0.514223774933('nevents', 'ndays_act', 'explored', 'nplay_video', 'age')\n",
      "0.505430025285('nchapters', 'days_active', 'ndays_act', 'explored', 'nplay_video')\n",
      "0.524613676054('nchapters', 'days_active', 'ndays_act', 'explored', 'age')\n",
      "0.619147137491('nchapters', 'days_active', 'ndays_act', 'nplay_video', 'age')\n",
      "0.574425058518('nchapters', 'days_active', 'explored', 'nplay_video', 'age')\n",
      "0.516731173622('nchapters', 'ndays_act', 'explored', 'nplay_video', 'age')\n",
      "0.626361233877('days_active', 'ndays_act', 'explored', 'nplay_video', 'age')\n",
      "0.0518663825489('nevents', 'nchapters', 'days_active', 'ndays_act', 'explored', 'nplay_video')\n",
      "0.207366310368('nevents', 'nchapters', 'days_active', 'ndays_act', 'explored', 'age')\n",
      "0.485606506868('nevents', 'nchapters', 'days_active', 'ndays_act', 'nplay_video', 'age')\n",
      "0.542563564416('nevents', 'nchapters', 'days_active', 'explored', 'nplay_video', 'age')\n",
      "0.135261297414('nevents', 'nchapters', 'ndays_act', 'explored', 'nplay_video', 'age')\n",
      "0.512522903559('nevents', 'days_active', 'ndays_act', 'explored', 'nplay_video', 'age')\n",
      "0.505402019803('nchapters', 'days_active', 'ndays_act', 'explored', 'nplay_video', 'age')\n",
      "0.0518084399346('nevents', 'nchapters', 'days_active', 'ndays_act', 'explored', 'nplay_video', 'age')\n"
     ]
    }
   ],
   "source": [
    "for L in range(1, len(potential)+1):\n",
    "    for subset in itertools.combinations(potential, L):\n",
    "        print(str(reg_model(list(subset))) + str(subset))"
   ]
  },
  {
   "cell_type": "code",
   "execution_count": 37,
   "metadata": {
    "collapsed": true
   },
   "outputs": [],
   "source": [
    "cols = ['nchapters', 'days_active', 'nplay_video', 'age', 'm', 'UnknownLoE', 'Unknown/Other']"
   ]
  },
  {
   "cell_type": "code",
   "execution_count": 38,
   "metadata": {},
   "outputs": [
    {
     "name": "stdout",
     "output_type": "stream",
     "text": [
      "R2: 0.643208031565\n"
     ]
    }
   ],
   "source": [
    "X, y = regression_data.drop(cols, axis=1), data['grade']\n",
    "lm = LinearRegression()\n",
    "lm.fit(X, y)\n",
    "predictions = lm.predict(X)\n",
    "print('R2:', metrics.r2_score(y, predictions))"
   ]
  },
  {
   "cell_type": "code",
   "execution_count": 39,
   "metadata": {},
   "outputs": [
    {
     "data": {
      "text/plain": [
       "[('viewed', -0.0053201229264707101),\n",
       " ('explored', 0.2107163868212053),\n",
       " ('nevents', 3.1782418661568251e-05),\n",
       " ('ndays_act', 0.0043903907823265517),\n",
       " ('nforum_posts', 0.0023451515032968939),\n",
       " ('Australia', -0.0019064713005046904),\n",
       " ('Bangladesh', -0.009583361768173081),\n",
       " ('Brazil', -0.0066628232581634472),\n",
       " ('Canada', -0.0064692346964872471),\n",
       " ('China', -0.0037584853751270672),\n",
       " ('Colombia', -0.0031199105046029567),\n",
       " ('Egypt', -0.011215568617616092),\n",
       " ('France', 0.0008039783663200753),\n",
       " ('Germany', 0.0039348993795217547),\n",
       " ('Greece', 0.0045163300717540045),\n",
       " ('India', -0.00045798433341079359),\n",
       " ('Indonesia', -0.0041480329171961518),\n",
       " ('Japan', -0.0084086031164866213),\n",
       " ('Mexico', -0.010659630250461795),\n",
       " ('Morocco', -0.0072732109568543262),\n",
       " ('Nigeria', -0.0062604400347556904),\n",
       " ('Other Africa', -0.0060017456917670561),\n",
       " ('Other East Asia', -0.0048660114749966713),\n",
       " ('Other Europe', -0.0070315953460302477),\n",
       " ('Other Middle East/Central Asia', -0.0068227610450800162),\n",
       " ('Other North & Central Amer., Caribbean', 0.0027101231448044254),\n",
       " ('Other Oceania', -0.019483859323982906),\n",
       " ('Other South America', -0.0050893411604149138),\n",
       " ('Other South Asia', -0.0011082529261645358),\n",
       " ('Pakistan', -0.0031519535216797089),\n",
       " ('Philippines', -0.0042561783370723763),\n",
       " ('Poland', -0.0092789810794482001),\n",
       " ('Portugal', -0.0011015371133661226),\n",
       " ('Russian Federation', -0.013441967935339819),\n",
       " ('Spain', -0.00046441871504390828),\n",
       " ('Ukraine', -0.018786434159833588),\n",
       " ('United Kingdom', -0.0046637374246050189),\n",
       " ('United States', -0.0095468590919269448),\n",
       " (\"Bachelor's\", 0.00071590081612916273),\n",
       " ('Doctorate', -5.7421388714199925e-05),\n",
       " ('Less than Secondary', 0.0012757067696562499),\n",
       " (\"Master's\", 0.0021310526852607072),\n",
       " ('Secondary', 0.00097721670657176241),\n",
       " ('f', 0.0091418371861565068)]"
      ]
     },
     "execution_count": 39,
     "metadata": {},
     "output_type": "execute_result"
    }
   ],
   "source": [
    "list(zip(X.columns, lm.coef_))"
   ]
  },
  {
   "cell_type": "code",
   "execution_count": 34,
   "metadata": {},
   "outputs": [
    {
     "data": {
      "text/plain": [
       "-0.0031258695978068629"
      ]
     },
     "execution_count": 34,
     "metadata": {},
     "output_type": "execute_result"
    }
   ],
   "source": [
    "lm.intercept_"
   ]
  },
  {
   "cell_type": "code",
   "execution_count": 36,
   "metadata": {},
   "outputs": [
    {
     "data": {
      "text/plain": [
       "(array([  1.42910243e+04,   4.55802468e+05,   4.97600346e+05,\n",
       "          5.78924714e+05,   6.32284474e+03,   7.01051029e+00,\n",
       "          2.92469920e+01,   4.59315834e+00,   8.41254238e-02,\n",
       "          1.78342543e+01,   6.55812122e+01,   6.06763948e+01,\n",
       "          5.25778870e+01,   3.04879535e+02,   2.03863286e+02,\n",
       "          8.20236054e+02,   2.48426537e+00,   9.18758886e+00,\n",
       "          5.19709491e-01,   7.44791258e+01,   8.25988808e+00,\n",
       "          6.69071353e+00,   8.16783415e+00,   6.05204827e+02,\n",
       "          3.05147218e+01,   3.12032613e+01,   5.96058558e+00,\n",
       "          1.19740756e+01,   2.80663387e+01,   6.33126359e+01,\n",
       "          1.47376537e+01,   5.18131273e+02,   7.46517186e+01,\n",
       "          3.97762143e+02,   1.41666112e+03,   1.11301297e+02,\n",
       "          8.42582031e+01,   3.04030812e+02,   3.59024777e+03,\n",
       "          1.55988088e+02,   5.92512337e+01,   3.65799551e+00,\n",
       "          9.02287669e+02,   1.19106918e+02,   2.46799377e+02,\n",
       "          2.91292857e+02,   2.91292857e+02]),\n",
       " array([  0.00000000e+000,   0.00000000e+000,   0.00000000e+000,\n",
       "          0.00000000e+000,   0.00000000e+000,   8.10351492e-003,\n",
       "          6.37444613e-008,   3.21002980e-002,   7.71782828e-001,\n",
       "          2.41048276e-005,   5.58928636e-016,   6.74013404e-015,\n",
       "          4.14118856e-013,   2.98699865e-068,   3.06212010e-046,\n",
       "          3.02187222e-180,   1.14990668e-001,   2.43674243e-003,\n",
       "          4.70965972e-001,   6.14594240e-018,   4.05323521e-003,\n",
       "          9.69192344e-003,   4.26415718e-003,   1.48692314e-133,\n",
       "          3.31508575e-008,   2.32496941e-008,   1.46295294e-002,\n",
       "          5.39503652e-004,   1.17277153e-007,   1.76738066e-015,\n",
       "          1.23569306e-004,   1.23653078e-114,   5.63152731e-018,\n",
       "          1.83216609e-088,   1.38713717e-309,   5.11527444e-026,\n",
       "          4.35795191e-020,   4.57110007e-068,   0.00000000e+000,\n",
       "          8.62336858e-036,   1.39027930e-014,   5.58013049e-002,\n",
       "          4.71340771e-198,   9.99596469e-028,   1.33564589e-055,\n",
       "          2.71391569e-065,   2.71391569e-065]))"
      ]
     },
     "execution_count": 36,
     "metadata": {},
     "output_type": "execute_result"
    }
   ],
   "source": [
    "sk.feature_selection.f_regression(X,y)"
   ]
  },
  {
   "cell_type": "code",
   "execution_count": null,
   "metadata": {
    "collapsed": true
   },
   "outputs": [],
   "source": [
    "slope, intercept, r_value, p_value, std_err = stats.linregress(data['ndays_act'],data['grade'])"
   ]
  }
 ],
 "metadata": {
  "kernelspec": {
   "display_name": "Python 3",
   "language": "python",
   "name": "python3"
  },
  "language_info": {
   "codemirror_mode": {
    "name": "ipython",
    "version": 3
   },
   "file_extension": ".py",
   "mimetype": "text/x-python",
   "name": "python",
   "nbconvert_exporter": "python",
   "pygments_lexer": "ipython3",
   "version": "3.6.1"
  }
 },
 "nbformat": 4,
 "nbformat_minor": 2
}
