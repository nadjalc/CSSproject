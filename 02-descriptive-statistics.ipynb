{
 "cells": [
  {
   "cell_type": "code",
   "execution_count": 1,
   "metadata": {
    "collapsed": true
   },
   "outputs": [],
   "source": [
    "import pandas as pd\n",
    "import numpy as np\n",
    "import math\n",
    "import scipy \n",
    "from scipy import stats\n",
    "import matplotlib.pyplot as plt\n",
    "%matplotlib inline"
   ]
  },
  {
   "cell_type": "code",
   "execution_count": 2,
   "metadata": {
    "collapsed": true
   },
   "outputs": [],
   "source": [
    "df= pd.read_csv('C:\\\\Users\\\\hp\\\\Desktop\\\\5th Semester\\\\Computational Social Science\\\\project\\\\HMXPC13_DI_v2_5-14-14.csv')"
   ]
  },
  {
   "cell_type": "code",
   "execution_count": null,
   "metadata": {
    "collapsed": true
   },
   "outputs": [],
   "source": [
    "#used function: https://docs.scipy.org/doc/scipy-0.14.0/reference/generated/scipy.stats.pointbiserialr.html \n",
    "#correlation between a binary column and a column with continuous values\n",
    "def binary_correlation_grade(x,y):\n",
    "    import scipy \n",
    "    from scipy import stats\n",
    "    x_list = data[x].tolist();\n",
    "    y_list = data[y].tolist();\n",
    "    corcoef = scipy.stats.pointbiserialr(x_list, y_list)\n",
    "    print(\"Correlation between age and grade: \",corcoef[0])\n",
    "    print(\"strength of correlation between age and grade\",corcoef[1])\n",
    "    #preferred: NOT to have a scatter plot for binary correlation\n",
    "    plt.scatter(x_list,y_list)\n",
    "    title_plot = \"Correlation between \" +  x + \" and \"+ y\n",
    "    plt.title(title_plot)\n",
    "    plt.xlabel(x)\n",
    "    plt.ylabel(y)\n",
    "    plt.show()\n",
    "\n",
    "#correlation between 2 columns having diverse integer values\n",
    "def pearson_correlation_grade(x,y):\n",
    "    import scipy \n",
    "    from scipy import stats\n",
    "    x_list = data[x].tolist();\n",
    "    y_list = data[y].tolist();\n",
    "    corcoef = scipy.stats.pearsonr(x_list, y_list)\n",
    "    print(\"Correlation between age and grade: \",corcoef[0])\n",
    "    print(\"strength of correlation between age and grade\",corcoef[1])\n",
    "    '''plt.scatter(x_list,y_list)\n",
    "    title_plot = \"Correlation between \" +  x + \" and \"+ y\n",
    "    plt.title(title_plot)\n",
    "    plt.xlabel(x)\n",
    "    plt.ylabel(y)'''\n",
    "    plt.show()\n",
    "#clean data, convert in binary format and call following functions\n",
    "#binary_correlation_grade('grade', 'explored')\n",
    "#binary_correlation_grade('grade', 'certified')\n",
    "#binary_correlation_grade('grade', 'viewed')\n",
    "#binary_correlation_grade('grade', 'gender')\n",
    "\n",
    "#pearson_correlation_grade('grade', 'YoB') #convert year of birth into age first\n",
    "#pearson_correlation_grade('grade', 'total_time') # total_time(hours) = start_time_DI - last_event_DI\n",
    "#pearson_correlation_grade('grade', 'nevents') #?\n",
    "#pearson_correlation_grade('grade', 'nplay_video') \n",
    "#pearson_correlation_grade('grade', 'nchapters') \n",
    "#pearson_correlation_grade('grade', 'nforum_posts') \n",
    "\n",
    "\n",
    "#Not clear, level of education, country \n",
    "def box_plot(x_cont,y_nominal):\n",
    "    #data.boxplot(column=['grade', 'nchapters'])\n",
    "    abc = data.boxplot(column=[x_cont, y_nominal])\n",
    "#box_plot('grade','final_cc_cname_DI')\n",
    "#box_plot('grade','LoE_DI')\n"
   ]
  }
 ],
 "metadata": {
  "kernelspec": {
   "display_name": "Python [conda root]",
   "language": "python",
   "name": "conda-root-py"
  },
  "language_info": {
   "codemirror_mode": {
    "name": "ipython",
    "version": 3
   },
   "file_extension": ".py",
   "mimetype": "text/x-python",
   "name": "python",
   "nbconvert_exporter": "python",
   "pygments_lexer": "ipython3",
   "version": "3.5.2"
  }
 },
 "nbformat": 4,
 "nbformat_minor": 1
}
