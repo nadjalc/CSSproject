{
 "cells": [
  {
   "cell_type": "code",
   "execution_count": 1,
   "metadata": {
    "collapsed": true
   },
   "outputs": [],
   "source": [
    "import pandas as pd\n",
    "import numpy as np\n",
    "import math\n",
    "import seaborn as sns\n",
    "from datetime import date\n",
    "import datetime\n",
    "from sklearn import metrics\n",
    "import sklearn as sk\n",
    "import six\n",
    "from scipy import stats\n",
    "import matplotlib.pyplot as plt\n",
    "%matplotlib inline\n",
    "from pylab import rcParams\n",
    "rcParams['figure.figsize'] = 16, 9"
   ]
  },
  {
   "cell_type": "code",
   "execution_count": 2,
   "metadata": {
    "collapsed": true
   },
   "outputs": [],
   "source": [
    "data = pd.read_csv('cleaned_data.csv')"
   ]
  },
  {
   "cell_type": "code",
   "execution_count": 3,
   "metadata": {},
   "outputs": [
    {
     "name": "stdout",
     "output_type": "stream",
     "text": [
      "Total Number of Rows: 494790\n"
     ]
    }
   ],
   "source": [
    "# We get a global variable of rowCount \n",
    "rowCount = data.shape[0]\n",
    "print(\"Total Number of Rows:\",rowCount)"
   ]
  },
  {
   "cell_type": "code",
   "execution_count": 5,
   "metadata": {},
   "outputs": [
    {
     "data": {
      "text/plain": [
       "Index(['course_id', 'userid_DI', 'viewed', 'explored', 'final_cc_cname_DI',\n",
       "       'LoE_DI', 'YoB', 'gender', 'grade', 'start_time_DI', 'last_event_DI',\n",
       "       'nevents', 'ndays_act', 'nplay_video', 'nchapters', 'nforum_posts',\n",
       "       'Australia', 'Bangladesh', 'Brazil', 'Canada', 'China', 'Colombia',\n",
       "       'Egypt', 'France', 'Germany', 'Greece', 'India', 'Indonesia', 'Japan',\n",
       "       'Mexico', 'Morocco', 'Nigeria', 'Other Africa', 'Other East Asia',\n",
       "       'Other Europe', 'Other Middle East/Central Asia',\n",
       "       'Other North & Central Amer., Caribbean', 'Other Oceania',\n",
       "       'Other South America', 'Other South Asia', 'Pakistan', 'Philippines',\n",
       "       'Poland', 'Portugal', 'Russian Federation', 'Spain', 'Ukraine',\n",
       "       'United Kingdom', 'United States', 'Unknown/Other', 'total_activity',\n",
       "       'Bachelor's', 'Doctorate', 'Less than Secondary', 'Master's',\n",
       "       'Secondary', 'UnknownLoE', 'f', 'm', 'o', 'u', 'age'],\n",
       "      dtype='object')"
      ]
     },
     "execution_count": 5,
     "metadata": {},
     "output_type": "execute_result"
    }
   ],
   "source": [
    "data.columns"
   ]
  },
  {
   "cell_type": "code",
   "execution_count": 7,
   "metadata": {
    "collapsed": true
   },
   "outputs": [],
   "source": [
    "def percentage(part, whole):\n",
    "  return 100 * float(part)/float(whole)"
   ]
  },
  {
   "cell_type": "code",
   "execution_count": 9,
   "metadata": {},
   "outputs": [
    {
     "name": "stdout",
     "output_type": "stream",
     "text": [
      "All unique values for viewed are: [0 1]\n",
      "Number of people who viewed the courses is: 309291\n",
      "62.50954950585097 % people viewed the courses\n"
     ]
    }
   ],
   "source": [
    "# --------------------------------------------------- Viewed ---------------------------------------------------------------- # \n",
    "print(\"All unique values for viewed are:\",data['viewed'].unique())\n",
    "# [0 1] shows that either the person has viewed a course or not.\n",
    "# No need to clean any data in this column as no NaN values exist.\n",
    "\n",
    "viewed = data.query('viewed == 1')['viewed'].count()\n",
    "print(\"Number of people who viewed the courses is:\",viewed)\n",
    "\n",
    "perViewed = percentage(viewed, rowCount)\n",
    "print(perViewed,\"% of people viewed the courses\")"
   ]
  },
  {
   "cell_type": "code",
   "execution_count": 11,
   "metadata": {},
   "outputs": [
    {
     "name": "stdout",
     "output_type": "stream",
     "text": [
      "All unique values for explored are: [0 1]\n",
      "Number of people who explored highest parts of courses: 30723\n",
      "Only 6.209300915539926 % people explored the highest parts of courses\n"
     ]
    }
   ],
   "source": [
    "# --------------------------------------------------- Explored ---------------------------------------------------------------- # \n",
    "print(\"All unique values for explored are:\",data['explored'].unique())\n",
    "# [0 1] shows that either the person has explored a course or not.\n",
    "# No need to clean any data in this column as no NaN values exist.\n",
    "\n",
    "explored = data.query('explored == 1')['explored'].count()\n",
    "print(\"Number of people who explored highest parts of courses:\",explored)\n",
    "\n",
    "perExplored = percentage(explored, rowCount)\n",
    "print(\"Only\",perExplored,\"% people explored the highest parts of courses\")"
   ]
  },
  {
   "cell_type": "code",
   "execution_count": null,
   "metadata": {
    "collapsed": true
   },
   "outputs": [],
   "source": []
  }
 ],
 "metadata": {
  "kernelspec": {
   "display_name": "Python 3",
   "language": "python",
   "name": "python3"
  },
  "language_info": {
   "codemirror_mode": {
    "name": "ipython",
    "version": 3
   },
   "file_extension": ".py",
   "mimetype": "text/x-python",
   "name": "python",
   "nbconvert_exporter": "python",
   "pygments_lexer": "ipython3",
   "version": "3.6.1"
  }
 },
 "nbformat": 4,
 "nbformat_minor": 2
}
